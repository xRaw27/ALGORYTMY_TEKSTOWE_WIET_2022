{
 "cells": [
  {
   "cell_type": "markdown",
   "metadata": {},
   "source": [
    "## 1. Implementacja algorytmów wyszukiwania wzorców:"
   ]
  },
  {
   "cell_type": "markdown",
   "metadata": {
    "pycharm": {
     "name": "#%% md\n"
    }
   },
   "source": [
    "### Algorytm naiwny"
   ]
  },
  {
   "cell_type": "code",
   "execution_count": 1,
   "metadata": {
    "pycharm": {
     "name": "#%%\n"
    }
   },
   "outputs": [],
   "source": [
    "def naive_string_matching(text, pattern):\n",
    "    results = []\n",
    "    for s in range(0, len(text) - len(pattern) + 1):\n",
    "        if text[s:s+len(pattern)] == pattern:\n",
    "            results.append(s)\n",
    "\n",
    "    return results"
   ]
  },
  {
   "cell_type": "markdown",
   "metadata": {
    "pycharm": {
     "name": "#%% md\n"
    }
   },
   "source": [
    "### Automat skończony"
   ]
  },
  {
   "cell_type": "code",
   "execution_count": 2,
   "metadata": {
    "pycharm": {
     "name": "#%%\n"
    }
   },
   "outputs": [],
   "source": [
    "def transition_table(pattern):\n",
    "    m = len(pattern)\n",
    "    alphabet = set(pattern)\n",
    "    result = [{} for _ in range(m + 1)]\n",
    "\n",
    "    for q in range(0, m + 1):\n",
    "        for a in alphabet:\n",
    "            k = min(m, q + 1)\n",
    "            while k != 0 and (pattern[:q] + a)[-k:] != pattern[:k]:\n",
    "                k -= 1\n",
    "            result[q][a] = k\n",
    "\n",
    "    return result\n",
    "\n",
    "\n",
    "def fa_string_matching(text, transition_tab):\n",
    "    result = []\n",
    "\n",
    "    q = 0\n",
    "    m = len(transition_tab) - 1\n",
    "    for i in range(0, len(text)):\n",
    "        if text[i] in transition_tab[q]:\n",
    "            q = transition_tab[q][text[i]]\n",
    "            if q == m:\n",
    "                result.append(i + 1 - q)\n",
    "        else:\n",
    "            q = 0\n",
    "\n",
    "    return result"
   ]
  },
  {
   "cell_type": "markdown",
   "metadata": {
    "pycharm": {
     "name": "#%% md\n"
    }
   },
   "source": [
    "### Algorytm KMP"
   ]
  },
  {
   "cell_type": "code",
   "execution_count": 3,
   "metadata": {
    "pycharm": {
     "name": "#%%\n"
    }
   },
   "outputs": [],
   "source": [
    "def prefix_function(pattern):\n",
    "    pi = [0]\n",
    "    k = 0\n",
    "    for q in range(1, len(pattern)):\n",
    "        while k > 0 and pattern[k] != pattern[q]:\n",
    "            k = pi[k-1]\n",
    "        if pattern[k] == pattern[q]:\n",
    "            k = k + 1\n",
    "        pi.append(k)\n",
    "\n",
    "    return pi\n",
    "\n",
    "\n",
    "def kmp_string_matching(text, pattern, pi):\n",
    "    result = []\n",
    "\n",
    "    q = 0\n",
    "    for i in range(0, len(text)):\n",
    "        while q > 0 and pattern[q] != text[i]:\n",
    "            q = pi[q-1]\n",
    "        if pattern[q] == text[i]:\n",
    "            q = q + 1\n",
    "        if q == len(pattern):\n",
    "            result.append(i + 1 - q)\n",
    "            q = pi[q-1]\n",
    "\n",
    "    return result"
   ]
  },
  {
   "cell_type": "code",
   "execution_count": 4,
   "metadata": {
    "pycharm": {
     "name": "#%%\n"
    }
   },
   "outputs": [],
   "source": [
    "from time import time\n",
    "import matplotlib.pyplot as plt\n",
    "\n",
    "def time_function(fun):\n",
    "    start = time()\n",
    "    fun()\n",
    "    end = time()\n",
    "    return end - start\n",
    "\n",
    "def pretty_print(t):\n",
    "    if len(t) <= 12:\n",
    "        return str(t)\n",
    "    else:\n",
    "        return \"[\" + \"\".join([str(x) + \", \" for x in t[:12]]) + \"(...)]\""
   ]
  },
  {
   "cell_type": "markdown",
   "metadata": {
    "pycharm": {
     "name": "#%% md\n"
    }
   },
   "source": [
    "## 2. Testy porównujące szybkość działania wyżej wymienionych algorytmów."
   ]
  },
  {
   "cell_type": "markdown",
   "metadata": {
    "pycharm": {
     "name": "#%% md\n"
    }
   },
   "source": [
    "### Wzorzec 10 znaków, długość tekstu od 2'600'000 do 26'000'000 znaków"
   ]
  },
  {
   "cell_type": "code",
   "execution_count": 5,
   "metadata": {
    "pycharm": {
     "name": "#%%\n"
    }
   },
   "outputs": [
    {
     "data": {
      "image/png": "[encoded data removed]",
      "text/plain": [
       "<Figure size 432x288 with 1 Axes>"
      ]
     },
     "metadata": {
      "needs_background": "light"
     },
     "output_type": "display_data"
    }
   ],
   "source": [
    "texts1 = [\"qwertyuiopasdfghjklzxcvbnm\" * x for x in range(100000, 1000001, 200000)]\n",
    "pattern1 = \"qwertyuiop\"\n",
    "\n",
    "results_naive = [time_function(lambda: naive_string_matching(x, pattern1)) for x in texts1]\n",
    "results_fa = [time_function(lambda: fa_string_matching(x, transition_table(pattern1))) for x in texts1]\n",
    "results_kmp = [time_function(lambda: kmp_string_matching(x, pattern1, prefix_function(pattern1))) for x in texts1]\n",
    "plt.plot([len(x) for x in texts1], results_naive, marker='.', color='b', label='algorytm naiwny')\n",
    "plt.plot([len(x) for x in texts1], results_fa, marker='.', color='r', label='automat skończony')\n",
    "plt.plot([len(x) for x in texts1], results_kmp, marker='.', color='g', label='algorytm kmp')\n",
    "\n",
    "plt.xlabel('Długość tekstu')\n",
    "plt.ylabel('Czas [s]')\n",
    "plt.legend(loc='upper left')\n",
    "plt.title('Zależność czasu wykonania algorytmu od długości tekstu')\n",
    "plt.show()"
   ]
  },
  {
   "cell_type": "markdown",
   "metadata": {
    "pycharm": {
     "name": "#%% md\n"
    }
   },
   "source": [
    "### Wzorzec od 50 do 400 znaków, długość tekstu 260'000 znaków\n"
   ]
  },
  {
   "cell_type": "code",
   "execution_count": 6,
   "metadata": {
    "pycharm": {
     "name": "#%%\n"
    }
   },
   "outputs": [
    {
     "data": {
      "image/png": "[encoded data removed]",
      "text/plain": [
       "<Figure size 432x288 with 1 Axes>"
      ]
     },
     "metadata": {
      "needs_background": "light"
     },
     "output_type": "display_data"
    }
   ],
   "source": [
    "text2 = \"qwertyuiopasdfghjklzxcvbnm\" * 10000\n",
    "patterns2 = [\"qwertyuiop\" * x for x in range(5, 41, 5)]\n",
    "\n",
    "results_naive = [time_function(lambda: naive_string_matching(text2, x)) for x in patterns2]\n",
    "results_fa = [time_function(lambda: fa_string_matching(text2, transition_table(x))) for x in patterns2]\n",
    "results_kmp = [time_function(lambda: kmp_string_matching(text2, x, prefix_function(x))) for x in patterns2]\n",
    "plt.plot([len(x) for x in patterns2], results_naive, marker='.', color='b', label='algorytm naiwny')\n",
    "plt.plot([len(x) for x in patterns2], results_fa, marker='.', color='r', label='automat skończony')\n",
    "plt.plot([len(x) for x in patterns2], results_kmp, marker='.', color='g', label='algorytm KMP')\n",
    "\n",
    "plt.xlabel('Długość wzorca')\n",
    "plt.ylabel('Czas [s]')\n",
    "plt.legend(loc='upper left')\n",
    "plt.title('Zależność czasu wykonania algorytmu od długości wzorca')\n",
    "plt.show()"
   ]
  },
  {
   "cell_type": "markdown",
   "metadata": {
    "pycharm": {
     "name": "#%% md\n"
    }
   },
   "source": [
    "Wnioski:\n",
    " - W pierwszym teście przy stałej długości wzorca, zgodnie z teorią, czas wykonania wszystkich algorytmów rośnie liniowo\n",
    " - Dla krótkiego wzorca długości rzędu 10, algorytm automatu skończonego w Pythonowej implementacji jest około 2 razy szybszy od pozostałych\n",
    " - W 2 teście, przy zwiększającej się długości wzorca, dobrze widać dominującą złożoność obliczania funkcji przejścia w algorytmie automatu skończonego"
   ]
  },
  {
   "cell_type": "markdown",
   "metadata": {
    "pycharm": {
     "name": "#%% md\n"
    }
   },
   "source": [
    "## 3. Znajdź wszystkie wystąpienia wzorca \"art\" w załączonej ustawie, za pomocą każdego algorytmu."
   ]
  },
  {
   "cell_type": "code",
   "execution_count": 7,
   "metadata": {
    "pycharm": {
     "name": "#%%\n"
    }
   },
   "outputs": [
    {
     "name": "stdout",
     "output_type": "stream",
     "text": [
      "Algorytm naiwny:\n",
      "  Poprawne przesunięcia: [1156, 1505, 4692, 4734, 4879, 5082, 5148, 5949, 6039, 7266, 7511, 7781, (...)]\n",
      "  Liczba dopasowań: 273\n",
      "\n",
      "Automat skończony:\n",
      "  Poprawne przesunięcia: [1156, 1505, 4692, 4734, 4879, 5082, 5148, 5949, 6039, 7266, 7511, 7781, (...)]\n",
      "  Liczba dopasowań: 273\n",
      "\n",
      "Algorytm KMP:\n",
      "  Poprawne przesunięcia: [1156, 1505, 4692, 4734, 4879, 5082, 5148, 5949, 6039, 7266, 7511, 7781, (...)]\n",
      "  Liczba dopasowań: 273\n",
      "\n"
     ]
    }
   ],
   "source": [
    "with open(\"1997_714.txt\", encoding=\"utf-8\") as f:\n",
    "    txt1 = f.read()\n",
    "    p1 = \"art\"\n",
    "\n",
    "    res1 = naive_string_matching(txt1, p1)\n",
    "    print(f\"Algorytm naiwny:\\n  Poprawne przesunięcia: {pretty_print(res1)}\\n  Liczba dopasowań: {len(res1)}\\n\")\n",
    "\n",
    "    res2 = fa_string_matching(txt1, transition_table(p1))\n",
    "    print(f\"Automat skończony:\\n  Poprawne przesunięcia: {pretty_print(res2)}\\n  Liczba dopasowań: {len(res2)}\\n\")\n",
    "\n",
    "    res3 = kmp_string_matching(txt1, p1, prefix_function(p1))\n",
    "    print(f\"Algorytm KMP:\\n  Poprawne przesunięcia: {pretty_print(res2)}\\n  Liczba dopasowań: {len(res2)}\\n\")"
   ]
  },
  {
   "cell_type": "markdown",
   "metadata": {
    "pycharm": {
     "name": "#%% md\n"
    }
   },
   "source": [
    "## 4. Porównanie szybkości działania algorytmów dla problemu z p. 3."
   ]
  },
  {
   "cell_type": "code",
   "execution_count": 8,
   "metadata": {
    "pycharm": {
     "name": "#%%\n"
    }
   },
   "outputs": [
    {
     "name": "stdout",
     "output_type": "stream",
     "text": [
      "Algorytm naiwny: 0.0389 sek.\n",
      "Automat skończony: 0.019 sek.\n",
      "Algorytm KMP: 0.0332 sek.\n"
     ]
    }
   ],
   "source": [
    "with open(\"1997_714.txt\", encoding=\"utf-8\") as f:\n",
    "    txt1 = f.read()\n",
    "    p1 = \"art\"\n",
    "\n",
    "    print(f'Algorytm naiwny: {round(time_function(lambda: naive_string_matching(txt1, p1)), 4)} sek.')\n",
    "    print(f'Automat skończony: {round(time_function(lambda: fa_string_matching(txt1, transition_table(p1))), 4)} sek.')\n",
    "    print(f'Algorytm KMP: {round(time_function(lambda: kmp_string_matching(txt1, p1, prefix_function(p1))), 4)} sek.')"
   ]
  },
  {
   "cell_type": "markdown",
   "metadata": {
    "pycharm": {
     "name": "#%% md\n"
    }
   },
   "source": [
    "## 5. Porównanie szybkości działania algorytmów poprzez wyszukanie słowa \"Ukraina\" we fragmencie polskiej Wikipedii"
   ]
  },
  {
   "cell_type": "code",
   "execution_count": 9,
   "metadata": {
    "pycharm": {
     "name": "#%%\n"
    }
   },
   "outputs": [
    {
     "name": "stdout",
     "output_type": "stream",
     "text": [
      "Algorytm naiwny: 13.6704 sek.\n",
      "Automat skończony: 7.4989 sek.\n",
      "Algorytm KMP: 12.0936 sek.\n"
     ]
    }
   ],
   "source": [
    "with open(\"passages-head.tsv\", encoding=\"utf-8\") as f:\n",
    "    txt2 = f.read()\n",
    "    p2 = \"Ukraina\"\n",
    "\n",
    "    print(f'Algorytm naiwny: {round(time_function(lambda: naive_string_matching(txt2, p2)), 4)} sek.')\n",
    "    print(f'Automat skończony: {round(time_function(lambda: fa_string_matching(txt2, transition_table(p2))), 4)} sek.')\n",
    "    print(f'Algorytm KMP: {round(time_function(lambda: kmp_string_matching(txt2, p2, prefix_function(p2))), 4)} sek.')"
   ]
  },
  {
   "cell_type": "markdown",
   "metadata": {
    "pycharm": {
     "name": "#%% md\n"
    }
   },
   "source": [
    "W powyższych testach praktycznych widać, że przy krótkich wzorcach i długich tekstach najlepiej radzi sobie algorytm automatu skończonego. Jest on około 2 razy szybszy."
   ]
  },
  {
   "cell_type": "markdown",
   "metadata": {},
   "source": [
    "## 6. Propozycja tekstu i wzorca, dla którego zmierzony czas działania algorytmów 2 oraz 3 (uwzględniający tylko dopasowanie, bez pre-processingu) będzie co najmniej 5-krotnie krótszy niż dla algorytmu naiwnego."
   ]
  },
  {
   "cell_type": "code",
   "execution_count": 10,
   "metadata": {
    "pycharm": {
     "name": "#%%\n"
    }
   },
   "outputs": [
    {
     "name": "stdout",
     "output_type": "stream",
     "text": [
      "Algorytm naiwny: 1.0043 sek.\n",
      "Automat skończony: 0.0409 sek.\n",
      "Algorytm KMP: 0.0708 sek.\n",
      "\n",
      "Automat skończony 24.56 razy krótszy niż naiwny\n",
      "KMP 14.19 razy krótszy niż naiwny\n"
     ]
    }
   ],
   "source": [
    "txt3 = \"a\" * 240000\n",
    "p3 = \"a\" * 120000\n",
    "\n",
    "# pre-processing\n",
    "transition_tab = transition_table(p3)\n",
    "prefix_fun = prefix_function(p3)\n",
    "\n",
    "t1 = round(time_function(lambda: naive_string_matching(txt3, p3)), 4)\n",
    "t2 = round(time_function(lambda: fa_string_matching(txt3, transition_tab)), 4)\n",
    "t3 = round(time_function(lambda: kmp_string_matching(txt3, p3, prefix_fun)), 4)\n",
    "\n",
    "print(f'Algorytm naiwny: {t1} sek.\\nAutomat skończony: {t2} sek.\\nAlgorytm KMP: {t3} sek.\\n')\n",
    "print(f'Automat skończony {round(t1/t2, 2)} razy krótszy niż naiwny')\n",
    "print(f'KMP {round(t1/t3, 2)} razy krótszy niż naiwny')"
   ]
  },
  {
   "cell_type": "markdown",
   "metadata": {
    "pycharm": {
     "name": "#%% md\n"
    }
   },
   "source": [
    "Dla algorytmu naiwnego najgorszy przypadek zachodzi, gdy długość wzorca jest rzędu długości tekstu."
   ]
  },
  {
   "cell_type": "markdown",
   "metadata": {},
   "source": [
    "## 7. Propozycja wzorca, dla którego zmierzony czas obliczenia tablicy przejścia automatu skończonego będzie co najmniej 5-krotnie dłuższy, niż czas potrzebny na utworzenie funkcji przejścia w algorytmie KMP."
   ]
  },
  {
   "cell_type": "code",
   "execution_count": 11,
   "metadata": {
    "pycharm": {
     "name": "#%%\n"
    }
   },
   "outputs": [
    {
     "name": "stdout",
     "output_type": "stream",
     "text": [
      "Obliczenie tablicy przejścia dla automatu skończonego: 7.7143 sek.\n",
      "Utworzenie funkcji przejścia w algorytmie KMP: 0.000997 sek.\n",
      "Obliczanie tablicy przejścia 7737.51 razy krótsze niż funkcji przejścia algorytmu KMP\n"
     ]
    }
   ],
   "source": [
    "p4 = \"aab\" * 1500\n",
    "\n",
    "t1 = round(time_function(lambda: transition_table(p4)), 4)\n",
    "t2 = round(time_function(lambda: prefix_function(p4)), 6)\n",
    "\n",
    "print(f'Obliczenie tablicy przejścia dla automatu skończonego: {t1} sek.')\n",
    "print(f'Utworzenie funkcji przejścia w algorytmie KMP: {t2} sek.')\n",
    "\n",
    "print(f\"Obliczanie tablicy przejścia {round(t1/t2, 2)} razy krótsze niż funkcji przejścia algorytmu KMP\")"
   ]
  }
 ],
 "metadata": {
  "kernelspec": {
   "display_name": "Python 3 (ipykernel)",
   "language": "python",
   "name": "python3"
  },
  "language_info": {
   "codemirror_mode": {
    "name": "ipython",
    "version": 3
   },
   "file_extension": ".py",
   "mimetype": "text/x-python",
   "name": "python",
   "nbconvert_exporter": "python",
   "pygments_lexer": "ipython3",
   "version": "3.9.7"
  }
 },
 "nbformat": 4,
 "nbformat_minor": 1
}
