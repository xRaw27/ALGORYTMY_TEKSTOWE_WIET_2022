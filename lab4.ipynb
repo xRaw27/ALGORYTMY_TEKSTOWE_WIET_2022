{
 "cells": [
  {
   "cell_type": "markdown",
   "metadata": {
    "pycharm": {
     "name": "#%% md\n"
    }
   },
   "source": [
    "# Algorytmy tekstowe - odległość edycyjna"
   ]
  },
  {
   "cell_type": "markdown",
   "metadata": {
    "pycharm": {
     "name": "#%% md\n"
    }
   },
   "source": [
    "### Implementacja algorytmu obliczania odległości edycyjnej oraz wizualizacji jego działania"
   ]
  },
  {
   "cell_type": "code",
   "execution_count": 1,
   "metadata": {
    "pycharm": {
     "name": "#%%\n"
    }
   },
   "outputs": [],
   "source": [
    "import numpy as np\n",
    "from enum import Enum\n",
    "from collections import deque\n",
    "\n",
    "class Operation(Enum):\n",
    "    DELETE = 0\n",
    "    INSERT = 1\n",
    "    SUBSTITUTE = 2\n",
    "    NO_CHANGE = 3\n",
    "\n",
    "def delta(a, b):\n",
    "    if a == b:\n",
    "        return 0\n",
    "    else:\n",
    "        return 1\n",
    "\n",
    "def edit_distance(a, b, delta_function):\n",
    "    n, m = len(a), len(b)\n",
    "    Edit = np.empty((n + 1, m + 1), dtype=np.int32)\n",
    "    T = np.zeros((n + 1, m + 1), dtype=np.int32)\n",
    "\n",
    "    for i in range(n + 1):\n",
    "        T[i, 0], Edit[i, 0] = 0, i\n",
    "    for j in range(m + 1):\n",
    "        T[0, j], Edit[0, j] = 1, j\n",
    "\n",
    "    for i in range(1, n + 1):\n",
    "        for j in range(1, m + 1):\n",
    "            delta_value = delta_function(a[i - 1], b[j - 1])\n",
    "            T[i, j], Edit[i, j] = min(enumerate([Edit[i - 1, j] + 1,\n",
    "                                                 Edit[i, j - 1] + 1,\n",
    "                                                 Edit[i - 1, j - 1] + delta_value]), key=lambda x: x[1])\n",
    "            if T[i, j] == 2 and delta_value == 0:\n",
    "                T[i, j] = 3\n",
    "\n",
    "\n",
    "    return Edit, T\n",
    "\n",
    "def edit_distance_visualization(a, b, edit_distance_function, delta_function):\n",
    "    Edit, T = edit_distance_function(a, b, delta_function)\n",
    "\n",
    "\n",
    "    queue = deque()\n",
    "    i, j = len(a), len(b)\n",
    "    print(\"Edit distance:\", Edit[i, j])\n",
    "    while i != 0 or j != 0:\n",
    "        if T[i, j] == 0:\n",
    "            queue.appendleft(Operation.DELETE)\n",
    "            i -= 1\n",
    "        elif T[i, j] == 1:\n",
    "            queue.appendleft(Operation.INSERT)\n",
    "            j -= 1\n",
    "        else:\n",
    "            if T[i, j] == 2: queue.appendleft(Operation.SUBSTITUTE)\n",
    "            if T[i, j] == 3: queue.appendleft(Operation.NO_CHANGE)\n",
    "            i -= 1\n",
    "            j -= 1\n",
    "\n",
    "    print(\"1st string:\", a)\n",
    "    i = j = 0\n",
    "    current = a\n",
    "    while len(queue) > 0:\n",
    "        operation = queue.popleft()\n",
    "        if operation == Operation.DELETE:\n",
    "            print(f\" * {current[:i]}(-{current[i]}){current[i+1:]}\")\n",
    "            current = current[:i] + current[i+1:]\n",
    "            i -= 1\n",
    "        elif operation == Operation.INSERT:\n",
    "            print(f\" * {current[:i]}(+{b[j]}){current[i:]}\")\n",
    "            current = current[:i] + b[j] + current[i:]\n",
    "        elif operation == Operation.SUBSTITUTE:\n",
    "            print(f\" * {current[:i]}({current[i]}->{b[j]}){current[i+1:]}\")\n",
    "            current = current[:i] + b[j] + current[i+1:]\n",
    "\n",
    "        i += 1\n",
    "        j += 1\n",
    "\n",
    "    print(\"2nd string:\", b)"
   ]
  },
  {
   "cell_type": "markdown",
   "metadata": {
    "pycharm": {
     "name": "#%% md\n"
    }
   },
   "source": [
    "### Przedstawienie działania wizualizacji"
   ]
  },
  {
   "cell_type": "markdown",
   "metadata": {
    "pycharm": {
     "name": "#%% md\n"
    }
   },
   "source": [
    "#### 1. los - kloc"
   ]
  },
  {
   "cell_type": "code",
   "execution_count": 2,
   "metadata": {
    "pycharm": {
     "name": "#%%\n"
    }
   },
   "outputs": [
    {
     "name": "stdout",
     "output_type": "stream",
     "text": [
      "Edit distance: 2\n",
      "1st string: los\n",
      " * (+k)los\n",
      " * klo(s->c)\n",
      "2nd string: kloc\n"
     ]
    }
   ],
   "source": [
    "edit_distance_visualization(\"los\", \"kloc\", edit_distance, delta)"
   ]
  },
  {
   "cell_type": "markdown",
   "metadata": {
    "pycharm": {
     "name": "#%% md\n"
    }
   },
   "source": [
    "#### 2. Łódź - Lodz"
   ]
  },
  {
   "cell_type": "code",
   "execution_count": 3,
   "metadata": {
    "pycharm": {
     "name": "#%%\n"
    }
   },
   "outputs": [
    {
     "name": "stdout",
     "output_type": "stream",
     "text": [
      "Edit distance: 3\n",
      "1st string: Łódź\n",
      " * (Ł->L)ódź\n",
      " * L(ó->o)dź\n",
      " * Lod(ź->z)\n",
      "2nd string: Lodz\n"
     ]
    }
   ],
   "source": [
    "edit_distance_visualization(\"Łódź\", \"Lodz\", edit_distance, delta)"
   ]
  },
  {
   "cell_type": "markdown",
   "metadata": {
    "pycharm": {
     "name": "#%% md\n"
    }
   },
   "source": [
    "#### 3. kwintesencja - quintessence"
   ]
  },
  {
   "cell_type": "code",
   "execution_count": 4,
   "metadata": {
    "pycharm": {
     "name": "#%%\n"
    }
   },
   "outputs": [
    {
     "name": "stdout",
     "output_type": "stream",
     "text": [
      "Edit distance: 5\n",
      "1st string: kwintesencja\n",
      " * (k->q)wintesencja\n",
      " * q(w->u)intesencja\n",
      " * quintes(+s)encja\n",
      " * quintessenc(j->e)a\n",
      " * quintessence(-a)\n",
      "2nd string: quintessence\n"
     ]
    }
   ],
   "source": [
    "edit_distance_visualization('kwintesencja', 'quintessence', edit_distance, delta)"
   ]
  },
  {
   "cell_type": "markdown",
   "metadata": {
    "pycharm": {
     "name": "#%% md\n"
    }
   },
   "source": [
    "#### 4. ATGAATCTTACCGCCTCG - ATGAGGCTCTGGCCCCTG"
   ]
  },
  {
   "cell_type": "code",
   "execution_count": 5,
   "metadata": {
    "pycharm": {
     "name": "#%%\n"
    }
   },
   "outputs": [
    {
     "name": "stdout",
     "output_type": "stream",
     "text": [
      "Edit distance: 7\n",
      "1st string: ATGAATCTTACCGCCTCG\n",
      " * ATGA(A->G)TCTTACCGCCTCG\n",
      " * ATGAG(T->G)CTTACCGCCTCG\n",
      " * ATGAGGCT(+C)TACCGCCTCG\n",
      " * ATGAGGCTCT(A->G)CCGCCTCG\n",
      " * ATGAGGCTCTG(+G)CCGCCTCG\n",
      " * ATGAGGCTCTGGCC(-G)CCTCG\n",
      " * ATGAGGCTCTGGCCCCT(-C)G\n",
      "2nd string: ATGAGGCTCTGGCCCCTG\n"
     ]
    }
   ],
   "source": [
    "edit_distance_visualization(\"ATGAATCTTACCGCCTCG\", \"ATGAGGCTCTGGCCCCTG\", edit_distance, delta)"
   ]
  },
  {
   "cell_type": "markdown",
   "metadata": {
    "pycharm": {
     "name": "#%% md\n"
    }
   },
   "source": [
    "### Implementacja algorytmu obliczania najdłuższego wspólnego podciągu dla pary ciągów elementów"
   ]
  },
  {
   "cell_type": "code",
   "execution_count": 6,
   "metadata": {
    "pycharm": {
     "name": "#%%\n"
    }
   },
   "outputs": [],
   "source": [
    "def lcs(a, b):\n",
    "    n, m = len(a), len(b)\n",
    "    LCS = np.zeros((n + 1, m + 1), dtype=np.int32)\n",
    "\n",
    "    for i in range(1, n + 1):\n",
    "        for j in range(1, m + 1):\n",
    "            if a[i - 1] == b[j - 1]:\n",
    "                LCS[i, j] = LCS[i - 1, j - 1] + 1\n",
    "            else:\n",
    "                LCS[i, j] = max(LCS[i, j - 1], LCS[i - 1, j])\n",
    "\n",
    "    return LCS\n",
    "\n",
    "\n",
    "def lcs_space_optimized(a, b):\n",
    "    n, m = len(a), len(b)\n",
    "    LCS = np.zeros((2, m + 1), dtype=np.int32)\n",
    "\n",
    "    for i in range(1, n + 1):\n",
    "        for j in range(1, m + 1):\n",
    "            if a[i - 1] == b[j - 1]:\n",
    "                LCS[1, j] = LCS[0, j - 1] + 1\n",
    "            else:\n",
    "                LCS[1, j] = max(LCS[1, j - 1], LCS[0, j])\n",
    "\n",
    "        LCS[0, :] = LCS[1, :]\n",
    "\n",
    "    return LCS[0, m]"
   ]
  },
  {
   "cell_type": "markdown",
   "metadata": {
    "pycharm": {
     "name": "#%% md\n"
    }
   },
   "source": [
    "### Podział tekstu na tokeny oraz stworzenie 2 nowych wersji, w których usunięto 3% losowych tokenów. Obliczenie długości najdłuższego podciągu wspólnych tokenów dla tych tekstów."
   ]
  },
  {
   "cell_type": "code",
   "execution_count": 7,
   "metadata": {
    "pycharm": {
     "name": "#%%\n"
    }
   },
   "outputs": [],
   "source": [
    "from spacy.lang.pl import Polish\n",
    "from random import randint"
   ]
  },
  {
   "cell_type": "code",
   "execution_count": 8,
   "metadata": {
    "pycharm": {
     "name": "#%%\n"
    }
   },
   "outputs": [
    {
     "name": "stdout",
     "output_type": "stream",
     "text": [
      "Liczba tokenów w 1 wersji tekstu: 2614\n",
      "Liczba tokenów w 2 wersji tekstu: 2616\n",
      "Długość najdłuższego podciągu wspólnych tokenów: 2533\n"
     ]
    }
   ],
   "source": [
    "def remove_random_tokens(tokens):\n",
    "    new_tokens = []\n",
    "    for token in tokens:\n",
    "        if randint(1, 100) > 3:\n",
    "            new_tokens.append(token.text_with_ws)\n",
    "\n",
    "    return new_tokens\n",
    "\n",
    "nlp = Polish()\n",
    "tokenizer = nlp.tokenizer\n",
    "\n",
    "with open(\"romeo-i-julia-700.txt\", \"r\", encoding=\"utf-8\") as f:\n",
    "    text = f.read()\n",
    "    tokens = tokenizer(text)\n",
    "\n",
    "    new_tokens1 = remove_random_tokens(tokens)\n",
    "    with open(\"text1.txt\", \"w\", encoding=\"utf-8\") as f1:\n",
    "        for token in new_tokens1:\n",
    "            f1.write(token)\n",
    "\n",
    "    new_tokens2 = remove_random_tokens(tokens)\n",
    "    with open(\"text2.txt\", \"w\", encoding=\"utf-8\") as f2:\n",
    "        for token in new_tokens2:\n",
    "            f2.write(token)\n",
    "\n",
    "    print(\"Liczba tokenów w 1 wersji tekstu:\", len(new_tokens1))\n",
    "    print(\"Liczba tokenów w 2 wersji tekstu:\", len(new_tokens2))\n",
    "    print(\"Długość najdłuższego podciągu wspólnych tokenów:\", lcs_space_optimized(new_tokens1, new_tokens2))"
   ]
  },
  {
   "cell_type": "markdown",
   "metadata": {
    "pycharm": {
     "name": "#%% md\n"
    }
   },
   "source": [
    "### Implementacja narzędzia podobnego do diff"
   ]
  },
  {
   "cell_type": "code",
   "execution_count": 9,
   "metadata": {
    "pycharm": {
     "name": "#%%\n"
    }
   },
   "outputs": [],
   "source": [
    "def diff(a, b):\n",
    "    LCS = lcs(a, b)\n",
    "\n",
    "    lines = []\n",
    "    i, j = len(a), len(b)\n",
    "    while i != 0 or j != 0:\n",
    "        if i > 0 and j > 0 and a[i - 1] == b[j - 1]:\n",
    "            i -= 1\n",
    "            j -= 1\n",
    "        elif j > 0 and (i == 0 or LCS[i, j - 1] >= LCS[i - 1, j]):\n",
    "            j -= 1\n",
    "            lines.append((1, j))\n",
    "        else:\n",
    "            i -= 1\n",
    "            lines.append((0, i))\n",
    "\n",
    "    for i in range(len(lines) - 1, -1, -1):\n",
    "        file, line = lines[i]\n",
    "        if file == 0:\n",
    "            print(f\"> [{line}]\", a[line], end=\"\")\n",
    "        else:\n",
    "            print(f\"< [{line}]\", b[line], end=\"\")\n",
    "\n",
    "        if i > 0 and lines[i][0] == 1 and lines[i - 1][0] == 0:\n",
    "            print()"
   ]
  },
  {
   "cell_type": "markdown",
   "source": [
    "### Przedstawienie działania narzędzia dla przygotowanych tekstów"
   ],
   "metadata": {
    "collapsed": false,
    "pycharm": {
     "name": "#%% md\n"
    }
   }
  },
  {
   "cell_type": "code",
   "execution_count": 10,
   "metadata": {
    "pycharm": {
     "name": "#%%\n"
    }
   },
   "outputs": [
    {
     "name": "stdout",
     "output_type": "stream",
     "text": [
      "> [5] ISBN 978-83-288--9\n",
      "< [5] ISBN 978-83288-2903-9\n",
      "\n",
      "> [9] OSOBY:\n",
      "> [10]  * — książę panujący w Weronie\n",
      "< [9] OSOBY:* ESKALUS — książę panujący w Weronie\n",
      "\n",
      "> [12]  * MONTEKI, KAPULET — naczelnicy dwóch domów nieprzyjaznych sobie\n",
      "> [13]  * STARZEC — stryjeczny brat Kapuleta\n",
      "> [14]  * ROMEO — syn Montekiego\n",
      "> [15]  * MERKUCJO — krewny księcia\n",
      "> [16]  * BENWOLIO — synowiec Montekiego\n",
      "> [17]  * TYBALT — krewny Pani Kapulet\n",
      "< [11]  * , KAPULET — naczelnicy dwóch domów nieprzyjaznych sobie\n",
      "< [12]  * — stryjeczny brat Kapuleta\n",
      "< [13]  * ROMEO — syn \n",
      "< [14]  * MERKUCJO krewny księcia\n",
      "< [15]  * — synowiec \n",
      "< [16]  * TYBALT krewny Pani Kapulet\n",
      "\n",
      "> [28]  * MONTEKI — małżonka Montekiego\n",
      "< [27]  * PANI MONTEKI — małżonka Montekiego\n",
      "\n",
      "> [30]  * JULIA — córka \n",
      "< [29]  * JULIA — córka Kapuletów\n",
      "\n",
      "> [32]  * Obywatele weroneńscy, różne osoby obojej, liczący się do przyjaciół domów, maski, straż wojskowa i inne osoby.\n",
      "< [31]  * Obywatele weroneńscy, różne osoby płci obojej, liczący się do przyjaciół obu domów, maski, straż wojskowa i inne osoby.\n",
      "\n",
      "> [37] Rzecz odbywa się przez większą część sztuki w Weronie, przez część piątego aktu w Mantui.\n",
      "< [36] Rzecz się przez większą część sztuki w Weronie, przez część piątego aktu Mantui.\n",
      "\n",
      "> [45] Dwa rody, jednako i sławne —\n",
      "> [46] Tam, gdzie się rzecz ta rozgrywa, w Weronie,\n",
      "< [44] Dwa rody, zacne jednako i sławne —\n",
      "< [45] Tam, gdzie się rzecz ta rozgrywa, w Weronie\n",
      "\n",
      "> [58] Dwugodzinnego treścią ,\n",
      "< [57] Dwugodzinnego treścią przedstawienia,\n",
      "\n",
      "> [108] Rozruchać się tyle znaczy co ruszyć się z miejsca; być walecznym jest to stać nieporuszenie: pojmuję więc, że skutkiem rozruchania się twego będzie - drapnięcie.\n",
      "< [107] tyle znaczy co ruszyć się z miejsca; być walecznym jest to stać nieporuszenie: pojmuję więc, że skutkiem rozruchania się twego będzie - drapnięcie.\n",
      "\n",
      "> [113] Te psy z domu Montekich rozruchać mię mogą tylko do stania na miejscu. Będę jak mur dla każdego mężczyzny i każdej kobiety z tego domu.GRZEGORZ\n",
      "< [112] Te psy z domu Montekich rozruchać mię mogą tylko do stania na . Będę jak mur dla każdego mężczyzny i każdej kobiety z tego domu.\n",
      "\n",
      "> [115] To właśnie pokazuje twoją słabą stronę; mur dla nikogo niestraszny i tylko słabi go się trzymają.\n",
      "< [114] \n",
      "< [115] GRZEGORZ\n",
      "< [116] \n",
      "< [117] To właśnie pokazuje twoją słabą stronę; mur nikogo niestraszny i tylko go się trzymają.\n",
      "\n",
      "> [120] Prawda, dlatego to kobiety, jako najsłabsze, tulą się zawsze do muru. Ja też odtrącę od muru ludzi Montekich, a kobiety Montekich przyprę .\n",
      "< [122] Prawda, dlatego to kobiety, jako najsłabsze, tulą zawsze do muru. Ja też odtrącę od muru ludzi Montekich, a kobiety Montekich przyprę do muru.\n",
      "\n",
      "> [125] Spór jest tylko między naszymi panami i między , ich ludźmi.\n",
      "< [127] Spór jest tylko między naszymi panami i między nami, ich ludźmi\n",
      "\n",
      "> [130] Mniejsza mi o to, będę nieubłagany. Pobiwszy ludzi, wywrę wściekłość na kobietach: rzeź między nimi sprawię.\n",
      "< [132] Mniejsza o to, będę nieubłagany. Pobiwszy ludzi, wywrę wściekłość na kobietach: rzeź między nimi sprawię.\n",
      "\n",
      "> [139] \n",
      "> [140] Nie inaczej: wtłoczę w każdą po kolei. Wiadomo, że się do lwów liczę.\n",
      "< [142] Nie inaczej: wtłoczę miecz w każdą po . Wiadomo, że się do lwów liczę.\n",
      "< [145] GRZEGORZ\n",
      "\n",
      "> [145] Tym lepiej, że się liczysz do zwierząt; bo gdybyś liczył do ryb, to byłbyś pewnie sztokfiszem. Weź no się za instrument, bo oto nadchodzi dwóch domowników Montekiego.\n",
      "< [147] Tym lepiej, że się liczysz do zwierząt; bo gdybyś się liczył do ryb, to byłbyś pewnie sztokfiszem. Weź no się za instrument, bo oto nadchodzi dwóch domowników Montekiego.\n",
      "\n",
      "> [152] Mój giwer już dobyty: zaczep ich, ja stanę z tyłu.\n",
      "< [154] Mój giwer dobyty: zaczep ich, ja stanę z tyłu.\n",
      "\n",
      "> [157] Gwoli drapania\n",
      "< [159] Gwoli drapania?\n",
      "\n",
      "> [172] Miejmy prawo za sobą, niech oni zaczną.\n",
      "< [174] Miejmy prawo za sobą, niech zaczną.\n",
      "\n",
      "> [177] Marsa im nastawię przechodząc; go sobie, jak chcą, tłumaczą.\n",
      "< [179] Marsa im nastawię przechodząc; niech go sobiejak chcą, tłumaczą.\n",
      "\n",
      "> [188] \n",
      "< [192] SAMSON\n",
      "\n",
      "> [204] Będziemy–ż mieli prawo za sobą, jak powiem: jest?GRZEGORZ\n",
      "< [206] Będziemy–ż mieli prawo za sobą, jak powiem: tak jest?\n",
      "< [207] \n",
      "< [208] \n",
      "< [209] GRZEGORZ\n",
      "\n",
      "> [212] \n",
      "> [214] GRZEGORZ\n",
      "> [216] / do Abrahama /\n",
      "< [219] GRZEGORZ/ do Abrahama /\n",
      "\n",
      "> [228] Jeżeli jej szukasz, to jestem waścine usługi. Mój pan tak dobry jak i wasz.\n",
      "< [231] Jeżeli jej szukasz, to jestem na waścine usługi. Mój pan tak dobry jak i wasz.\n",
      "\n",
      "> [233] Nie lepszy.\n",
      "< [236] lepszy.\n",
      "\n",
      "> [252] Nie inaczej; .\n",
      "< [255] Nie inaczej; lepszy.\n",
      "\n",
      "> [267] Odstąpcie, głupcy; schowajcie miecze do pochew. Sami nie wiecie, co robicie.\n",
      "< [270] Odstąpcie, głupcy; schowajcie miecze do pochew. Sami wiecie, co robicie.\n",
      "\n",
      "> [269] / Rozdziela ich mieczem. /\n",
      "< [272] Rozdziela ich swoim mieczem. /\n",
      "\n",
      "> [283] Albo wraz ze mną rozdziel nim tych ludzi.\n",
      "< [286] Albo wraz ze mną rozdziel nim tych .\n",
      "\n",
      "> [288] Z gołym orężem pokójNienawidzę\n",
      "> [289] Tego wyrazu, tak jak nienawidzę\n",
      "< [291] Z gołym orężem pokój? Nienawidzę\n",
      "< [292] Tego wyrazu, tak nienawidzę\n",
      "\n",
      "> [293] / Walczą. kilku przyjaciół obu partii i mieszają się do zwady; potem wchodzą mieszczanie z pałkami. /\n",
      "< [296] / . Nadchodzi kilku przyjaciół obu partii i mieszają się do zwady; wkrótce potem wchodzą mieszczanie z pałkami. /\n",
      "\n",
      "> [298] Hola! berdyszów! pałek! Dalej po !\n",
      "> [299] Precz z Montekimi, precz z Kapuletami!/ Wchodzą Kapulet i Pani Kapulet /KAPULET\n",
      "< [301] Hola! berdyszów! pałek! Dalej po nich!\n",
      "< [302] Precz Montekimi, precz z Kapuletami!\n",
      "\n",
      "> [301] Co za hałas? Podajcie mi długi\n",
      "< [304] / Wchodzą Kapulet i Pani Kapulet /\n",
      "< [305] \n",
      "< [306] \n",
      "< [307] KAPULET\n",
      "< [308] \n",
      "< [309] Co hałas? Podajcie mi długi\n",
      "\n",
      "> [307] Raczej kulę; co ci z miecza?\n",
      "< [315] kulę; co ci z miecza?\n",
      "\n",
      "> [312] Miecz, mówię! Stary Monteki nadchodzi\n",
      "< [320] Miecz, mówię! Stary Monteki nadchodzi.\n",
      "\n",
      "> [329] puszczę cię na krok, gdy wróg tobą.\n",
      "< [337] Nie puszczę cię na krokgdy wróg przed tobą.\n",
      "\n",
      "> [334] KSIĄŻĘZapamiętali niesforni poddani,\n",
      "< [342] KSIĄŻĘ\n",
      "< [343] \n",
      "< [344] Zapamiętali niesforni poddani,\n",
      "\n",
      "> [336] Czy nie słyszycie? Ludzie czy ,\n",
      "> [337] Co wściekłych swoich gniewów żar \n",
      "< [346] Czy nie słyszycie? Ludzie czy zwierzęta,\n",
      "< [347] Co wściekłych swoich żar gasicie\n",
      "\n",
      "> [340] Z dłoni skrwawionych tę broń buntowniczą\n",
      "< [350] Z dłoni skrwawionych tę buntowniczą\n",
      "\n",
      "> [344] Przez was, Monteki oraz Kapulecie,\n",
      "> [345] Trzykroć już spokój miasta zakłóciły,\n",
      "> [346] Tak że poważni wiekiem i zasługą\n",
      "< [354] was, Monteki oraz Kapulecie,\n",
      "< [355] Trzykroć już spokój miasta zakłóciły,Tak że wiekiem i zasługą\n",
      "\n",
      "> [351] Niechęci wasze przecinać. Jeżeli\n",
      "> [352] Wzniecicie waśń podobną,\n",
      "< [360] Niechęci wasze przecinaćJeżeli\n",
      "< [361] Wzniecicie kiedyś waśń podobną,\n",
      "\n",
      "> [355] Ty, Kapulecie, pójdziesz ze mną razem;\n",
      "< [364] Ty, Kapulecie, pójdziesz ze mną razem\n",
      "\n",
      "> [358] Dalsza ma wola będzie.\n",
      "< [367] Dalsza ma wola oznajmiona będzie.\n",
      "\n",
      "> [367] Kto wszczął tę nową zwadę? Mówsynowcze,\n",
      "< [376] Kto wszczął tę nową zwadę? Mów, ,\n",
      "\n",
      "> [375] Dobyłem broni, aby ich rozdzielić:\n",
      "> [376] Wtem wpadł szalony Tybalt z gołym mieczem,\n",
      "< [384] Dobyłem broni, aby ich :\n",
      "< [385] Wtem wpadł Tybalt z gołym mieczem,\n",
      "\n",
      "> [379] Które świszczało szydząc z marnych\n",
      "< [388] Które świszczało tylko szydząc z marnych\n",
      "\n",
      "> [383] Aż książę nadszedł i rozdzielił wszystkich.\n",
      "< [392] książę nadszedł i rozdzielił wszystkich.\n",
      "\n",
      "> [394] Godziną pierwej, nim wspaniałe słońce\n",
      "< [403] pierwej, nim wspaniałe słońce\n",
      "\n",
      "> [396] Troski wygnały mię z dala domu\n",
      "< [405] Troski wygnały mię z dala od domu\n",
      "\n",
      "> [403] Pociąg ten do odosobnienia\n",
      "> [404] Mierząc mym własnym (serce nasze bowiem\n",
      "> [405] Jest najczynniejsze, kiedyśmy samotni,\n",
      "> [406] Nie przeszkadzałem mu w jego dumaniach\n",
      "> [407] I w inną się udałem, chętnie\n",
      "> [408] Stroniąc tego, co rad mnie unikał.\n",
      "< [412] Pociąg ten do \n",
      "< [413] Mierząc mym własnym (nasze bowiem\n",
      "< [414] Jest najczynniejsze, kiedyśmy samotni),\n",
      "< [415] Nie przeszkadzałem mu w dumaniach\n",
      "< [416] I w inną stronę się udałem, chętnie\n",
      "< [417] Stroniąc od tego, co rad mnie unikał.\n",
      "\n",
      "> [411] MONTEKI\n",
      "> [413] Nieraz świcie już go tam widzianoŁzami poranną mnożącego rosę,\n",
      "< [421] \n",
      "< [422] Nieraz o już go tam widziano\n",
      "< [423] Łzami poranną mnożącego rosę,\n",
      "\n",
      "> [416] słońce sprzed łoża Aurory\n",
      "< [426] Wesołe słońce sprzed łoża Aurory\n",
      "\n",
      "> [419] Co tchu zamykał się w swoim pokoju\n",
      "> [420] Zasłaniał okna przed jasnym dnia blaskiem\n",
      "< [429] Co tchu zamykał się w swoim pokoju;\n",
      "< [430] Zasłaniał okna przed jasnym blaskiem\n",
      "\n",
      "> [423] Jeśli się na to lekarstwo nie znajdzie.\n",
      "< [433] Jeśli się na to lekarstwo nie .\n",
      "\n",
      "> [438] Wybadywał żeś go jakim sposobem?\n",
      "< [448] żeś go jakim sposobem?\n",
      "\n",
      "> [444] Lecz on jedyny powiernik swych smutków.\n",
      "> [445] Tak im jest wierny, zamknięty w sobie,\n",
      "> [446] otwartości wszelkiej tak daleki\n",
      "< [454] Lecz on jedyny powiernik swych smutków\n",
      "< [455] Tak im jest , tak zamknięty w sobie,\n",
      "< [456] Od otwartości wszelkiej tak daleki\n",
      "\n",
      "> [449] pełność rozwinął przed słońcem.\n",
      "< [459] I pełność swoją rozwinął przed słońcem.\n",
      "\n",
      "> [453] / Romeo ukazuje się w głębi. /\n",
      "< [463] / Romeo ukazuje się głębi. /\n",
      "\n",
      "> [458] Oto nadchodzi. Odstąpcie na stronę;\n",
      "> [459] Wyrwę mu z cierpienia tajone.\n",
      "< [468] Oto nadchodzi. Odstąpcie na stronę\n",
      "< [469] Wyrwę mu z piersi cierpienia tajone.\n",
      "\n",
      "> [476] \n",
      "> [477]                         –ż nie południe?\n",
      "> [478] \n",
      "> [479] \n",
      "> [480] BENWOLIO\n",
      "> [482] Dziewiąta biła .\n",
      "< [487]                         Jeszcze–ż nie południe?BENWOLIODziewiąta biła dopiero.\n",
      "\n",
      "> [487]                         Jak nudnie\n",
      "> [488] Wloką się chwileMoi–ż to rodzice\n",
      "> [489] Tak spiesznie w tamtą zboczyli ulicę?\n",
      "< [492]                         Jak nudnieWloką się chwile. Moi–ż to rodzice\n",
      "< [493] Tak spiesznie w zboczyli ulicę?\n",
      "\n",
      "> [514]                         Jak to? brak miłości\n",
      "< [518]                         Jak to? brak miłości?\n",
      "\n",
      "> [519] Brak jej tam, skąd bym pragnął wzajemności.\n",
      "< [523] Brak jej tam, skąd bym pragnął .\n",
      "\n",
      "> [524] Niestety! Czemuż, zdając się ,\n",
      "< [528] NiestetyCzemuż, zdając się niebianką,\n",
      "\n",
      "> [526] \n",
      "< [532] ROMEO\n",
      "\n",
      "> [531] Miłość na oślep zawsze cel !\n",
      "> [532] Gdzież dziś jeść będziem? Ach! Był tu \n",
      "> [533] Jakiś spór? Nie mów mi o nim, wiem wszystko.\n",
      "> [534] W grze tu nienawiść wielka, lecz i miłość.\n",
      "> [535] O! wy sprzeczności niepojęte dziwa!\n",
      "> [536] Szorstka miłości! nienawiści tkliwa\n",
      "> [537] Coś narodzone z niczego! Pieszczoto\n",
      "< [535] Miłość na oślep zawsze cel swój goni!\n",
      "< [536] Gdzież dziś jeść będziem? Ach! Był tu podobno\n",
      "< [537] Jakiś spór? Nie mów mi o nim, wiem wszystko.W tu nienawiść wielka, lecz i miłość.\n",
      "< [538] O! wy niepojęte dziwa!\n",
      "< [539] Szorstka miłości! nienawiści tkliwa!\n",
      "< [540] Coś narodzone z niczegoPieszczoto\n",
      "\n",
      "> [540] Jasna mgło! Zimny żarze! ruchu!\n",
      "> [541] Śnie bez snu! Taką to w sobie zawiłość,\n",
      "> [542] Taką niełączność łączy miłość.\n",
      "> [543] Czy się nie śmiejesz?\n",
      "< [543] Jasna mgło! Zimny żarze! Martwy ruchu!\n",
      "< [544] Śnie bez snu! Taką w sobie zawiłość,\n",
      "< [545] Taką niełączność łączy moja miłość.\n",
      "< [546] Czy się nie śmiejesz\n",
      "\n",
      "> [553] czym, duszo?\n",
      "< [556] Nad czym, poczciwa duszo?\n",
      "\n",
      "> [565] Miłości nawet przez odbitkę działa?\n",
      "> [566] Dość mi już ciężył mój smutek, ty jegoBrzemię powiększasz przewyżką twojego;\n",
      "> [567] Współczucie twoje nad moim \n",
      "> [568] Nie ulgą, ale nowym jest \n",
      "< [568] Miłości przez odbitkę działa?\n",
      "< [569] Dość mi już ciężył mój smutek, ty jego\n",
      "< [570] Brzemię przewyżką twojego;\n",
      "< [571] Współczucie twoje nad moim cierpieniem\n",
      "< [572] Nie ulgą, ale nowym jest kamieniem\n",
      "\n",
      "> [570] To dym, co z parą westchnień się unosi;\n",
      "< [574] dym, co z parą westchnień się unosi;\n",
      "\n",
      "> [573] Czymże więcej? Istnym amalgamem,\n",
      "< [577] Czymże jest więcej? Istnym amalgamem,\n",
      "\n",
      "> [583] mą przyjaźń z tak zostawił.\n",
      "< [587] Gdybyś mą przyjaźń z kwitkiem tak zostawił.\n",
      "\n",
      "> [607] Kogóż to kochasz? .\n",
      "< [611] Kogóż to kochasz? Powiedz.\n",
      "\n",
      "> [614] Dobre dla tego, kto jest w tak złym stanie?\n",
      "> [615] A więc, kobietę kocham.\n",
      "> [616] \n",
      "> [617] \n",
      "> [618] BENWOLIO\n",
      "< [618] Dobre tego, kto jest w złym stanie?\n",
      "< [619] A więc, kobietę kocham.BENWOLIO\n",
      "\n",
      "> [621] Gdym to pomyślał, mi powierzył.\n",
      "< [622] Gdym to pomyślał, nimeś mi powierzył.\n",
      "\n",
      "> [626] Biegle celujesz. I ta, którą ,\n",
      "> [627] Jest .\n",
      "< [627] Biegle celujesz. I ta, którą kocham,\n",
      "< [628] Jest piękna.\n",
      "\n",
      "> [632]                         W piękny cel trafić najłatwiej.\n",
      "< [633]                         W piękny cel trafić .\n",
      "\n",
      "> [635] ROMEO\n",
      "< [636] \n",
      "\n",
      "> [640] Grotów miłości wcale się nie ;\n",
      "< [641] Grotów miłości wcale się nie boi;\n",
      "\n",
      "> [643] Nawet jej złota wszechwładztwo nie zjedna.\n",
      "< [644] Nawet jej złota wszechwładztwo zjedna.\n",
      "\n",
      "> [647] \n",
      "< [650] BENWOLIO\n",
      "\n",
      "> [651] Wiecznie–ż sama zostać z swym bogactwem?\n",
      "< [652] Wiecznie–ż chce sama zostać z swym bogactwem?\n",
      "\n",
      "> [660] Zbyt mądrze piękna: stąd jest głazem.\n",
      "< [661] Zbyt mądrze piękna: stąd istnym jest głazem.\n",
      "\n",
      "> [667] Jest na to rada: przestań myśleć o niejROMEO\n",
      "< [668] Jest na to rada: przestań myśleć o niej.\n",
      "< [669] \n",
      "< [670] \n",
      "< [671] ROMEO\n",
      "\n",
      "> [673] BENWOLIODając oczom wolność\n",
      "> [674] Rozpatrywania się w innych pięknościach.\n",
      "< [677] BENWOLIO\n",
      "< [678] \n",
      "< [679]                         Dając oczom wolność\n",
      "< [680] się w innych pięknościach.\n"
     ]
    }
   ],
   "source": [
    "with open(\"text1.txt\", \"r\", encoding=\"utf-8\") as f1, open(\"text2.txt\", \"r\", encoding=\"utf-8\") as f2:\n",
    "    diff(f1.readlines(), f2.readlines())"
   ]
  }
 ],
 "metadata": {
  "kernelspec": {
   "display_name": "Python 3 (ipykernel)",
   "language": "python",
   "name": "python3"
  },
  "language_info": {
   "codemirror_mode": {
    "name": "ipython",
    "version": 3
   },
   "file_extension": ".py",
   "mimetype": "text/x-python",
   "name": "python",
   "nbconvert_exporter": "python",
   "pygments_lexer": "ipython3",
   "version": "3.9.7"
  }
 },
 "nbformat": 4,
 "nbformat_minor": 1
}