{
 "cells": [
  {
   "cell_type": "code",
   "execution_count": 1,
   "metadata": {
    "collapsed": true
   },
   "outputs": [],
   "source": [
    "import re\n",
    "from collections import defaultdict\n",
    "\n",
    "from scipy.sparse import csr_matrix, lil_matrix, vstack\n",
    "from scipy.sparse.linalg import norm\n",
    "import numpy as np\n",
    "from sklearn.cluster import AgglomerativeClustering"
   ]
  },
  {
   "cell_type": "markdown",
   "metadata": {
    "pycharm": {
     "name": "#%% md\n"
    }
   },
   "source": [
    "## 1. Implementacja metryk"
   ]
  },
  {
   "cell_type": "markdown",
   "metadata": {
    "pycharm": {
     "name": "#%% md\n"
    }
   },
   "source": [
    "#### Funkcje pomocnicze zwracające macierz wektorów bag-of-words oraz zbiór stopwords jako zbiór najczęsciej występujących słów"
   ]
  },
  {
   "cell_type": "code",
   "execution_count": 2,
   "metadata": {
    "pycharm": {
     "name": "#%%\n"
    }
   },
   "outputs": [],
   "source": [
    "def get_document_term_matrix(lines, stopwords=None):\n",
    "    if stopwords is None:\n",
    "        stopwords = set()\n",
    "\n",
    "    words = dict()\n",
    "    vectors = []\n",
    "    word_idx = 0\n",
    "\n",
    "    for i, line in enumerate(lines):\n",
    "        tokens = list(filter(lambda x: x != \"\" and x not in stopwords, re.split(r'\\W+', line.lower())))\n",
    "\n",
    "        for token in tokens:\n",
    "            if token not in words:\n",
    "                words[token] = word_idx\n",
    "                word_idx += 1\n",
    "\n",
    "        vector = np.zeros(word_idx, dtype=np.int32)\n",
    "\n",
    "        for token in tokens:\n",
    "            vector[words[token]] += 1\n",
    "\n",
    "        vector = csr_matrix(vector)\n",
    "        vectors.append(vector)\n",
    "\n",
    "    n = len(vectors)\n",
    "    k = len(words)\n",
    "    matrix = lil_matrix((n, k), dtype=np.float32)\n",
    "\n",
    "    for i, vector in enumerate(vectors):\n",
    "        vector.resize((1, k))\n",
    "        if norm(vector) > 0:\n",
    "            vector = vector / norm(vector)\n",
    "        matrix[i] = vector\n",
    "\n",
    "    matrix = matrix.tocsr()\n",
    "    return matrix\n",
    "\n",
    "\n",
    "def get_stopwords(lines, minimum_occurrences=300):\n",
    "    word_occurrences = defaultdict(int)\n",
    "\n",
    "    for line in lines:\n",
    "        tokens = list(filter(lambda x: x != \"\", re.split(r'\\W+', line.lower())))\n",
    "\n",
    "        for token in tokens:\n",
    "            word_occurrences[token] += 1\n",
    "\n",
    "    return {x[0] for x in filter(lambda x: x[1] > minimum_occurrences, word_occurrences.items())}"
   ]
  },
  {
   "cell_type": "markdown",
   "metadata": {
    "pycharm": {
     "name": "#%% md\n"
    }
   },
   "source": [
    "#### Funkcja pomocnicza do klasteryzacji"
   ]
  },
  {
   "cell_type": "code",
   "execution_count": 3,
   "metadata": {
    "pycharm": {
     "name": "#%%\n"
    }
   },
   "outputs": [],
   "source": [
    "def clusterize(lines, dist_function, threshold, use_stopwords=True):\n",
    "    if use_stopwords:\n",
    "        stopwords = get_stopwords(lines)\n",
    "    else:\n",
    "        stopwords = None\n",
    "\n",
    "    X = get_document_term_matrix(lines, stopwords=stopwords)\n",
    "\n",
    "    # dist matrix\n",
    "    dist = dist_function(X)\n",
    "\n",
    "    clustering = AgglomerativeClustering(n_clusters=None, affinity='precomputed', linkage='average', distance_threshold=threshold)\n",
    "    clustering.fit(dist)\n",
    "\n",
    "    return clustering.labels_"
   ]
  },
  {
   "cell_type": "markdown",
   "metadata": {
    "pycharm": {
     "name": "#%% md\n"
    }
   },
   "source": [
    "#### 1) metryka cosinusowa"
   ]
  },
  {
   "cell_type": "code",
   "execution_count": 4,
   "metadata": {
    "pycharm": {
     "name": "#%%\n"
    }
   },
   "outputs": [],
   "source": [
    "def cosine_distance(X):\n",
    "    return 1 - (X @ X.T).toarray()\n",
    "\n",
    "\n",
    "def cosine_clusterize(lines, use_stopwords=True):\n",
    "    return clusterize(lines, cosine_distance, 0.4, use_stopwords=use_stopwords)"
   ]
  },
  {
   "cell_type": "markdown",
   "metadata": {
    "pycharm": {
     "name": "#%% md\n"
    }
   },
   "source": [
    "#### 2) metryka euclidesowa"
   ]
  },
  {
   "cell_type": "code",
   "execution_count": 5,
   "metadata": {
    "pycharm": {
     "name": "#%%\n"
    }
   },
   "outputs": [],
   "source": [
    "def euclidean_distance(X):\n",
    "    n = X.shape[0]\n",
    "\n",
    "    dist = np.zeros((n, n), dtype=np.float64)\n",
    "    ones = csr_matrix(np.ones(n)).T\n",
    "\n",
    "    for i in range(n):\n",
    "        dist[i, :] = norm(X - (ones @ X[i]), axis=1) / np.sqrt(2)\n",
    "\n",
    "    return dist\n",
    "\n",
    "\n",
    "def euclidean_clusterize(lines, use_stopwords=True):\n",
    "    return clusterize(lines, euclidean_distance, 0.6, use_stopwords=use_stopwords)"
   ]
  },
  {
   "cell_type": "markdown",
   "metadata": {
    "pycharm": {
     "name": "#%% md\n"
    }
   },
   "source": [
    "#### 3) metryka dice"
   ]
  },
  {
   "cell_type": "code",
   "execution_count": 6,
   "metadata": {
    "pycharm": {
     "name": "#%%\n"
    }
   },
   "outputs": [],
   "source": [
    "def dice_distance(X):\n",
    "    n = X.shape[0]\n",
    "\n",
    "    X = (X > 0).astype(np.int32)\n",
    "\n",
    "    sums = np.sum(X, axis=1)\n",
    "    sums = np.repeat(sums, n, axis=1) + sums.T\n",
    "\n",
    "    dist = (X @ X.T).toarray()\n",
    "    dist *= 2\n",
    "\n",
    "    return 1 - dist / sums\n",
    "\n",
    "\n",
    "def dice_clusterize(lines, use_stopwords=True):\n",
    "    return clusterize(lines, dice_distance, 0.5, use_stopwords=use_stopwords)"
   ]
  },
  {
   "cell_type": "markdown",
   "metadata": {
    "pycharm": {
     "name": "#%% md\n"
    }
   },
   "source": [
    "## 2. Implementacja indeksu Daviesa-Bouldina do oceny klasteryzacji"
   ]
  },
  {
   "cell_type": "code",
   "execution_count": 7,
   "metadata": {
    "pycharm": {
     "name": "#%%\n"
    }
   },
   "outputs": [],
   "source": [
    "def davies_bouldin_score(X, labels):\n",
    "    k = max(labels) + 1\n",
    "    cluster_matrices = [[] for _ in range(k)]\n",
    "\n",
    "    for i, label in enumerate(labels):\n",
    "        cluster_matrices[label].append(X[i])\n",
    "\n",
    "    for i in range(len(cluster_matrices)):\n",
    "        cluster_matrices[i] = vstack(cluster_matrices[i])\n",
    "\n",
    "    centroids = [np.sum(matrix, axis=0) / matrix.shape[0] for matrix in cluster_matrices]\n",
    "\n",
    "    avg_dist = [0 for _ in cluster_matrices]\n",
    "    for i, matrix in enumerate(cluster_matrices):\n",
    "        size = matrix.shape[0]\n",
    "        avg_dist[i] = np.sum(np.linalg.norm(matrix - (np.ones((size, 1)) @ centroids[i]), axis=1), axis=0) / size\n",
    "\n",
    "    R = np.zeros((k, k))\n",
    "    for i in range(k):\n",
    "        for j in range(i + 1, k):\n",
    "            R[i, j] = (avg_dist[i] + avg_dist[j]) / np.linalg.norm(centroids[i] - centroids[j])\n",
    "            R[j, i] = R[i, j]\n",
    "\n",
    "    return np.sum(np.max(R, axis=1)) / k"
   ]
  },
  {
   "cell_type": "markdown",
   "metadata": {
    "pycharm": {
     "name": "#%% md\n"
    }
   },
   "source": [
    "## 3. Tworzenie stoplisty\n",
    "\n",
    "Generujemy stoplistę przy użyciu wcześniej zaimplementowanej funkcji $get\\_stopwords$, która przyjmuje jako argument tekst do klasteryzacji jako $lines$ oraz opcjonalnie minimalną liczbę wystąpień słowa w tekście, aby zostało dodane do stoplisty (domyślnie 300)."
   ]
  },
  {
   "cell_type": "markdown",
   "metadata": {
    "pycharm": {
     "name": "#%% md\n"
    }
   },
   "source": [
    "#### Stoplista zawierająca słowa występujące ponad 300 razy"
   ]
  },
  {
   "cell_type": "code",
   "execution_count": 8,
   "metadata": {
    "pycharm": {
     "name": "#%%\n"
    }
   },
   "outputs": [
    {
     "name": "stdout",
     "output_type": "stream",
     "text": [
      "{'street', 'no', 'b', 'finland', 'ltd', 'z', '1', 'city', '81', 'china', '48', 'f', 'office', 'as', '58', '495', 'ningbo', 'of', 'international', 'ul', 'ooo', 'st', 'petersburg', 'sp', 'moscow', '358', 'oy', 'tel', '2', 'and', 'shanghai', 'district', 'fax', 's', 'p', '86', 'road', 'gdynia', 'shenzhen', '22', 'llc', 'o', 'limited', '812', 'poland', 'logistics', '7', 'str', 'russia', '5', 'co', 'building', 'c', '3', 'a'}\n"
     ]
    }
   ],
   "source": [
    "with open(\"./lines.txt\") as file:\n",
    "    file_lines = file.readlines()\n",
    "    stopwords = get_stopwords(file_lines)\n",
    "    print(stopwords)"
   ]
  },
  {
   "cell_type": "markdown",
   "metadata": {
    "pycharm": {
     "name": "#%% md\n"
    }
   },
   "source": [
    "#### Stoplista zawierająca słowa występujące ponad 100 razy"
   ]
  },
  {
   "cell_type": "code",
   "execution_count": 9,
   "metadata": {
    "pycharm": {
     "name": "#%%\n"
    }
   },
   "outputs": [
    {
     "name": "stdout",
     "output_type": "stream",
     "text": [
      "{'for', 'k', 'b', 'finland', 'ltd', 'trading', 'city', 'industry', 'f', 'phone', '58', 'guangdong', '495', 'cargo', '6', 'panalpina', 'petersburg', 'a', 'moscow', 'thailand', 'district', '18', 'attn', 's', '50', 'south', '62', 'o', '44', '13', 'logistics', 'str', 'intl', 'vantaa', '3', 'code', 'kong', 'jiangsu', '10', 'china', 'federation', 'm', 'warszawa', '11', 'ningbo', '00', 'agent', 'st', 'russian', 'polska', 'forwarding', 'and', 'order', 'shipping', 'town', 'fax', 'eori', '05', 'zone', '86', 'nagel', '8', 'shenzhen', 'centre', 'guangzhou', '39', 'the', 'e', 'saint', 'c', 'park', 'global', 'center', '31', '1', 'trade', '81', 'floor', 'on', 'rm', 'kotka', 'zip', '190020', 'kuehne', 'behalf', 'branch', 'international', 'forward', 'ul', 'rd', 'sp', 'd', '32', '2', '9', 'fmg', 'hong', 'box', 'east', 'inn', 'zhejiang', 'llc', 'freight', '812', 'mail', 'poland', 'korea', 'group', 'fi', 'room', 'business', 'gdynia', '22', 'com', 'street', 'plaza', 'lit', '4', 'pl', 'z', '12', '19', 'sea', '48', 't', 'office', 'import', 'as', 'company', 'schenker', 'h', 'world', 'of', 'ooo', 'industrial', '358', 'oy', 'damco', 'tel', 'province', 'air', 'export', '20', '0', 'shanghai', '37', 'r', 'tower', '16', 'qingdao', '40', '15', 'west', 'p', 'ocean', '01', 'road', 'taiwan', 'to', '17', 'limited', 'bldg', '7', '0086', 'line', '02', 'russia', '5', '21', 'co', 'building', 'xiamen', 'helsinki', 'no'}\n"
     ]
    }
   ],
   "source": [
    "with open(\"./lines.txt\") as file:\n",
    "    file_lines = file.readlines()\n",
    "    stopwords = get_stopwords(file_lines, minimum_occurrences=100)\n",
    "    print(stopwords)"
   ]
  },
  {
   "cell_type": "markdown",
   "metadata": {
    "pycharm": {
     "name": "#%% md\n"
    }
   },
   "source": [
    "## 4. Klasteryzacja zawartości pliku lines.txt przy użyciu metryk z pkt. 1"
   ]
  },
  {
   "cell_type": "code",
   "execution_count": 10,
   "metadata": {
    "pycharm": {
     "name": "#%%\n"
    }
   },
   "outputs": [
    {
     "name": "stdout",
     "output_type": "stream",
     "text": [
      "Klastry przypisane przy użyciu danej metryki dla danej lini pliku lines.txt (klasteryzacja przebiega dla całego pliku, wyświetalne jest pierwsze 30): \n",
      "\n",
      "COSINE_LABEL: 2694,  EUCLIDEAN_LABEL: 2684,  DICE_LABEL:2682\n",
      "/11692589 RD TUNA CANNERS, LTD. PORTION 1004, SIAR NORTH COAST ROAD, P.O.BOX 2113, MADANG, PAPUA NEW GUINEA\n",
      "\n",
      "COSINE_LABEL: 2513,  EUCLIDEAN_LABEL: 2487,  DICE_LABEL:2687\n",
      "''PA INTERIOR'' LTD BOLSHAYA LUBYANKA STREET, 16/4 MOSCOW, 101000, RUSSIA INN/KPP 7704550148//770801001 495-984-8611\n",
      "\n",
      "COSINE_LABEL: 429,  EUCLIDEAN_LABEL: 1712,  DICE_LABEL:1586\n",
      "''SSONTEX''  Sp.ZO.O.IMPORT-EXPORTUL:PRZECLAWSKA 5 03-879 WARSZAWA,POLAND NIP 113-01-17-669\n",
      "\n",
      "COSINE_LABEL: 429,  EUCLIDEAN_LABEL: 1712,  DICE_LABEL:1586\n",
      "''SSONTEX''SP.ZO.O.IMPORT-EXPORT UL:PRZECLAWSKA 5 03-879 WARSZAWA,POLAND NIP 113-01-17-669 TEL./FAX.:0048(022)217 6532--\n",
      "\n",
      "COSINE_LABEL: 262,  EUCLIDEAN_LABEL: 298,  DICE_LABEL:148\n",
      "''TOPEX SP. Z O.O.'' SPOLKA KOMANDYTOWA UL. POGRANICZNA 2/4  02-285 WARSZAWA POLAND\n",
      "\n",
      "COSINE_LABEL: 3583,  EUCLIDEAN_LABEL: 2791,  DICE_LABEL:1903\n",
      "'MASTER PLUS CO.,LTD.' 143000,RUSSIA,MO,ODINSOVO, MOJAISKOE, SHOSSE,153G TEL:+7495 7273939\n",
      "\n",
      "COSINE_LABEL: 3635,  EUCLIDEAN_LABEL: 3605,  DICE_LABEL:1876\n",
      "\"2TIGERS GROUP LIMITED\"  ROOM 504 JINSHAZHOU SHANGSHUI ROAD,  GUANGZHOU 510160\n",
      "\n",
      "COSINE_LABEL: 693,  EUCLIDEAN_LABEL: 1704,  DICE_LABEL:642\n",
      "\"ALDETRANS\" LLC, 105066, MOSCOW, RUSSIA, TOKMAKOV LANE, 11. TEL:+7(495)641-03-89\n",
      "\n",
      "COSINE_LABEL: 3419,  EUCLIDEAN_LABEL: 3387,  DICE_LABEL:2149\n",
      "\"A-LIFT\",JSC 1 PROSPEKT MARSHALA ZHUKOVA,MOSCOW 123308,RUSSIA  T: +7(495)784-7961\n",
      "\n",
      "COSINE_LABEL: 3559,  EUCLIDEAN_LABEL: 3540,  DICE_LABEL:3258\n",
      "\"ALISA\" LTD, 1/5 Derbenevskaya str., Moscow, Russia Tel./Fax: (495) 987-13-07 postal code: 115114\n",
      "\n",
      "COSINE_LABEL: 3818,  EUCLIDEAN_LABEL: 3811,  DICE_LABEL:58\n",
      "\"ALLIANCE-TRADE\" LLC INN: 7816391055 / KPP: 784601001 190020, Saint Petersburg, quay of the Obvodny channel, 138, bulk 1, liter.B\n",
      "\n",
      "COSINE_LABEL: 3452,  EUCLIDEAN_LABEL: 3446,  DICE_LABEL:3445\n",
      "\"ALTAIR\" LIMITED COMPANY 199004,SAINT-PETERSBURG, 1 LINE,H.20 LIT A,OF.8-H\n",
      "\n",
      "COSINE_LABEL: 938,  EUCLIDEAN_LABEL: 164,  DICE_LABEL:244\n",
      "\"ARIVIST\", 198035,RUSSIA,SAINT-PETERSBURG, GAPSALSKAYA STR.,5,OFFICE 1-3; TEL:+78123277732,FAX:+781 23277729.VOLOKNO@YAHOO.COM\n",
      "\n",
      "COSINE_LABEL: 938,  EUCLIDEAN_LABEL: 164,  DICE_LABEL:244\n",
      "\"ARIVIST\", 198035,RUSSIA,SAINT-PETERSBURG, GAPSALSKAYA STR.,5,OFFICE 1-3; TEL.:+78123277732,FAX+ 78123277729.\n",
      "\n",
      "COSINE_LABEL: 938,  EUCLIDEAN_LABEL: 164,  DICE_LABEL:244\n",
      "\"ARIVIST\", 198035,RUSSIA,SAINT-PETERSBURG,  GAPSALSKAYA STR.,5,OFFICE1-3; TEL.:+78123277732,FAX+ 78123277729.\n",
      "\n",
      "COSINE_LABEL: 938,  EUCLIDEAN_LABEL: 164,  DICE_LABEL:244\n",
      "\"ARIVIST\", 198035,RUSSIA,SAINT-PETERSBURG,  GAPSALSKAYA STR.,5,OFFICE1-3; TEL.:+78123277732,FAX + 78123277729.\n",
      "\n",
      "COSINE_LABEL: 938,  EUCLIDEAN_LABEL: 164,  DICE_LABEL:244\n",
      "\"ARIVIST\", 198035, RUSSIA,  SAINT-PETERSBURG,  GAPSALSKAYA STR.,5,OFFICE1-3;  TEL.+78123277732, FAX  +78123277729.\n",
      "\n",
      "COSINE_LABEL: 938,  EUCLIDEAN_LABEL: 164,  DICE_LABEL:244\n",
      "\"ARIVIST\", 198035, RUSSIA, SAINT-PETERSBURG, GAPSALSKAYA STR.,5, OFFICE1-3; TEL.+78123277732, FAX +78123277729. VOLOKNO@YAHOO.COM\n",
      "\n",
      "COSINE_LABEL: 938,  EUCLIDEAN_LABEL: 164,  DICE_LABEL:244\n",
      "\"ARIVIST\", 198035, RUSSIA, SAINT-PETERSBURG. GAPSALSKAYA STR.,5. OFFICE1-3; TEL.+78123277732, FAX+78123277729. VOLOKNO@YAHOO.COM\n",
      "\n",
      "COSINE_LABEL: 980,  EUCLIDEAN_LABEL: 1953,  DICE_LABEL:58\n",
      "\"AVANPORT\"  LLC INN: 7839413675 KPP: 783901001 190020, SAINT PETERSBURG, QUAY OF THE OBVODNY CHANNEL, 134-136-138, BUILD. 101, LIT. A\"\n",
      "\n",
      "COSINE_LABEL: 980,  EUCLIDEAN_LABEL: 1953,  DICE_LABEL:58\n",
      "\"AVANPORT\"  LLC INN: 7839413675 KPP: 783901001 190020, SAINT PETERSBURG, QUAY OF  THE OBVODNY CHANNEL,134-136-138,  BUILD. 101, LIT. A\"\n",
      "\n",
      "COSINE_LABEL: 2293,  EUCLIDEAN_LABEL: 2265,  DICE_LABEL:2371\n",
      "\"AVENTA\"LTD. ADDRESS:129 110,MOSCOW,PROSPEKT MIRA,H.52,STR.3,POM,III Tel: 8-968-808-80-11\n",
      "\n",
      "COSINE_LABEL: 585,  EUCLIDEAN_LABEL: 1205,  DICE_LABEL:174\n",
      "\"AVSON-GROUP\" COMPANY LIMITED 190008, ST. PETERSBURG,  RIMSKOGO-KORSAKOVA,  73/33, LIT. A-1\n",
      "\n",
      "COSINE_LABEL: 585,  EUCLIDEAN_LABEL: 1205,  DICE_LABEL:174\n",
      "\"Avson-group\" Company Limited  190008, St. Petersburg, Rimskogo-Korsakova, 73/33, lit. A-1\n",
      "\n",
      "COSINE_LABEL: 566,  EUCLIDEAN_LABEL: 283,  DICE_LABEL:641\n",
      "\"BIO plus LTD\" INN 7805166210 198303, S-Petersburg, Leninskiy Pr.,110/1, lit B, app.53-H, RUSSIA\n",
      "\n",
      "COSINE_LABEL: 3215,  EUCLIDEAN_LABEL: 3209,  DICE_LABEL:3386\n",
      "\"CARGOIMPORT\" LTD VNUKOVSKAYA STREET, BUILDING 2, R.43-H-1, SAINT-PETERSBURG, RUSSIA .\n",
      "\n",
      "COSINE_LABEL: 2551,  EUCLIDEAN_LABEL: 3839,  DICE_LABEL:2183\n",
      "\"COLOS\"COMPLEX LOGISTICS,SOLUTIONSPIOTR KACZMAREK I PAWEL WILK SP.J.ZACHODNIA STREET NO 3 55-011 SIECHNICE POLAND\n",
      "\n",
      "COSINE_LABEL: 34,  EUCLIDEAN_LABEL: 1019,  DICE_LABEL:632\n",
      "\"ELECTROGROUP\" (OOO),190068.RUSSIA,SAINT-PETERSBURG,UL.BOLSHAYA PODYACHESKAYA,5,LIT.A,POM.4-N\n",
      "\n",
      "COSINE_LABEL: 34,  EUCLIDEAN_LABEL: 1019,  DICE_LABEL:632\n",
      "\"ELECTROGROUP\" (OOO),190068.RUSSIA,SAINT-PETERSBURG,UL.BOLSHAYA  PODYACHESKAYA,5,LIT.A,POM.4-N\n",
      "\n",
      "COSINE_LABEL: 2303,  EUCLIDEAN_LABEL: 2303,  DICE_LABEL:2689\n",
      "\"ELEKTROAPPARAT\" PLC   24th LiniyaV.O.,St.Petersburg. Sup.office No.1of Kirovsky RUSSIA TEL: 0079-219646264\n",
      "\n"
     ]
    }
   ],
   "source": [
    "with open(\"./lines.txt\") as file:\n",
    "    file_lines = file.readlines()\n",
    "    n = len(file_lines)\n",
    "\n",
    "    labels1 = cosine_clusterize(file_lines)\n",
    "    labels2 = euclidean_clusterize(file_lines)\n",
    "    labels3 = dice_clusterize(file_lines)\n",
    "\n",
    "    print(\"Klastry przypisane przy użyciu danej metryki dla danej lini pliku lines.txt (klasteryzacja przebiega dla całego pliku, wyświetalne jest pierwsze 30): \\n\")\n",
    "    for i in range(30):\n",
    "        print(f\"COSINE_LABEL: {labels1[i]},  EUCLIDEAN_LABEL: {labels2[i]},  DICE_LABEL:{labels3[i]}\")\n",
    "        print(file_lines[i])\n",
    "\n",
    "    clusters1 = [[] for _ in range(max(labels1) + 1)]\n",
    "    clusters2 = [[] for _ in range(max(labels2) + 1)]\n",
    "    clusters3 = [[] for _ in range(max(labels3) + 1)]\n",
    "\n",
    "    for labels, clusters in [(labels1, clusters1), (labels2, clusters2), (labels3, clusters3)]:\n",
    "        for i, label in enumerate(labels):\n",
    "            clusters[label].append(file_lines[i])\n",
    "\n",
    "    for filename, clusters in [(f\"result_cosine.txt\", clusters1), (f\"result_euclidean.txt\", clusters2), (f\"result_dice.txt\", clusters3)]:\n",
    "        with open(f\"./{filename}\", \"w\") as result:\n",
    "            for cluster in clusters:\n",
    "                result.write(\"##########\\n\")\n",
    "                for item in cluster:\n",
    "                    result.write(item)\n",
    "                result.write(\"\\n\")"
   ]
  },
  {
   "cell_type": "markdown",
   "metadata": {
    "pycharm": {
     "name": "#%% md\n"
    }
   },
   "source": [
    "Powyższy fragment kodu dokonuje klasteryzacji dla całego pliku przy użyciu wszystkich 3 zaimplementowanych metryk, wyświetla pierwsze 30 lini z przypisanymi numerami klastra oraz zapisuje do trzech oddzielnych plików podział na klastry. Początkowe klastry z tych plików wyglądają następująco:"
   ]
  },
  {
   "cell_type": "markdown",
   "metadata": {
    "pycharm": {
     "name": "#%% md\n"
    }
   },
   "source": [
    "#### Klasteryzacja przy użyciu metryki cosinusowej\n",
    "Pierwsze 100 lini z pliku result_cosine.txt"
   ]
  },
  {
   "cell_type": "code",
   "execution_count": 11,
   "metadata": {
    "pycharm": {
     "name": "#%%\n"
    }
   },
   "outputs": [
    {
     "name": "stdout",
     "output_type": "stream",
     "text": [
      "##########\n",
      "RAHTIHUOLINTA SUOMI OY RAHTITIE 2 01530 VANTAA FINLAND EORI NO.:FI0871169-1 TEL:+35895868820 FAX:+358958688282 FI-\n",
      "RAHTIHUOLINTA SUOMI OY RAHTITIE 2 01530 VANTAA FINLAND TEL:+35895868820 FAX:+358958688282 EORI NO.:FI0871169-1 FI-\n",
      "RAHTIHUOLINTA SUOMI OY RAHTITIE 2 FI-01530 VANTAA FINLAND AS AGENT OFPELORUS OCEAN LINE\n",
      "\n",
      "##########\n",
      "ITALUX SP. Z O.O. SP. KOMADYTOWA 04-697 WARSZAWA,UL. MROWCZA 208,POLAND TEL:0048-022-8156962 FAX:0048-022-8156963\n",
      "ITALUX SP.Z O.O. SP. KOMADYTOWA  04-697 WARSZAWA UL MROWCZA 208 +48 228156962\n",
      "\n",
      "##########\n",
      "SCAN GLOBAL LOGISTICS  (FINLAND) OYKOIVUHAANTIE 2-4 D 01510 VANTAA FINLAND\n",
      "SCAN GLOBAL LOGISTICS (FINLAND) OYKOIVUHAANTIE 2-4 D 01510 VANTAA FINLAND CONTACT:KALLE PAKKI\n",
      "SCAN GLOBAL LOGISTICS(FINLAND)OY KOIVUHAANTIE 2-4D FI-01510 VANTAA FINLAND\n",
      "SCAN GLOBAL LOGISTICS (FINLAND) OYKOIVUHAANTIE 2-4D FI-01510 VANTAA TEL:+358 5 2604450 FAX:+358 5 2604459\n",
      "SCAN GLOBAL LOGISTICS (FINLAND) OYKOIVUHAANTIE VANTAA(VANDA) 01510 FINLAND\n",
      "SCAN GLOBAL LOGISTICS (FINLAND) OYKOIVUHAANTIE Vantaa (Vanda) 01510 Finland\n",
      "\n",
      "##########\n",
      "SEALAND LOGISTICS SP. Z.O.O. UL. JANKA WISNIEWSKIEGO 20 81-969 GDYNIAPHN: +48 58 627 88 10 FAX: +48 58 742 59 15\n",
      "SEALAND LOGISTICS SP. Z.O.O. UL. JANKA WISNIEWSKIEGO 20 81-969 GDYNIATEL. + 48 58 627 88 10 FAX. + 48 58742 59 15\n",
      "SEALAND LOGISTICS SP.ZO.O. EORI#??PL958162434900000 UL.JANKA WISNIEWSKIEGO 20 81-969 GDYNIA TEL.48 58 62094 84 FAX.48 58 742 59 15\n",
      "\n",
      "##########\n",
      "OOO \"SHKVAL\" 2 KOLTCOVA STR RYAZAN390000 RUSSIA INN 6234067795\n",
      "OOO \"SHKVAL\" 390000, RUSSIA RYAZAN,KOLTCOVA UL.2, INN 6234067795\n",
      "OOO<<Shkval>>ADD.:390000, RUSSIA,RYAZANSKAYA REG., RYAZAN, KOLTCOVASTR 2, INN 6234067795 TEL:+7 495 974 2260   EORI NO.INN 6234067795\n",
      "\n",
      "##########\n",
      "HALMAR A.MYSIOR , W.GESIDRSKI SP.K,UL.NIEZLOMN YCH 86 ,37-450 STALOWAWOLA POLAND\n",
      "HALMAR A.MYSIOR, W.GESIORSKI  SP.K.,UL.NIEZLOMNYCH 86 37-450  STALOWAWOLA\n",
      "HALMAR A. MYSIOR, W. GESIORSKI  SPOLKA KOMANDYTOWA 37-450 STALOWA WOLAUL. NIEZLOMNYCH 86, POLAND\n",
      "HALMAR A.MYSIOR, W.GESIORSKI  SPOLKAKOMANDYTOWA UL. NIEZLOMNYCH 86 37-450 STALOWA WOLA\n",
      "HALMAR A.MYSIOR W.GESIORSKI SP.K.,UL.NIEZLOMNYCH 86,37-450 STALOWA WOLA\n",
      "HALMAR A. MYSIOR W.GESIORSKI SP.K.,UL. NIEZLOMNYCH 86 37-450 STALOWAWOLA\n",
      "HALMAR A.MYSIOR W.GESIORSKI SP. KOMANDYTOWA UL.NIEZLOMNYCH 8637-450 STALOWA WOLA POLAND\n",
      "HALMAR A.MYSIOR W.GESIORSKI SP. KOMANDYTOWA UL. NIEZLOMNYCH 86 37-450STALOWA WOLA POLAND\n",
      "HALMAR A. MYSIOR W. GESIORSKI SP.KOM    TEL  0048 15 843 28 25    UL.NIEZLOMNYCH 86 37-450 STALOWA WOLAPOLAND\n",
      "HALMAR A.MYSIOR W.GESIORSKI SPOLKAKOMANDYTOWA, UL-NIEZLOMNYCH 86, 37-450,STALOWA WOLA\n",
      "HALMAR A. MYSIOR W.GESIORSKI SPOLKAKOMANDYTOWA UL. NIEZLOMNYCH 86 37-450 STALOWA WOLA\n",
      "HALMAR A MYSIOR W GESIORSKI SP KOMANDYTOWA UL NIEZLOMNYCH 86 37-450 STALOWA WOLA POLAND\n",
      "TO HALMAR A. MYSIOR W.GESIORSKI SP.K., UL. NIEZLOMNYCH 86 37-450 STALOWA WOLA\n",
      "\n",
      "##########\n",
      "ILP-GROUP LOGISTICS  MERITUULENTIE424,48310 KOTKA, FINLAND EORI: FI0996266-0 TEL:+358 20 7210538\n",
      "ILP-GROUP LOGISTICS OY EORI#FI0996266-0 MERITUULENTIE 424 FI-48310 KOTKA FINLAND\n",
      "ILP-GROUP LOGISTICS OY MERITUULENTIE 424,48310 KOTKA,FINLAND EORI: FI0996266-0 TEL:+358 20 7210538\n",
      "ILP-GROUP LOGISTICS OY MERITUULENTIE 424, 48310 KOTKA,  FINLAND EORI:FI0996266-0 TEL:+358 20 7210538\n",
      "ILP-GROUP LOGISTICS OY MERITUULENTIE 424, 48310 KOTKA, FINLAND EORI: FI0996266-0 TEL:+358 20 7210538 FAX:+358 20 7210531 CONTACT:PTC: EIJA SAAMANEN\n",
      "ILP-GROUP LOGISTICS OY  MERITUULENTIE 424, 48310 KOTKA, FINLAND EORI:FI0996266-0 TEL:+358 20 7210538 FAX:+358 20 7210531 CONTACT:PTC: EIJASAAMANEN\n",
      "ILP-GROUP LOGISTICS OY MERITUULENTIE 424, MERITUULENTIE 424 48310 KOTKA FINLAND\n",
      "ILP-GROUP LOGISTICS OY MERITUULENTIE 424, MERITUULENTIE 424 48310 KOTKA FINLAND EORI: FI0996266-0\n",
      "ILP - GROUP LOGISTICS OY PARTNERSMERITUULENTIE 424 FI-48310 KOTKA, FINLAND EORI # FI0996266-0PTC: EIJASAAMANEN\n",
      "\n",
      "##########\n",
      "PANALPINA CIS HELSINKI OY, REPRESENTATIVE OFFICE,MOSCOW 115114,RUSSIA,MOSCOW DERBENEVSKAYA NAB.,7,BLOCK 9, TEL:(7-495)961-25-59 FAX:(7-495)961-2569/79\n",
      "PANALPINA CIS HELSINKI OY REPRESENTATIVE OFFICE, MOSCOW 115114, RUSSIA, MOSCOW, DERBENEVSKAYA NAB., 7, BLOCK 9\n",
      "PANALPINA CIS HELSINKI OY REPRESENTATIVE OFFICE,MOSCOW DERBENEVSKAYA NAB.,7,BLOCK 9 115114,RUSSIA,MOSCOWTEL:7 495 961 2559\n",
      "PANALPINA CIS HELSINKI OY REPRESENTATIVE OFFICE BUSINESS-CENTRE \"NOVOSPASSKIY DVOR\", 7 BLOCK 9, DERBENEVSKAYA NABEREJNAYA 115114 MOSCOW RUSSIA PHONE +7 495 96 1 2559 FAX 2569\n",
      "\n",
      "##########\n",
      "KUEHNE + NAGEL (OOO) LOTTE PLAZA BUILDING NOVINSKY BLVD., 13/14TH FLOOR 119002 MOSCOW, RUSSIAN FEDERATIONAS AGENT OF BLUE ANCHOR LINE\n",
      "KUEHNE + NAGEL (OOO)  LOTTE PLAZA BUILDING NOVINSKY BLVD., 13/14TH FLOOR 119002 MOSCOW, RUSSIAN FEDERATION AS AGENT OF BLUE ANCHOR LINE\n",
      "TO ORDER OF KUEHNE+NAGEL LLC TREKHPRUDNY PEREULOK,11-13,OFFICE 7 123001 MOSCOW RUSSIAN FEDERATION AS AGENT OF BLUE ANCHOR LINE AS AGENT OF BLUE ANCHOR LINE\n",
      "\n",
      "##########\n",
      "SCHENKER SP.Z O.O. AIR&OCEAN FREIGHT DEPARTMENT UL. WISNIEWSKIEGO 3181-156 GDYNIA,POLSKA TEL: +48 58 6213763 FAX: +48 58 6213737\n",
      "Schenker Sp. z o. o. Air&Ocean Freight Department ul. Wisniewskiego 3181-156 Gdynia, Polska tel.     +48-58-6213763 fax.    +48-58-6213737\n",
      "Schenker Sp. z o. o. Air&Ocean Freight Department ul. Wisniewskiego 3181-156 Gdynia, Polska tel.     +48-58-6213764 fax.    +48-58-6213737\n",
      "SCHENKER SP.ZO.O. AIR&OCEAN FREIGHT DEPARTMENT UL.WISNIEWSKIEGO 31 81-156 GYDNIA, POLSKA TEL:4858621374FAX:485862137 ATTN: MARIA BORNOWSKA\n",
      "\n",
      "##########\n",
      "DEPO AUTO PARTS IND. CO., LTD. ON BEHALF OF AWAK HANDEL GMBH, MATHIAS-BRUEGGEN-STR. 124 50829, COLOGNE, GERMANY\n",
      "SHANGHAI YETAO INDUSTRIAL CO.,LTD ON BEHALF OF AWAK HANDEL GMBH (COLOGNE,GERMANY)\n",
      "\n",
      "##########\n",
      "IT-LOGISTICS SP.Z.O.O. UL.SW.WOJCIECHA 10 A/25 81-347 GDYNIA\n",
      "IT-LOGISTICS SP.Z.O.O. UL.SW.WOJCIECHA 10 A/25 81-347 GDYNIA TEL: 48 58 669 7076 FAX: 48 58 669 7041\n",
      "IT - LOGISTICS SP. Z.O.O.UL. SW WOJCIECHA 10 A/2581-347 GDYNIA             Tel:48 58 663 70 76             Fax: 48 58 669 70 41\n",
      "IT - LOGISTICS SP. Z.O.O. UL. SW WOJCIECHA 10 A/25 81-347 GDYNIA TEL:48 58 663 70 76 FAX: 48 58 669 70 41\n",
      "IT-LOGISTICS SP.Z.O.O. UL.SW WOJCIECHA 10 A/25 81-347 GDYNIA TEL:48 58663 70 76 FAX:48 58 669 70 41\n",
      "IT - LOGISTICS SP. Z O.O. UL. SW WOJCIECHA 10 A/25 81-347 GDYNIA CTC:KATE TEL: 48 58 663 70 76 FAX: 48 58 669 70 41\n",
      "\n",
      "##########\n",
      "DY KUEHNE + NAGEL LTD TIKKURILANTIE141 01530 VANTAA FINLAND\n",
      "OY KUEHNE + NAGEL LTD. TIKKURILANTIE 141 01530 VANTAA FINLAND\n",
      "OY KUEHNE + NAGEL LTD. TIKKURILANTIE 141 01530 VANTAA FINLAND AS AGENTOF BLUE ANCHOR LINE\n",
      "OY KUEHNE + NAGEL LTD. TIKKURILANTIE 141 01530 VANTAA FINLAND AS AGENTOF BULE ANCHOR LINE\n",
      "OY KUEHNE + NAGEL LTD TIKKURILANTE141 01530 VANTAA FINLAND\n",
      "OY KUEHNE + NAGEL LTD TIKKURILANTIE141 01530 VANTAA FINLAND\n",
      "\n",
      "##########\n",
      "PANTOS LOGISTICS (CHINA)CO.,LTD\n",
      "PANTOS LOGISTICS(CHINA) CO.,LTD.\n",
      "PANTOS LOGISTICS CO.,LTD. O/B OF AVATEC CO., LTD\n",
      "PANTOS LOGISTICS CO.,LTD. O/B OF LGCHEM, LTD.\n",
      "PANTOS LOGISTICS CO.,LTD. O/B OF SSCP CO., LTD.\n",
      "\n",
      "##########\n",
      "ISSUED TO THE ORDER OF SHIPPER\n",
      "to order\n"
     ]
    }
   ],
   "source": [
    "with open(\"result_cosine.txt\", \"r\") as file:\n",
    "    for _ in range(100):\n",
    "        print(file.readline(), end=\"\")"
   ]
  },
  {
   "cell_type": "markdown",
   "metadata": {
    "pycharm": {
     "name": "#%% md\n"
    }
   },
   "source": [
    "#### Klasteryzacja przy użyciu metryki euklidesowej\n",
    "Pierwsze 100 lini z pliku result_euclidean.txt"
   ]
  },
  {
   "cell_type": "code",
   "execution_count": 12,
   "metadata": {
    "pycharm": {
     "name": "#%%\n"
    }
   },
   "outputs": [
    {
     "name": "stdout",
     "output_type": "stream",
     "text": [
      "##########\n",
      "Saudi Basic Industries Corporation(SABIC) P.O. Box 5101 Riyadh 11422Kingdom of Saudi Arabia\n",
      "SAUDI BASIC INDUSTRIES CORPORATION(SABIC) P.O. BOX 5101 RIYADH 11422KINGDOM OF SAUDI ARABIA\n",
      "SAUDI BASIC INDUSTRIES CORPORATIONKINGDOM OF SAUDI ARABIAPO BOX 5101RIYADH 11422SAUDI ARABIA\n",
      "\n",
      "##########\n",
      "TAKERNG PINEAPPLE INDUSTRIAL CO., LTD. 220 MOO 6, T.SALALAI , SAMROIYOD, PRACHUABKIRIKHAN 77180 , THAILAND\n",
      "TAKERNG PINEAPPLE INDUSTRIAL CO., LTD. 220 MOO 6, T. SALALAI , SAMROIYOD, PRACHUABKIRIKHAN 77180 , THAILAND\n",
      "TAKERNG PINEAPPLE INDUSTRIAL CO LTD-220 MOO 6 PHETKASEM ROADSALALAI SAMROIYOD, PRACHUAP KHIRI K77180 THAILAND\n",
      "\n",
      "##########\n",
      "FORWARD EXPEDITION LIMITED HKG, MOSCOW REPRESENTATION,119002,RUSSIA,MOSCOW, KRIVOARBATSKIY PEREULOK, 13,BUILDING 2, 3RD FLOOR TEL:+7 (495)604-1200 EXT.106 FAX:+7 (495) 604-1\n",
      "FORWARD EXPEDITION LIMITED HKG,MOSCOW  REPRESENTATION 119002, RUSSIA,MOSCOW, KRIVOARBATSKIY PEREULOK, 13, BUILDING 2, 3RD FLOOR TEL:+7(495)604-1200 EXT.106 FAX:+7(495)604-120\n",
      "FORWARD EXPEDITION LIMITED HKG,MOSCOW REPRESENTATION 119002, RUSSIA, MOSCOW, KRIVOARBATSKIY PEREULOK, 13,BUILDING 2, 3RD FLOOR TEL:+7(495)604-1200 EXT.106 FAX:+7(495)604-1200\n",
      "FORW ARD EXPEDITION LIMITED HKG,MOSCOW REPRESENTATION 119002, RUSSIA,MOSCOW, KRIVOARBATSKIY PEREULOK, 13, BUILDING 2, 3RD FLOUR  TEL:+7(495)604-1200 EXT.106 FAX:+7(495)604-12\n",
      "FORWARD EXPEDITION LIMITED HKG,MOSCOW REPRESENTATION 119002, RUSSIA, MOSCOW, KRIVOARBATSKIY PEREULOK, 13,BUILDING 2, 3RD FLOUR  TEL:+7(495)604-1200 EXT.106 FAX:+7(495)604-120\n",
      "FORWARD EXPEDITION LIMITED HKG,MOSCOW REPRESENTATION 119002, RUSSIA, MOSCOW, KRIVOARBATSKIY PEREULOK, 13,BUILDING 2, 3RD FLOUR TEL:+7(495)604-1200 EXT.106 FAX:+7(495)604-1200\n",
      "FORWARD EXPEDITION LIMITED HKG,MOSCOW REPRESENTATION 119002, RUSSIA, MOSCOW, KRIVOARBATSKIY PEREULOK, 13,BUILDING 2,  TEL: +7(495) 604-12-00 EXT.114 FAX: +7(495) 604-12-00 EX\n",
      "FORWARD EXPEDITION LIMITED HKG, MOSCOW REPRESENTATION 119002, RUSSIA,MOSCOW,  KRIVOARBATSKIY PEREULOK, 13, BUILDING 2 TEL:+7(495)604-1200 EXT.110  FAX:+7(495)604-1200 EXT.116\n",
      "FORWARD EXPEDITION LIMITED HKG MOSCOW REPRESENTATION 119002, MOSCOW, KRIVOARBATSKIY PEREULOK, 13,BUILDING2 TEL: +7(495) 604-12-00 EXT.110 FAX: +7(495) 604-12-00 EXT. 116\n",
      "\n",
      "##########\n",
      "KGI GLOMB LOGISTICS ALEJA SOLIDARNOCI IC, 309/310 81-336 GDYNIA/POLAND ATTN:DAREK RYDZ TEL:48+58/621-51-10 FAX:+48+58/621-51-20\n",
      "KGI GLOMB LOGISTICS SP.Z O.O. ALEJASOLIDARNOCI 1C,81-336 GDYNIA,POLAND TEL:+(48) 58 621 51 11 FAX:(48) 58 621 51 20\n",
      "KGI GLOMB LOGISTICS SP.Z O.O. ALEJASOLIDARNOCI 1C,81-336 GDYNIA,POLAND TEL:+(48)58 621 51 11 FAX:+(48)5862 51 20\n",
      "\n",
      "##########\n",
      "PT. KN SIGMA TRANS GRAHA BIP 4TH FLOOR JL. JEND. GATOT SUBROTO KAV. 23JAKARTA 12930, INDONESIA\n",
      "PT. KN SIGMA TRANS GRAHA BIP 4TH  FLOOR  JL. JEND. GATOT SUBROTO KAV.23 JAKARTA 12930, INDONESIA\n",
      "PT. KN-SIGMA TRANS GRAHA BIP 4TH FLOOR JL. JEND. GATOT SUBROTO KAV. 23JAKARTA 12930, INDONESIA\n",
      "PT. KN-SIGMA TRANS GRAHA BIP 4TH FLOOR JL. JEND. GATOT SUBROTO KAV. 23JAKARTA 12930, INDONESIA AS AGENTOF BLUE ANCHOR LINE\n",
      "PT KN SIGMA TRANSCUSTOMERGRAHA BIP 4TH FLOOR PO BOX 88/JKPJJL JEND GATOT SUBROTO KAV 23, JAKAR12930 INDONESIA\n",
      "\n",
      "##########\n",
      "KUEHNE+NAGEL LTD, AYRIKUJA 3, FL-01510 VANTAA\n",
      "KUEHNE+NAGEL LTD., AYRIKUJA 3, F-01510 VANTAA\n",
      "KUEHNE+NAGEL OY AYRIKUJA 3 F-01510VANTAA\n",
      "\n",
      "##########\n",
      "Electrolux Poland Sp.z.o.o-Loawa Plant Electrolux Poland Sp.z.o.o ul.Ofiar Katynia 5 55-200 Olawa PolandTel: +48713817501\n",
      "Electrolux Poland Sp.z.o.o - OlawaPlant    Electrolux Poland Sp.z.o.o; ul. Ofiar Katynia 5; 55-200 Olawa; Poland krzysztof.reczuch@electrolux.com; phone/fax: + 48 71 3817 413\n",
      "ELECTROLUX POLAND SP.Z.O.O - OLAWAPLANT ELECTROLUX POLAND SP.Z.O.O; UL. OFIAR KATYNIA 5;  55-200 OLAWA;POLAND MONIKA INEROWICZ;    MONIKA.INEROWICZ@ELECTROLUX.COM; PHONE/FAX\n",
      "ELECTROLUX POLAND SP.Z.O.O-OLAWA PLANT ELECTROLUX POLAND SP.Z.O.O;UL.OFIAR KATYNIA 5; 55-200 OLAWA;POLANDTOMASZ NALEPA,; TOMASZ.NALEPA@ELECTROLUX.COM; PHONE/FAX:+48713817 503\n",
      "ELECTROLUX POLAND SP.Z.O.O - OLAWAPLANT ELECTROLUX POLAND SP.Z.O.O: UL. OFIAR KATYNIA 5: 55-200 OLAWA: POLAND AGATA.FLAKOWSKA@ELECTROLUX.COM;  PHONE:+ 4871 3817501\n",
      "ELECTROLUX POLAND SP Z.O.O. - OLAWAPLANT ELECTROLUX POLAND SP.Z.O.O,UL. OFIAR KATYNIA 5, 55-200 OLAWA,POLAND CTC: AGATA FLAKOWSKA E-MAIL:AGATA.FLAKOWSKA@ELECTROLUX.COM TEL\n",
      "\n",
      "##########\n",
      "PANTOS LOGISTICS POLAND SP. Z O.O.PANTOS LOGISTICS POLAND SP. Z O.O.UL. SZYSZKOWA 43 WARSZAWA, POLAND ZIP: 02-285\n",
      "PANTOS LOGISTICS POLAND SP. Z O.O.UL.SZYSZKOWA 43 WARSZAWA,POLAND ZIP:02-285  T:0048 22 358 2750 F:0048-22-358-2739 ATTN:PIOTR PADUCH  EORI:PL521334287900000\n",
      "PANTOS LOGISTICS POLAND SP. Z O.O.UL.SZYSZKOWA 43 WARSZAWA, POLANDZIP:02-285TEL:0048 22 358 2750\n",
      "PANTOS LOGISTICS POLAND SP. Z O.O.UL.SZYSZKOWA 43 WARSZAWA, POLANDZIP:02-285TEL:0048 22 358 2750@@@\n",
      "PANTOS LOGISTICS POLAND SP. Z O.O.UL. SZYSZKOWA 43 WARSZAWA, POLAND ZIP: 02-285 TEL : 0048 22 358 2750 ATTN: PIOTR PADUCH--\n",
      "PANTOS LOGISTICS POLAND SP. Z O.O.UL. SZYSZKOWA 43 WARSZAWA, POLAND ZIP: 02-285 TEL : 0048 22 358 2750 ATTN: PIOTR PADUCH---\n",
      "PANTOS LOGISTICS POLAND SP. Z O.O.UL. SZYSZKOWA 43  WARSZAWA, POLANDZIP: 02-285 TEL : 0048 22 358 2750ATTN: PIOTR PADUCH EORI : PL52133428790000\n",
      "PANTOS LOGISTICS POLAND SP. Z O.O.UL. SZYSZKOWA 43  WARSZAWA, POLANDZIP: 02-285 TEL : 0048 22 358 2750ATTN: PIOTR PADUCH EORI : PL521334287900000\n",
      "PANTOS LOGISTICS POLAND SP. Z O.O.UL. SZYSZKOWA 43  WARSZAWA, POLANDZIP: 02-285  TEL : 0048 22 358 2750ATTN: PIOTR PADUCH EORI : PL521334287900000 .\n",
      "\n",
      "##########\n",
      "PANTOS LOGISTICS (CHINA)CO.,LTD\n",
      "PANTOS LOGISTICS(CHINA) CO.,LTD.\n",
      "PANTOS LOGISTICS CO.,LTD. O/B OF AVATEC CO., LTD\n",
      "PANTOS LOGISTICS CO.,LTD. O/B OF LGCHEM, LTD.\n",
      "\n",
      "##########\n",
      "DHL GLOBAL FORWARDING (S) PTE LTDDHL GLOBAL FORWARDING (S) PTE LTD1 CHANGI SOUTH STREET 24TH FLOOR DHL DISTRIBUTION CENTRE\n",
      "DHL GLOBAL FORWARDING (S) PTE LTDHQ1 CHANGI STH ST 2 HEX 05-00AEI DISTRIBUTION CENTRE\n",
      "\n",
      "##########\n",
      "FORWARD EXPEDITION LIMITED HKG,  MOSCOW REPRESENTATION,111033,MOSCOW KRIVOARBATSKIY PEREULOK, 13,BUILDING2,3RD AND 4TH FLOUR PIC: LOGINOVAJULIA TEL/FAX +7(495) 783-85-88 E-M\n",
      "Forward Expedition Limited HKG,  Moscow Representation, 119002,Moscow,krivoarbatskiy pereulok,13,building 2,3rd flour  PIC:julia loginovaTel/Fax:+7 (495) 783-85-88 e-mail:\n",
      "Forward Expedition Limited HKG,  Moscow Representation, 119002,Moscow,krivoarbatskiy pereulok,13,building 2,3rd flour  PIC:julia loginova Tel/Fax:+7 (495) 783-85-88 e-mail:ar\n",
      "Forward Expedition Limited HKG,  Moscow Representation, 119002, Moscow, Krivoarbatskiy pereulok, 13, building 2, 3rd flour PIC: Julia Loginova  Tel/Fax +7(495) 783-85-88 e-mai\n",
      "Forward Expedition Limited HKG,  Moscow Representation, 119002, Moscow, Krivoarbatskiy pereulok, 13, building 2, 3rd flour PIC: Julia Loginova Tel/Fax +7(495) 783-85-88 e-mail\n",
      "Forward Expedition Limited HKG, Moscow Representation,119002,Moscow, Krivoarbatskiy pereulok, 13,building2,3rd flour PIC:Julia Loginova   Tel/Fax +7(495)783-85-88   e-mail;ar\n",
      "FORWARD EXPEDITION LIMITED HKG, MOSCOW REPRESENTATION, 119002, MOSCOW,KRIVOARBATSKIY PEREULOK, 13, BUILDING 2, 3RD FLOUR PIC: JULIA LOGINOVA TEL/FAX +7(495)783-85-88 E-MAIL:\n",
      "FORWARD EXPEDITION LIMITED HKG, MOSCOW REPRESENTATION,119002,MOSCOW,KRIVOARBATSKIY PEREULOK,13,BUILDING 2PIC:ALEXANDR KHALIKOV TEL/FAX:+7(495)669-73-24 E-MAIL:ARRIVAL@FORWARD\n",
      "Forward Expedition Limited HKG,  Moscow Representation, 119002, MoscowKrivoarbatskiy pereulok, 13, building 2, 3rd flour PIC: Julia Loginova Tel/Fax +7(495) 783-85-88 e-mail:\n",
      "FORWARD EXPEDITION LIMITED HKG, MOSCOW REPRESENTATION, 119002, RUSSIA,MOSCOW, KRIVOARBATSKIY PEREULOK, 13,BUILDING 2, 3RD AND 4TH FLOUR.\n",
      "FORWARD EXPEDITION LIMITED HKG, MOSCOW REPRESENTATION,119002, RUSSIA,MOSCOW,KRIVOARBATSKIY PEREULOK,13,BUILDING 2, 3RD AND 4TH FLOUR. E-MAIL: ARRIVAL@FORWARD-HKG.COM TEL/FAX:\n",
      "FORWARD EXPEDITION LIMITED HKG, MOSCOW REPRESENTATION, 119002,RUSSIA,MOSCOW, KRIVOARBATSKIY PEREULOK, 13,BUILDING 2, 3RD FLOUR. PIC: ANNA BAYKINA E-MAIL: ARRIVAL@FORWARD-HKG.\n",
      "FORWARD EXPEDITION LIMITED HKG,MOSCOW REPRESENTATION 119002, RUSSIA, MOSCOW, KRIVOARBATSKIY PEREULOK, 13,BUILDING 2, 3RD FLOOR TEL: +7(495)783-85-88 FAX:+7(495) 783-85-88 EM\n",
      "FORWARD EXPEDITION LIMITED HKG,MOSCOW REPRESENTATION 119002, RUSSIA, MOSCOW, KRIVOARBATSKIY PEREULOK, 13,BUILDING 2, 3RD FLOUR TEL: +7(495)783-85-88 FAX:+7(495) 783-85-88 EM\n",
      "FORWARD EXPEDITION LIMITED HKG,MOSCOW REPRESENTATION 119002, RUSSIA, MOSCOW, KRIVOARBATSKIY PEREULOK, 13,BUILDING 2, 3RD FLOUR TEL/FAX:+7(495)783-85-88 EMAIL:ARRIVAL@FORWARD-\n",
      "\n",
      "##########\n",
      "SPARROW FREIGHT (M) SDN BHD20,22,22A LORONG BATU NILAM 3C,BANDAR BUKIT TINGGIKLANG\n",
      "SPARROW FREIGHT (M) SDN BHD NO 22,LORONG BATU NILAM 3C, BANDAR BUKITTINGGI, KLANG SELANGOR 41200 MALAYSIA\n",
      "\n",
      "##########\n",
      "TYCOONS WORLDWIDE GROUP (THAILAND)PUBLIC CO., LTD.  99 MOO 1, TUMBONNIKOMPATTANA, AMPHUR NIKOMPATTANARAYONG 21180 THAILAND\n",
      "TYCOONS WORLDWIDE GROUP (THAILAND)PUBLIC CO LTD99 MOO 1,TUMBON NIKOMPATTANAAMPHUR NIKOMPATTANA, RAYONG21180 THAILAND\n",
      "\n",
      "##########\n",
      "UPS SCS (CHINA) LIMITED AS AGENT FOR  UPS SCS ASIA LIMITED UNIT A/C 9TH FL BLDG A INNOTEC TOWER NO.235 NANJING ROAD TIANJIN TEL:86-22-27217071 FAX:86-22-27217078\n",
      "UPS SCS (CHINA) LTDVDR235 NANJING RDUNIT A C 9TH FL BLDG A INNOTEC TWR300000 TIANJIN CHINA\n",
      "\n",
      "##########\n",
      "OMEGA-TRANS OY MERITUULENTIE 424, 6.KRS, FI-48310, KOTKA, FINLAND  CTC: MR. JURI TIMIN MOB. +358 440 663420  TEL: +358 5 214 333, FAX: +3585 214 335\n",
      "OMEGA-TRANS OY MERITUULENTIE 424,6FLOOR,48310,KOTKA FAX:8-10-358-214335 TEL.+358 5 214 333 MR. JURI TIMIN MOB.+358 440 663420\n",
      "OMEGA-TRANS OY MERITUULENTIE 424 48310 KOTKA, FINLAND PIC: JURI TIMINTEL: +358 5 214 333 FAX: +358 5 214335\n"
     ]
    }
   ],
   "source": [
    "with open(\"result_euclidean.txt\", \"r\") as file:\n",
    "    for _ in range(100):\n",
    "        print(file.readline(), end=\"\")"
   ]
  },
  {
   "cell_type": "markdown",
   "metadata": {
    "pycharm": {
     "name": "#%% md\n"
    }
   },
   "source": [
    "#### Klasteryzacja przy użyciu metryki dice\n",
    "Pierwsze 100 lini z pliku result_dice.txt"
   ]
  },
  {
   "cell_type": "code",
   "execution_count": 13,
   "metadata": {
    "pycharm": {
     "name": "#%%\n"
    }
   },
   "outputs": [
    {
     "name": "stdout",
     "output_type": "stream",
     "text": [
      "##########\n",
      "WEISS ROHLIG CHINA CO.,LTD. UNIT 1712-1719,CORPORATE AVENUE 1 NO.222 HUBIN ROAD SHANGHAI 200021,CHINA TEL:+86-21-63406000 FAX:+86-21-63406858\n",
      "WEISS-ROHLIG CHINA CO.,LTD. UNIT 1714-1719, CORPORATE AVENUE 1 NO. 222HU BIN ROAD 200021 SHANGHAI CHINATEL:86-021-63406000\n",
      "WEISS ROHLIG CHINA CO LTD222 HU BIN ROADUNIT 1714-1719 CORPORATE AVENUE 1200021 SHANGHAI CHINA\n",
      "\n",
      "##########\n",
      "GOYA EN ESPANA, S.A. POLIGONO INDUSTRIAL LA RED CALLE 9 CARRETERA SEVILLA-MALAGA, KM 5.4 ALACALA DE GUADAIRA,SEVILLA, ESPANA 41500 C/O JOSEMANUEL CLEMENTE TEL: 3495-563-2032\n",
      "GOYA EN ESPANA, SACTRA SEVILLA MALAGA  APDO CORREOS 6POLIGONO INDUSTRIAL LA RED KM 5,441500 ALCALA DE GUADAIRA\n",
      "GOYA EN ESPANA POL.IND. \"LA RED SUR\" C/-9 N? 1 41500 ALCALA DE GUADAIRA, SEVILLA (SPAIN) TEL.: 955632032-955634134\n",
      "\n",
      "##########\n",
      "NINGBO JINMAO IMPORT AND EXPORT  CO.,LTD NO.173 ZHONGSHAN ROAD WEST  NINGBO,CHINA\n",
      "SCAN GLOBAL LOGISTICS LTD O/B WINTIME IMPORT AND EXPORT CORPORATION  LIMITED OF ZHONGSHAN\n",
      "ZHONGSHAN LONGDA IMPORT&EXPORT CO.,LTD.\n",
      "\n",
      "##########\n",
      "PINGHU ZHANG'S SANITARYWARE FACTORYO/B:XIAMEN CHUANGYING IMPORT&EXPORT CO.,LTD.\n",
      "RELUX PRODUCTS LTD. O/B; XIAMEN CHUANGYING IMPORT&EXPORT CO.,LTD.\n",
      "SHAOXING XIN FENG TEXTILE TRADING CO.,LTD O/B XIAMEN CHUANGYING IMPORT&EXPORT CO.,LTD\n",
      "\n",
      "##########\n",
      "\"STEVECO OY\" STEVECO LOGISTICS MERITUULENTIE 424 48310 KOTKA, FONLANDPIC: ANNE LEPPANEN\n",
      "DAMCO A/S KOTKA 424 MERITUULENTIE 48310 KOTKA FINLAND TEL: 358 0 290015813 FAX: 358 0 290015825\n",
      "DAMCO A/S KOTKA MERITUULENTIE 424 48310 KOTKA,FINLAND\n",
      "DAMCO A/S KOTKA MERITUULENTIE 424 48310 KOTKA, FINLAND\n",
      "DAMCO A/S KTK 424 MERITUULENTIE 48310 KOTKA KOTKA FINLAND TEL: 358 0 290015830 FAX: 358 0 290015825\n",
      "DAMCO FINLAND OY, KOTKA 424 MERITUULENTIE 48310 KOTKA KOTKA FINLAND\n",
      "DSV ROAD OY MERITUULENTIE 424 C 6 KRS 48310 KOTKA TEL: +358(0)207388388 FAX: +358(0)207655484\n",
      "ILP-GROUP LOGISTICS OY MERITUULENTIE 424, MERITUULENTIE 424 48310 KOTKA FINLAND\n",
      "ILP-INTERNATIONAL LOGISTICS PARTNEROY MERITUULENTIE 424 FI-48310 KOTKA,FINLAND TEL: 358-207210544\n",
      "MIRANG OY MERITUULENTIE 424 48310 KOTKA FINLAND  TEL : +35852268131  FAX : +35852268132\n",
      "SEALOGIC OY MERITUULENTIE 424, 48310 KOTKA\n",
      "VIAMEX OY MERITUULENTIE 424  FI- 48310, KOTKA, FINLAND TEL: + 358 - 52308300  FAX: +358 - 5 2308320\n",
      "\n",
      "##########\n",
      "HELLMANN WORLDWIDE LOGISTICS POLSKASP Z.O.O. UL. J. WISNIEWSKIEGO 31Gdynia 81-156 Poland TEL:48 58 7832161  FAX:48 58 7832160\n",
      "Hellmann Worldwide Logistics POLSKAul.J.WISNIEWSKIEGO 31 81-156 Gdynia TEL:(+48 58) 7832 170 Fax (+48 58) 7832 160\n",
      "Hellmann Worldwide Logistics POLSKAUL.JANKA WISNIEWSKIEGO 31 81-156 Gdynia TEL:48 58 78 32 167 FAX:48 5878 32 160\n",
      "HELLMANN WORLDWIDE LOGISTICS SP Z.O.O.  UL.J. WISNIEWSKIEGO 31 Gdynia81-156 Poland TEL:48 58 7832161  FAX:48 58 7832160\n",
      "\n",
      "##########\n",
      "KROSS S.A. UL . LESZNO 46 , 06-300PRZASNYSZ,POLAND\n",
      "KROSS S.A.  UL . LESZNO 46 ,  06-300 PRZASNYSZ,POLAND\n",
      "KROSS S.A. UL.LESZNO 46 06-300 PRZASNYSZ\n",
      "KROSS S.A. UL.LESZNO 46 06-300 PRZASNYSZ TEL:0048-29-7524445\n",
      "KROSS SPOLKA AKCYJNA UL.LESZNO 4606-300 PRZASNYSZ\n",
      "TO KROSS SA UL.LESZNO 46 06-300 PRZASNYSZ\n",
      "ZIPP SKUTERY SP. Z O. O. 06-300 PRZASNYSZ LESZNO 40 POLAND\n",
      "\n",
      "##########\n",
      "UPS SCS (Polska) Sp. z o.o. Ul. 17stycznia 47 PL 02-146 Warszawa,  Poland Tel.: +48 22 573 10 14 Fax: +48 22 573 10 10\n",
      "UPS SCS (POLSKA) SP ZO.O UL SZYSZKOWA 35/37 WARSZAWA 02-285 PL\n",
      "UPS SCS (POLSKA) SP ZO.O UL SZYSZKOWA 35/37 WARSZAWA 02-285 PL PHONE:48 22 573 1000 FAX: 48 22 573 1020\n",
      "UPS Supply Chain Solutions UPS SCS(Polska) Sp.z o.o. ul. Szyszkowa 35/37 PL 02-285 Warsaw, Poland Tel. +48 22 573 10 35 Fax. +48 22 573 1010\n",
      "\n",
      "##########\n",
      "\"SERVICE-EXPRESS\" LTD 197110, RUSSIA, SAINT-PETERSBURG, GLUHAYA ZELENINA STREET,H.4, LIT B,OFFICE 19-H\n",
      "OOO \"SERVICE-EXPRESS\" 197110, RUSSIA, SAiNT-PETERSBURG, GLUFIAYA ZELENINA STREET, H.4, LIT B, OFFICE 19-HTEL/FAX. +7(812)3313874\n",
      "OOO SERVICE EXPRESS GLUHAJA ZELENINA UL.,D.4,LIT B,POM.19-N197110,STPETERSBURG,RUSSIA  TEL.: (812) -3229206\n",
      "SERVICE-EXPRESS 197110,RUSSIA,SAINT.PETERSBURG GLUHAYA ZELENINA  STREET,H.4,LITB, OFFICE 19-H\n",
      "TO ORDER OF OOO \"SERVICE-EXPRESS\" 197110, RUSSIA, SAINT-PETERSBURG. GLUHAYA ZELENINA STREET, H.4, LIT B,OFFICE 19-H TEL/FAX. +7(812)3313874\n",
      "TO ORDER OF OOO \"SERVICE-EXPRESS\" LTD 197110, RUSSIA, SAINT-PETERSBURG, GLUHAYA ZELENINA STREET,H.4, LITB, OFFICE 19-H\n",
      "TO ORDER OF OOO SERVICE EXPRESS GLUHAJA ZELENINA UL.,D.4,LIT B,POM.19-N197110,ST  PETERSBURG,RUSSIA\n",
      "TO ORDER OF SERVICE-EXPRESS 197110,RUSSIA,SAINT.PETERSBURG GLUHAYA ZELENINA  STREET,H.4, LITB,OFFICE 19-H\n",
      "TO ORDER OF SERVICE-EXPRESS 197110,RUSSIA,SAINT-PERERSBURG, GLUHAYA ZELENINA STREER,H.4, LIT B,OFFICE 19-H +7 (812) 331-38-74\n",
      "\n",
      "##########\n",
      "Cargo-Port TEL. +7-(812) 322-98-85FAX. +7-(812) 322-96-43\n",
      "Cargo-Port TEL. +7-(812) 322-98-85FAX. +7-(812) 322-96-43.\n",
      "CARGO-PORT TEL 7-812 322-98-85FAX:7-812 322-96-43 CARGO-PORT TEL 7-812 322-98-85 FAX: 7-812 322-96-43 KRUSTPILS IELA 31, LV-1073 RIGA, . LATVIA PHONE: +371 6766 8300 FAX: +37\n",
      "CARGO-PORT - ZASTAVSKAYA STR. 31, BLD. 2 196084 ST.PETERSBURG, RUSSIACONTACT: ALEKSANDER KUZNETSOV TEL +7 (812) 322-98-85 FAX +7 (812) 322-96-43\n",
      "\n",
      "##########\n",
      "SUZHOU SAMSUNG ELECTRONICS CO.,LTD.EXPORT NO.218,JIEPU ROAD,SUZHOU CITY,JIANGSU\n",
      "SUZHOU SAMSUNG ELECTRONICS CO.,LTD.No.501 Suhong East Road SuZhou 215021 China\n",
      "SUZHOU SAMSUNG ELECTRONICS CO.LTD.NO. 501 SUHONG EAST ROAD SUZHOU CITY, JIANGSU PROVINCE, CHINA\n",
      "SUZHOU SAMSUNG ELECTRONICS  CO.LTD.NO. 501 SUHONG EAST ROAD SUZHOU CITY, JIANGSU PROVINCE, CHINA\n",
      "SUZHOU SAMSUNG ELECTRONICS CO LTD (EXPORT) 218 JIEPU ROAD SUZHOU JIANGSU CHINA 215021\n",
      "\n",
      "##########\n",
      "INTERNATIONAL CARGO SERVICE  H.D.LIDERSOVSKIY BLVD 5 SECTION G, OFF.99-100,ODESSA UKRAINE. PHONES:+380482 34 48 53\n",
      "INTERNATIONAL CARGO SERVICE H.D. LTD. OFFICE 99 AND 100,SECTION G 5,LIDERSOVSKIY BOULEVARD,\n",
      "INTERNATIONAL CARGO SERVICE  HD ODESSA, LIDERSOVSKIY B-D 5G, OFFICE 99-100, UKRAINE. TEL/FAX: +38(0482) 344853/54\n",
      "\n",
      "##########\n",
      "BOST HOLDINGS 301, 773-8, YEOKSAM 2-DONG, GANGNAM-GU, SEOUL, KOREA\n",
      "BOST HOLDINGS 301 773-8 YOEKSAM-2DONG GANGNAM-GU SEOUL KOREA 135-080 SEOUL KR\n",
      "BOST HOLDINGSNOTIFY PARTY301 773-8 YOEKSAM-2DONG GANGNAM-GUSEOUL KOREA 135-080SEOUL KOREA, SOUTH\n",
      "\n",
      "##########\n",
      "UNIWORLD LOGISTICS PVT.LTD 3H RUSHABH CHAMBERS OFF MAKWANA ROAD, MAROL, ANDHERI (E), MUMBAI-400 059 TEL:022 4256 8989 A/C LEXI PRIVATE LIMITED\n",
      "UNIWORLD LOGISTICS PVT  LTD3 H RUSHABH CHAMBERS OFF MAKWANA RDMAROL ANDHERI EBOMBAY (MUMBAI) 400059\n",
      "UNIWORLD LOGISTICS PVT  LTD 3 H RUSHABH CHAMBERS OFF MAKWANA RD MAROLANDHERI E BOMBAY (MUMBAI) 400059 BOMBAY (MUMBAI) IN\n",
      "\n",
      "##########\n",
      "SCAN GLOBAL LOGISTICS (FINLAND) OYKOTOLAHDENTIE 5, MUSSALO FI-48310 KOTKA - FINLAND TEL: +358 5 2604452\n",
      "SCAN GLOBAL LOGISTICS (FINLAND) OYKOTOLAHDENTIE 5, MUSSALO P.O.BOX 88FI-48101 KOTKA FINLAND\n",
      "SCAN GLOBAL LOGISTICS (FINLAND) OYKOTOLAHDENTIE 5, MUSSALO P.O.BOX 88FI-48101 KOTKA-FINLAND T: +358 753266 391 F: +358 5 260 4459\n",
      "SCAN GLOBAL LOGISTICS (FINLAND) OYKOTOLAHDENTIE 5,MUSSALO P.O.BOX 88FI-48101 KOTKA-FINLAND TEL: +358 753266392 FAX: +358 5 2604459 MINNAPIHLAJAVIITA\n",
      "SCAN GLOBAL LOGISTICS (FINLAND) OYKOTOLAHDENTIE 5, MUSSALO P.O.BOX 88FI-48101 KOTKA-FINLAND TEL: +358 75 3266392 FAX: +358 5 2604459 MINNAPIHLAJAVIITA\n"
     ]
    }
   ],
   "source": [
    "with open(\"result_dice.txt\", \"r\") as file:\n",
    "    for _ in range(100):\n",
    "        print(file.readline(), end=\"\")"
   ]
  },
  {
   "cell_type": "markdown",
   "metadata": {
    "pycharm": {
     "name": "#%% md\n"
    }
   },
   "source": [
    "Wnioski:\n",
    " - Dla każdej metryki użycie algorytmu AgglomerativeClustering z odpowiednio dobranym parametrem distance_threshold daje stosunkowo dobre wyniki\n",
    " - Metryka cosinusowa była najprostsza w implemetacji ponieważ wymagała jedynie pomnożenia macierzy rzadkiej przez jej transpozycję, przez co działa też najszybciej"
   ]
  },
  {
   "cell_type": "markdown",
   "metadata": {
    "pycharm": {
     "name": "#%% md\n"
    }
   },
   "source": [
    "## 5. Porównanie jakości wyników poprzez indeks Daviesa-Bouldina"
   ]
  },
  {
   "cell_type": "code",
   "execution_count": 14,
   "metadata": {
    "pycharm": {
     "name": "#%%\n"
    }
   },
   "outputs": [
    {
     "name": "stdout",
     "output_type": "stream",
     "text": [
      "Obliczony indeks Daviesa-Boundina dla danej metryki: \n",
      " - cosinusowa:                  0.51292 \n",
      " - euklidesowa:                 0.49029 \n",
      " - dice:                        0.58649\n",
      " - cosinusowa (bez stoplisty):  0.52885 \n",
      " - euklidesowa (bez stoplisty): 0.5077 \n",
      " - dice (bez stoplisty):        0.61757\n"
     ]
    }
   ],
   "source": [
    "with open(\"./lines.txt\") as file:\n",
    "    file_lines = file.readlines()\n",
    "    file_lines = file_lines[:2000]\n",
    "\n",
    "    n = len(file_lines)\n",
    "\n",
    "    labels1 = cosine_clusterize(file_lines)\n",
    "    labels2 = euclidean_clusterize(file_lines)\n",
    "    labels3 = dice_clusterize(file_lines)\n",
    "    labels4 = cosine_clusterize(file_lines, use_stopwords=False)\n",
    "    labels5 = euclidean_clusterize(file_lines, use_stopwords=False)\n",
    "    labels6 = dice_clusterize(file_lines, use_stopwords=False)\n",
    "\n",
    "    X = get_document_term_matrix(file_lines, stopwords=get_stopwords(file_lines))\n",
    "    db_score_cosine = round(davies_bouldin_score(X, labels1), 5)\n",
    "    db_score_euclidean = round(davies_bouldin_score(X, labels2), 5)\n",
    "    db_score_dice = round(davies_bouldin_score(X, labels3), 5)\n",
    "\n",
    "    Y = get_document_term_matrix(file_lines, stopwords=None)\n",
    "    db_score_cosine_no_stopwords = round(davies_bouldin_score(Y, labels4), 5)\n",
    "    db_score_euclidean_no_stopwords = round(davies_bouldin_score(Y, labels5), 5)\n",
    "    db_score_dice_no_stopwords = round(davies_bouldin_score(Y, labels6), 5)\n",
    "\n",
    "    print(f\"Obliczony indeks Daviesa-Boundina dla danej metryki: \\n - cosinusowa: {' ' * 16} \"\n",
    "          f\"{db_score_cosine} \\n - euklidesowa:{' ' * 16} {db_score_euclidean} \\n - dice:       {' ' * 16} {db_score_dice}\"\n",
    "          f\"\\n - cosinusowa (bez stoplisty):  {db_score_cosine_no_stopwords} \\n - euklidesowa (bez stoplisty): \"\n",
    "          f\"{db_score_euclidean_no_stopwords} \\n - dice (bez stoplisty):        {db_score_dice_no_stopwords}\")"
   ]
  },
  {
   "cell_type": "markdown",
   "metadata": {
    "pycharm": {
     "name": "#%% md\n"
    }
   },
   "source": [
    "Wnioski:\n",
    " - Do obliczenia indeksu Daviesa-Boundina użyłem tylko pierwszych 2000 lini z pliku lines.txt ponieważ klasteryzacja na 6 sposobów + obliczenie samego indeksu 6 razy jest dość czasochłonne\n",
    " - Najlepsze wyniki uzyskałem dla metryki euklidesowej, cosinusowa jest niewiele gorsza a przy tym jej oblicznie jest dużo prostsze, natomiast metryka dice dała najgorsze wyniki"
   ]
  },
  {
   "cell_type": "markdown",
   "metadata": {
    "pycharm": {
     "name": "#%% md\n"
    }
   },
   "source": [
    "## 6. Pomysły na poprawę jakości klasteryzacji\n",
    "Myślę, że gdyby zastosować bardziej złożony pre-processing, na przykład wyciągający z każdego wpisu jedynie użyteczne informacje, takie jak nazwa firmy, adres, numer telefonu, fax, email i następnie sprowadzić te dane do ustandaryzowanej formy to w połączeniu z metryką cosinusową lub euklidesową można by uzyskać jeszcze lepsze wyniki."
   ]
  },
  {
   "cell_type": "code",
   "execution_count": null,
   "outputs": [],
   "source": [],
   "metadata": {
    "collapsed": false,
    "pycharm": {
     "name": "#%%\n"
    }
   }
  }
 ],
 "metadata": {
  "kernelspec": {
   "display_name": "Python 3 (ipykernel)",
   "language": "python",
   "name": "python3"
  },
  "language_info": {
   "codemirror_mode": {
    "name": "ipython",
    "version": 3
   },
   "file_extension": ".py",
   "mimetype": "text/x-python",
   "name": "python",
   "nbconvert_exporter": "python",
   "pygments_lexer": "ipython3",
   "version": "3.9.7"
  }
 },
 "nbformat": 4,
 "nbformat_minor": 1
}