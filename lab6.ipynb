{
 "cells": [
  {
   "cell_type": "code",
   "execution_count": 1,
   "metadata": {
    "collapsed": true
   },
   "outputs": [],
   "source": [
    "import re\n",
    "from collections import defaultdict\n",
    "\n",
    "from scipy.sparse import csr_matrix, lil_matrix, vstack\n",
    "from scipy.sparse.linalg import norm\n",
    "import numpy as np\n",
    "from sklearn.cluster import AgglomerativeClustering"
   ]
  },
  {
   "cell_type": "markdown",
   "source": [
    "## 1. Implementacja metryk"
   ],
   "metadata": {
    "collapsed": false,
    "pycharm": {
     "name": "#%% md\n"
    }
   }
  },
  {
   "cell_type": "markdown",
   "source": [
    "#### Funkcje pomocnicze zwracające macierz wektorów bag-of-words oraz zbiór stopwords jako zbiór najczęsciej występujących słów"
   ],
   "metadata": {
    "collapsed": false,
    "pycharm": {
     "name": "#%% md\n"
    }
   }
  },
  {
   "cell_type": "code",
   "source": [
    "def get_document_term_matrix(lines, stopwords=None):\n",
    "    if stopwords is None:\n",
    "        stopwords = set()\n",
    "\n",
    "    words = dict()\n",
    "    vectors = []\n",
    "    word_idx = 0\n",
    "\n",
    "    for i, line in enumerate(lines):\n",
    "        tokens = list(filter(lambda x: x != \"\" and x not in stopwords, re.split(r'\\W+', line.lower())))\n",
    "\n",
    "        for token in tokens:\n",
    "            if token not in words:\n",
    "                words[token] = word_idx\n",
    "                word_idx += 1\n",
    "\n",
    "        vector = np.zeros(word_idx, dtype=np.int32)\n",
    "\n",
    "        for token in tokens:\n",
    "            vector[words[token]] += 1\n",
    "\n",
    "        vector = csr_matrix(vector)\n",
    "        vectors.append(vector)\n",
    "\n",
    "    n = len(vectors)\n",
    "    k = len(words)\n",
    "    matrix = lil_matrix((n, k), dtype=np.float32)\n",
    "\n",
    "    for i, vector in enumerate(vectors):\n",
    "        vector.resize((1, k))\n",
    "        if norm(vector) > 0:\n",
    "            vector = vector / norm(vector)\n",
    "        matrix[i] = vector\n",
    "\n",
    "    matrix = matrix.tocsr()\n",
    "    return matrix\n",
    "\n",
    "\n",
    "def get_stopwords(lines, minimum_occurrences=300):\n",
    "    word_occurrences = defaultdict(int)\n",
    "\n",
    "    for line in lines:\n",
    "        tokens = list(filter(lambda x: x != \"\", re.split(r'\\W+', line.lower())))\n",
    "\n",
    "        for token in tokens:\n",
    "            word_occurrences[token] += 1\n",
    "\n",
    "    return {x[0] for x in filter(lambda x: x[1] > minimum_occurrences, word_occurrences.items())}"
   ],
   "metadata": {
    "collapsed": false,
    "pycharm": {
     "name": "#%%\n"
    }
   },
   "execution_count": 2,
   "outputs": []
  },
  {
   "cell_type": "markdown",
   "source": [
    "#### Funkcja pomocnicza do klasteryzacji"
   ],
   "metadata": {
    "collapsed": false,
    "pycharm": {
     "name": "#%% md\n"
    }
   }
  },
  {
   "cell_type": "code",
   "execution_count": 3,
   "outputs": [],
   "source": [
    "def clusterize(lines, dist_function, threshold, use_stopwords=True):\n",
    "    if use_stopwords:\n",
    "        stopwords = get_stopwords(lines)\n",
    "    else:\n",
    "        stopwords = None\n",
    "\n",
    "    X = get_document_term_matrix(lines, stopwords=stopwords)\n",
    "\n",
    "    # dist matrix\n",
    "    dist = dist_function(X)\n",
    "\n",
    "    clustering = AgglomerativeClustering(n_clusters=None, affinity='precomputed', linkage='average', distance_threshold=threshold)\n",
    "    clustering.fit(dist)\n",
    "\n",
    "    return clustering.labels_"
   ],
   "metadata": {
    "collapsed": false,
    "pycharm": {
     "name": "#%%\n"
    }
   }
  },
  {
   "cell_type": "markdown",
   "source": [
    "#### 1) metryka cosinusowa"
   ],
   "metadata": {
    "collapsed": false,
    "pycharm": {
     "name": "#%% md\n"
    }
   }
  },
  {
   "cell_type": "code",
   "execution_count": 4,
   "outputs": [],
   "source": [
    "def cosine_distance(X):\n",
    "    return 1 - (X @ X.T).toarray()\n",
    "\n",
    "\n",
    "def cosine_clusterize(lines, use_stopwords=True):\n",
    "    return clusterize(lines, cosine_distance, 0.4, use_stopwords=use_stopwords)"
   ],
   "metadata": {
    "collapsed": false,
    "pycharm": {
     "name": "#%%\n"
    }
   }
  },
  {
   "cell_type": "markdown",
   "source": [
    "#### 2) metryka euclidesowa"
   ],
   "metadata": {
    "collapsed": false,
    "pycharm": {
     "name": "#%% md\n"
    }
   }
  },
  {
   "cell_type": "code",
   "execution_count": 5,
   "outputs": [],
   "source": [
    "def euclidean_distance(X):\n",
    "    n = X.shape[0]\n",
    "\n",
    "    dist = np.zeros((n, n), dtype=np.float64)\n",
    "    ones = csr_matrix(np.ones(n)).T\n",
    "\n",
    "    for i in range(n):\n",
    "        dist[i, :] = norm(X - (ones @ X[i]), axis=1) / np.sqrt(2)\n",
    "\n",
    "    return dist\n",
    "\n",
    "\n",
    "def euclidean_clusterize(lines, use_stopwords=True):\n",
    "    return clusterize(lines, euclidean_distance, 0.6, use_stopwords=use_stopwords)"
   ],
   "metadata": {
    "collapsed": false,
    "pycharm": {
     "name": "#%%\n"
    }
   }
  },
  {
   "cell_type": "markdown",
   "source": [
    "#### 3) metryka dice"
   ],
   "metadata": {
    "collapsed": false,
    "pycharm": {
     "name": "#%% md\n"
    }
   }
  },
  {
   "cell_type": "code",
   "execution_count": 6,
   "outputs": [],
   "source": [
    "def dice_distance(X):\n",
    "    n = X.shape[0]\n",
    "\n",
    "    X = (X > 0).astype(np.int32)\n",
    "\n",
    "    sums = np.sum(X, axis=1)\n",
    "    sums = np.repeat(sums, n, axis=1) + sums.T\n",
    "\n",
    "    dist = (X @ X.T).toarray()\n",
    "    dist *= 2\n",
    "\n",
    "    return 1 - dist / sums\n",
    "\n",
    "\n",
    "def dice_clusterize(lines, use_stopwords=True):\n",
    "    return clusterize(lines, dice_distance, 0.5, use_stopwords=use_stopwords)"
   ],
   "metadata": {
    "collapsed": false,
    "pycharm": {
     "name": "#%%\n"
    }
   }
  },
  {
   "cell_type": "markdown",
   "source": [
    "## 2. Implementacja indeksu Daviesa-Bouldina do oceny klasteryzacji"
   ],
   "metadata": {
    "collapsed": false,
    "pycharm": {
     "name": "#%% md\n"
    }
   }
  },
  {
   "cell_type": "code",
   "execution_count": 7,
   "outputs": [],
   "source": [
    "def davies_bouldin_score(X, labels):\n",
    "    k = max(labels) + 1\n",
    "    cluster_matrices = [[] for _ in range(k)]\n",
    "\n",
    "    for i, label in enumerate(labels):\n",
    "        cluster_matrices[label].append(X[i])\n",
    "\n",
    "    for i in range(len(cluster_matrices)):\n",
    "        cluster_matrices[i] = vstack(cluster_matrices[i])\n",
    "\n",
    "    centroids = [np.sum(matrix, axis=0) / matrix.shape[0] for matrix in cluster_matrices]\n",
    "\n",
    "    avg_dist = [0 for _ in cluster_matrices]\n",
    "    for i, matrix in enumerate(cluster_matrices):\n",
    "        size = matrix.shape[0]\n",
    "        avg_dist[i] = np.sum(np.linalg.norm(matrix - (np.ones((size, 1)) @ centroids[i]), axis=1), axis=0) / size\n",
    "\n",
    "    R = np.zeros((k, k))\n",
    "    for i in range(k):\n",
    "        for j in range(i + 1, k):\n",
    "            R[i, j] = (avg_dist[i] + avg_dist[j]) / np.linalg.norm(centroids[i] - centroids[j])\n",
    "            R[j, i] = R[i, j]\n",
    "\n",
    "    return np.sum(np.max(R, axis=1)) / k"
   ],
   "metadata": {
    "collapsed": false,
    "pycharm": {
     "name": "#%%\n"
    }
   }
  },
  {
   "cell_type": "markdown",
   "source": [
    "## 3. Tworzenie stoplisty\n",
    "\n",
    "Generujemy stoplistę przy użyciu wcześniej zaimplementowanej funkcji $get\\_stopwords$, która przyjmuje jako argument tekst do klasteryzacji jako $lines$ oraz opcjonalnie minimalną liczbę wystąpień słowa w tekście, aby zostało dodane do stoplisty (domyślnie 300)."
   ],
   "metadata": {
    "collapsed": false,
    "pycharm": {
     "name": "#%% md\n"
    }
   }
  },
  {
   "cell_type": "markdown",
   "source": [
    "#### Stoplista zawierająca słowa występujące ponad 300 razy"
   ],
   "metadata": {
    "collapsed": false,
    "pycharm": {
     "name": "#%% md\n"
    }
   }
  },
  {
   "cell_type": "code",
   "execution_count": 8,
   "outputs": [
    {
     "name": "stdout",
     "output_type": "stream",
     "text": [
      "{'llc', 'a', 'ul', 's', '1', 'o', 'z', 'street', 'oy', 'st', 'road', 'p', 'gdynia', 'limited', '86', '58', '22', 'ningbo', 'sp', 'city', 'building', 'china', 'of', 'russia', 'shanghai', '7', 'district', 'no', 'moscow', 'co', 'international', '3', 'ooo', '358', 'office', '812', 'f', 'c', 'fax', 'as', 'and', 'ltd', 'logistics', 'str', '2', 'finland', '5', 'tel', 'poland', '48', '81', 'petersburg', '495', 'b', 'shenzhen'}\n"
     ]
    }
   ],
   "source": [
    "with open(\"./lines.txt\") as file:\n",
    "    file_lines = file.readlines()\n",
    "    stopwords = get_stopwords(file_lines)\n",
    "    print(stopwords)"
   ],
   "metadata": {
    "collapsed": false,
    "pycharm": {
     "name": "#%%\n"
    }
   }
  },
  {
   "cell_type": "markdown",
   "source": [
    "#### Stoplista zawierająca słowa występujące ponad 100 razy"
   ],
   "metadata": {
    "collapsed": false,
    "pycharm": {
     "name": "#%% md\n"
    }
   }
  },
  {
   "cell_type": "code",
   "execution_count": 9,
   "outputs": [
    {
     "name": "stdout",
     "output_type": "stream",
     "text": [
      "{'freight', 'federation', 'm', 'plaza', 'zhejiang', 'oy', '37', 'industrial', 'gdynia', 'agent', 'inn', 'zone', 'city', 'polska', 'china', 'damco', 'line', 'world', 'russia', '7', 'russian', 'district', '3', 'centre', 'taiwan', 'panalpina', '812', 'f', 'logistics', 'behalf', 'str', '2', '50', '0', '16', '5', '10', 'd', 'tower', 'cargo', 'room', 'company', 'shenzhen', 'llc', 'e', 'west', 'import', '21', 'eori', 'z', 'center', 'road', '01', 'shipping', 'limited', '05', 'fi', 'forwarding', '22', 'helsinki', 'h', '31', '00', 'building', '17', 'bldg', 'town', 'guangdong', 'air', 'no', 'trading', 'international', 'rd', 'export', 'east', 'office', '8', 'global', 'and', 't', 'mail', 'schenker', 'qingdao', 'finland', '40', '190020', '48', 'nagel', 'warszawa', 'k', 'box', 'a', '9', 'industry', '0086', 'o', 'branch', 'intl', '39', 'thailand', '86', 'park', '02', 'fmg', '20', 'sp', 'of', 'r', 'order', '4', 'co', '13', 'rm', 'group', 'jiangsu', 'ooo', '358', 'lit', 'phone', 'ltd', '18', 'floor', 'poland', 'trade', '32', 'kuehne', 'petersburg', '495', 'province', 'pl', 'xiamen', 'ul', 's', 'south', '1', 'zip', 'ocean', 'street', 'the', 'st', '19', 'p', 'code', 'kotka', '58', 'business', 'ningbo', 'hong', 'shanghai', 'sea', 'saint', 'moscow', '11', 'on', 'kong', 'guangzhou', 'to', 'forward', '15', 'c', 'for', 'fax', 'as', '12', '6', 'com', '62', '44', 'attn', 'tel', 'korea', '81', 'b', 'vantaa'}\n"
     ]
    }
   ],
   "source": [
    "with open(\"./lines.txt\") as file:\n",
    "    file_lines = file.readlines()\n",
    "    stopwords = get_stopwords(file_lines, minimum_occurrences=100)\n",
    "    print(stopwords)"
   ],
   "metadata": {
    "collapsed": false,
    "pycharm": {
     "name": "#%%\n"
    }
   }
  },
  {
   "cell_type": "markdown",
   "source": [
    "## 4. Klasteryzacja zawartości pliku lines.txt przy użyciu metryk z pkt. 1"
   ],
   "metadata": {
    "collapsed": false,
    "pycharm": {
     "name": "#%% md\n"
    }
   }
  },
  {
   "cell_type": "code",
   "execution_count": 11,
   "outputs": [
    {
     "name": "stdout",
     "output_type": "stream",
     "text": [
      "Klastry przypisane przy użyciu danej metryki dla danej lini pliku lines.txt (klasteryzacja przebiega dla całego pliku, wyświetalne jest pierwsze 30): \n",
      "\n",
      "COSINE_LABEL: 19,  EUCLIDEAN_LABEL: 19,  DICE_LABEL:23\n",
      "/11692589 RD TUNA CANNERS, LTD. PORTION 1004, SIAR NORTH COAST ROAD, P.O.BOX 2113, MADANG, PAPUA NEW GUINEA\n",
      "\n",
      "COSINE_LABEL: 33,  EUCLIDEAN_LABEL: 33,  DICE_LABEL:33\n",
      "''PA INTERIOR'' LTD BOLSHAYA LUBYANKA STREET, 16/4 MOSCOW, 101000, RUSSIA INN/KPP 7704550148//770801001 495-984-8611\n",
      "\n",
      "COSINE_LABEL: 1,  EUCLIDEAN_LABEL: 1,  DICE_LABEL:2\n",
      "''SSONTEX''  Sp.ZO.O.IMPORT-EXPORTUL:PRZECLAWSKA 5 03-879 WARSZAWA,POLAND NIP 113-01-17-669\n",
      "\n",
      "COSINE_LABEL: 1,  EUCLIDEAN_LABEL: 1,  DICE_LABEL:2\n",
      "''SSONTEX''SP.ZO.O.IMPORT-EXPORT UL:PRZECLAWSKA 5 03-879 WARSZAWA,POLAND NIP 113-01-17-669 TEL./FAX.:0048(022)217 6532--\n",
      "\n",
      "COSINE_LABEL: 30,  EUCLIDEAN_LABEL: 30,  DICE_LABEL:27\n",
      "''TOPEX SP. Z O.O.'' SPOLKA KOMANDYTOWA UL. POGRANICZNA 2/4  02-285 WARSZAWA POLAND\n",
      "\n",
      "COSINE_LABEL: 20,  EUCLIDEAN_LABEL: 20,  DICE_LABEL:22\n",
      "'MASTER PLUS CO.,LTD.' 143000,RUSSIA,MO,ODINSOVO, MOJAISKOE, SHOSSE,153G TEL:+7495 7273939\n",
      "\n",
      "COSINE_LABEL: 23,  EUCLIDEAN_LABEL: 21,  DICE_LABEL:28\n",
      "\"2TIGERS GROUP LIMITED\"  ROOM 504 JINSHAZHOU SHANGSHUI ROAD,  GUANGZHOU 510160\n",
      "\n",
      "COSINE_LABEL: 31,  EUCLIDEAN_LABEL: 31,  DICE_LABEL:31\n",
      "\"ALDETRANS\" LLC, 105066, MOSCOW, RUSSIA, TOKMAKOV LANE, 11. TEL:+7(495)641-03-89\n",
      "\n",
      "COSINE_LABEL: 29,  EUCLIDEAN_LABEL: 29,  DICE_LABEL:25\n",
      "\"A-LIFT\",JSC 1 PROSPEKT MARSHALA ZHUKOVA,MOSCOW 123308,RUSSIA  T: +7(495)784-7961\n",
      "\n",
      "COSINE_LABEL: 32,  EUCLIDEAN_LABEL: 32,  DICE_LABEL:32\n",
      "\"ALISA\" LTD, 1/5 Derbenevskaya str., Moscow, Russia Tel./Fax: (495) 987-13-07 postal code: 115114\n",
      "\n",
      "COSINE_LABEL: 37,  EUCLIDEAN_LABEL: 37,  DICE_LABEL:0\n",
      "\"ALLIANCE-TRADE\" LLC INN: 7816391055 / KPP: 784601001 190020, Saint Petersburg, quay of the Obvodny channel, 138, bulk 1, liter.B\n",
      "\n",
      "COSINE_LABEL: 35,  EUCLIDEAN_LABEL: 35,  DICE_LABEL:36\n",
      "\"ALTAIR\" LIMITED COMPANY 199004,SAINT-PETERSBURG, 1 LINE,H.20 LIT A,OF.8-H\n",
      "\n",
      "COSINE_LABEL: 0,  EUCLIDEAN_LABEL: 0,  DICE_LABEL:1\n",
      "\"ARIVIST\", 198035,RUSSIA,SAINT-PETERSBURG, GAPSALSKAYA STR.,5,OFFICE 1-3; TEL:+78123277732,FAX:+781 23277729.VOLOKNO@YAHOO.COM\n",
      "\n",
      "COSINE_LABEL: 0,  EUCLIDEAN_LABEL: 0,  DICE_LABEL:1\n",
      "\"ARIVIST\", 198035,RUSSIA,SAINT-PETERSBURG, GAPSALSKAYA STR.,5,OFFICE 1-3; TEL.:+78123277732,FAX+ 78123277729.\n",
      "\n",
      "COSINE_LABEL: 0,  EUCLIDEAN_LABEL: 0,  DICE_LABEL:1\n",
      "\"ARIVIST\", 198035,RUSSIA,SAINT-PETERSBURG,  GAPSALSKAYA STR.,5,OFFICE1-3; TEL.:+78123277732,FAX+ 78123277729.\n",
      "\n",
      "COSINE_LABEL: 0,  EUCLIDEAN_LABEL: 0,  DICE_LABEL:1\n",
      "\"ARIVIST\", 198035,RUSSIA,SAINT-PETERSBURG,  GAPSALSKAYA STR.,5,OFFICE1-3; TEL.:+78123277732,FAX + 78123277729.\n",
      "\n",
      "COSINE_LABEL: 0,  EUCLIDEAN_LABEL: 0,  DICE_LABEL:1\n",
      "\"ARIVIST\", 198035, RUSSIA,  SAINT-PETERSBURG,  GAPSALSKAYA STR.,5,OFFICE1-3;  TEL.+78123277732, FAX  +78123277729.\n",
      "\n",
      "COSINE_LABEL: 0,  EUCLIDEAN_LABEL: 0,  DICE_LABEL:1\n",
      "\"ARIVIST\", 198035, RUSSIA, SAINT-PETERSBURG, GAPSALSKAYA STR.,5, OFFICE1-3; TEL.+78123277732, FAX +78123277729. VOLOKNO@YAHOO.COM\n",
      "\n",
      "COSINE_LABEL: 0,  EUCLIDEAN_LABEL: 0,  DICE_LABEL:1\n",
      "\"ARIVIST\", 198035, RUSSIA, SAINT-PETERSBURG. GAPSALSKAYA STR.,5. OFFICE1-3; TEL.+78123277732, FAX+78123277729. VOLOKNO@YAHOO.COM\n",
      "\n",
      "COSINE_LABEL: 7,  EUCLIDEAN_LABEL: 7,  DICE_LABEL:0\n",
      "\"AVANPORT\"  LLC INN: 7839413675 KPP: 783901001 190020, SAINT PETERSBURG, QUAY OF THE OBVODNY CHANNEL, 134-136-138, BUILD. 101, LIT. A\"\n",
      "\n",
      "COSINE_LABEL: 7,  EUCLIDEAN_LABEL: 7,  DICE_LABEL:0\n",
      "\"AVANPORT\"  LLC INN: 7839413675 KPP: 783901001 190020, SAINT PETERSBURG, QUAY OF  THE OBVODNY CHANNEL,134-136-138,  BUILD. 101, LIT. A\"\n",
      "\n",
      "COSINE_LABEL: 14,  EUCLIDEAN_LABEL: 14,  DICE_LABEL:29\n",
      "\"AVENTA\"LTD. ADDRESS:129 110,MOSCOW,PROSPEKT MIRA,H.52,STR.3,POM,III Tel: 8-968-808-80-11\n",
      "\n",
      "COSINE_LABEL: 17,  EUCLIDEAN_LABEL: 17,  DICE_LABEL:10\n",
      "\"AVSON-GROUP\" COMPANY LIMITED 190008, ST. PETERSBURG,  RIMSKOGO-KORSAKOVA,  73/33, LIT. A-1\n",
      "\n",
      "COSINE_LABEL: 17,  EUCLIDEAN_LABEL: 17,  DICE_LABEL:10\n",
      "\"Avson-group\" Company Limited  190008, St. Petersburg, Rimskogo-Korsakova, 73/33, lit. A-1\n",
      "\n",
      "COSINE_LABEL: 34,  EUCLIDEAN_LABEL: 34,  DICE_LABEL:34\n",
      "\"BIO plus LTD\" INN 7805166210 198303, S-Petersburg, Leninskiy Pr.,110/1, lit B, app.53-H, RUSSIA\n",
      "\n",
      "COSINE_LABEL: 21,  EUCLIDEAN_LABEL: 9,  DICE_LABEL:24\n",
      "\"CARGOIMPORT\" LTD VNUKOVSKAYA STREET, BUILDING 2, R.43-H-1, SAINT-PETERSBURG, RUSSIA .\n",
      "\n",
      "COSINE_LABEL: 27,  EUCLIDEAN_LABEL: 27,  DICE_LABEL:30\n",
      "\"COLOS\"COMPLEX LOGISTICS,SOLUTIONSPIOTR KACZMAREK I PAWEL WILK SP.J.ZACHODNIA STREET NO 3 55-011 SIECHNICE POLAND\n",
      "\n",
      "COSINE_LABEL: 2,  EUCLIDEAN_LABEL: 2,  DICE_LABEL:5\n",
      "\"ELECTROGROUP\" (OOO),190068.RUSSIA,SAINT-PETERSBURG,UL.BOLSHAYA PODYACHESKAYA,5,LIT.A,POM.4-N\n",
      "\n",
      "COSINE_LABEL: 2,  EUCLIDEAN_LABEL: 2,  DICE_LABEL:5\n",
      "\"ELECTROGROUP\" (OOO),190068.RUSSIA,SAINT-PETERSBURG,UL.BOLSHAYA  PODYACHESKAYA,5,LIT.A,POM.4-N\n",
      "\n",
      "COSINE_LABEL: 18,  EUCLIDEAN_LABEL: 18,  DICE_LABEL:18\n",
      "\"ELEKTROAPPARAT\" PLC   24th LiniyaV.O.,St.Petersburg. Sup.office No.1of Kirovsky RUSSIA TEL: 0079-219646264\n",
      "\n"
     ]
    }
   ],
   "source": [
    "with open(\"./lines.txt\") as file:\n",
    "    file_lines = file.readlines()\n",
    "    file_lines = file_lines[:50]\n",
    "    n = len(file_lines)\n",
    "\n",
    "    labels1 = cosine_clusterize(file_lines)\n",
    "    labels2 = euclidean_clusterize(file_lines)\n",
    "    labels3 = dice_clusterize(file_lines)\n",
    "\n",
    "    print(\"Klastry przypisane przy użyciu danej metryki dla danej lini pliku lines.txt (klasteryzacja przebiega dla całego pliku, wyświetalne jest pierwsze 30): \\n\")\n",
    "    for i in range(30):\n",
    "        print(f\"COSINE_LABEL: {labels1[i]},  EUCLIDEAN_LABEL: {labels2[i]},  DICE_LABEL:{labels3[i]}\")\n",
    "        print(file_lines[i])\n",
    "\n",
    "    clusters1 = [[] for _ in range(max(labels1) + 1)]\n",
    "    clusters2 = [[] for _ in range(max(labels2) + 1)]\n",
    "    clusters3 = [[] for _ in range(max(labels3) + 1)]\n",
    "\n",
    "    for labels, clusters in [(labels1, clusters1), (labels2, clusters2), (labels3, clusters3)]:\n",
    "        for i, label in enumerate(labels):\n",
    "            clusters[label].append(file_lines[i])\n",
    "\n",
    "    for filename, clusters in [(f\"result_cosine.txt\", clusters1), (f\"result_euclidean.txt\", clusters2), (f\"result_dice.txt\", clusters3)]:\n",
    "        with open(f\"./{filename}\", \"w\") as result:\n",
    "            for cluster in clusters:\n",
    "                result.write(\"##########\\n\")\n",
    "                for item in cluster:\n",
    "                    result.write(item)\n",
    "                result.write(\"\\n\")"
   ],
   "metadata": {
    "collapsed": false,
    "pycharm": {
     "name": "#%%\n"
    }
   }
  },
  {
   "cell_type": "markdown",
   "source": [
    "Powyższy fragment kodu dokonuje klasteryzacji dla całego pliku przy użyciu wszystkich 3 zaimplementowanych metryk, wyświetla pierwsze 30 lini z przypisanymi klasami oraz zapisuje do trzech oddzielnych plików podział na klastry. Początkowe klastry z tych plików wyglądają następująco:"
   ],
   "metadata": {
    "collapsed": false,
    "pycharm": {
     "name": "#%% md\n"
    }
   }
  },
  {
   "cell_type": "markdown",
   "source": [
    "#### Klasteryzacja przy użyciu metryki cosinusowej"
   ],
   "metadata": {
    "collapsed": false,
    "pycharm": {
     "name": "#%% md\n"
    }
   }
  },
  {
   "cell_type": "code",
   "execution_count": 13,
   "outputs": [
    {
     "name": "stdout",
     "output_type": "stream",
     "text": [
      "##########\n",
      "\"ARIVIST\", 198035,RUSSIA,SAINT-PETERSBURG, GAPSALSKAYA STR.,5,OFFICE 1-3; TEL:+78123277732,FAX:+781 23277729.VOLOKNO@YAHOO.COM\n",
      "\"ARIVIST\", 198035,RUSSIA,SAINT-PETERSBURG, GAPSALSKAYA STR.,5,OFFICE 1-3; TEL.:+78123277732,FAX+ 78123277729.\n",
      "\"ARIVIST\", 198035,RUSSIA,SAINT-PETERSBURG,  GAPSALSKAYA STR.,5,OFFICE1-3; TEL.:+78123277732,FAX+ 78123277729.\n",
      "\"ARIVIST\", 198035,RUSSIA,SAINT-PETERSBURG,  GAPSALSKAYA STR.,5,OFFICE1-3; TEL.:+78123277732,FAX + 78123277729.\n",
      "\"ARIVIST\", 198035, RUSSIA,  SAINT-PETERSBURG,  GAPSALSKAYA STR.,5,OFFICE1-3;  TEL.+78123277732, FAX  +78123277729.\n",
      "\"ARIVIST\", 198035, RUSSIA, SAINT-PETERSBURG, GAPSALSKAYA STR.,5, OFFICE1-3; TEL.+78123277732, FAX +78123277729. VOLOKNO@YAHOO.COM\n",
      "\"ARIVIST\", 198035, RUSSIA, SAINT-PETERSBURG. GAPSALSKAYA STR.,5. OFFICE1-3; TEL.+78123277732, FAX+78123277729. VOLOKNO@YAHOO.COM\n",
      "\n",
      "##########\n",
      "''SSONTEX''  Sp.ZO.O.IMPORT-EXPORTUL:PRZECLAWSKA 5 03-879 WARSZAWA,POLAND NIP 113-01-17-669\n",
      "''SSONTEX''SP.ZO.O.IMPORT-EXPORT UL:PRZECLAWSKA 5 03-879 WARSZAWA,POLAND NIP 113-01-17-669 TEL./FAX.:0048(022)217 6532--\n",
      "\n",
      "##########\n",
      "\"ELECTROGROUP\" (OOO),190068.RUSSIA,SAINT-PETERSBURG,UL.BOLSHAYA PODYACHESKAYA,5,LIT.A,POM.4-N\n",
      "\"ELECTROGROUP\" (OOO),190068.RUSSIA,SAINT-PETERSBURG,UL.BOLSHAYA  PODYACHESKAYA,5,LIT.A,POM.4-N\n",
      "\n",
      "##########\n",
      "\"KOBI-LIGHT\" SPOLKA KOMANDYTOWA UL.T.BOYA ZELENSKIEGO 25 35-105 RZESZOW,POLAND NIP:813-34-99-669\n",
      "\"KOBI-LIGHT\" SPOLKA KOMANDYTOWA UL.T.BOYA ZELENSKIEGO 25 35-105 RZESZOW,POLAND NIP:813-34-99-699\n",
      "\n",
      "##########\n",
      "\"KM\" LTD 197183 RUSSIA,ST. PETERSBURG,SABIROVSKAYA STR.,50,OFF,115 OLEG TEREKHOV ZIP CODE:197183 PHONE:7911239-3109  FAX:7911239-3109\n",
      "\n",
      "##########\n",
      "\"GARANTTRANS SERVICE\" MOSCOW,RUSSIAUl.GILYAROVSKOGO,57.OFFICE 514 TEL:(495) 748 02 87 FAX:(495) 684 12 01\n",
      "\n",
      "##########\n",
      "\"FT-LINE\"LLC RUSSIA 115230,MOSCOW,ELECTROLYTNIY PROEZD,3G/2 TEL:+79851607522\n",
      "\n",
      "##########\n",
      "\"AVANPORT\"  LLC INN: 7839413675 KPP: 783901001 190020, SAINT PETERSBURG, QUAY OF THE OBVODNY CHANNEL, 134-136-138, BUILD. 101, LIT. A\"\n",
      "\"AVANPORT\"  LLC INN: 7839413675 KPP: 783901001 190020, SAINT PETERSBURG, QUAY OF  THE OBVODNY CHANNEL,134-136-138,  BUILD. 101, LIT. A\"\n",
      "\n",
      "##########\n",
      "\"EXPRESS CO. LTD.\" RUSSIA 155101 IVANOVSKAYA REGION, LEZHNEVSKIY RAION, D. KOROVIHA, CENTRALNAYA STR. 4ARUSSIA\n",
      "\"EXPRESS CO. LTD.\"  RUSSIA 155101 IVANOVSKAYA REGION, LEZHNEVSKIY RAION, D. KOROVIHA, CENTRALNAYA STR. 4ARUSSIA\n",
      "\n",
      "##########\n",
      "\"Goldens\" LLC\n",
      "\n",
      "##########\n",
      "\"FILLOGISTIK\" PP ZHOVKIVSKA 22 STREET 79019 LVOV,UKRAINE TEL:+380322458030 FAX:+380322458030\n",
      "\n",
      "##########\n",
      "\"FRUITIMPEX\" LLC 121170, Moscow, Russia, Kulneva st, 3 bld. 1 INN 7737514219 KPP773001001\n",
      "\n",
      "##########\n",
      "\"FORWARD EXPEDITION LIMITED HKG\" SUCCES COMM.BLDG.,6B,251, HENNESSY ROAD, HONGKONG ARRIVAL@FORWARD-HKG.COM\n",
      "\n"
     ]
    }
   ],
   "source": [
    "with open(\"result_cosine.txt\", \"r\") as file:\n",
    "    for _ in range(50):\n",
    "        print(file.readline(), end=\"\")"
   ],
   "metadata": {
    "collapsed": false,
    "pycharm": {
     "name": "#%%\n"
    }
   }
  },
  {
   "cell_type": "markdown",
   "source": [
    "#### Klasteryzacja przy użyciu metryki euklidesowej"
   ],
   "metadata": {
    "collapsed": false,
    "pycharm": {
     "name": "#%% md\n"
    }
   }
  },
  {
   "cell_type": "code",
   "execution_count": 14,
   "outputs": [
    {
     "name": "stdout",
     "output_type": "stream",
     "text": [
      "##########\n",
      "\"ARIVIST\", 198035,RUSSIA,SAINT-PETERSBURG, GAPSALSKAYA STR.,5,OFFICE 1-3; TEL:+78123277732,FAX:+781 23277729.VOLOKNO@YAHOO.COM\n",
      "\"ARIVIST\", 198035,RUSSIA,SAINT-PETERSBURG, GAPSALSKAYA STR.,5,OFFICE 1-3; TEL.:+78123277732,FAX+ 78123277729.\n",
      "\"ARIVIST\", 198035,RUSSIA,SAINT-PETERSBURG,  GAPSALSKAYA STR.,5,OFFICE1-3; TEL.:+78123277732,FAX+ 78123277729.\n",
      "\"ARIVIST\", 198035,RUSSIA,SAINT-PETERSBURG,  GAPSALSKAYA STR.,5,OFFICE1-3; TEL.:+78123277732,FAX + 78123277729.\n",
      "\"ARIVIST\", 198035, RUSSIA,  SAINT-PETERSBURG,  GAPSALSKAYA STR.,5,OFFICE1-3;  TEL.+78123277732, FAX  +78123277729.\n",
      "\"ARIVIST\", 198035, RUSSIA, SAINT-PETERSBURG, GAPSALSKAYA STR.,5, OFFICE1-3; TEL.+78123277732, FAX +78123277729. VOLOKNO@YAHOO.COM\n",
      "\"ARIVIST\", 198035, RUSSIA, SAINT-PETERSBURG. GAPSALSKAYA STR.,5. OFFICE1-3; TEL.+78123277732, FAX+78123277729. VOLOKNO@YAHOO.COM\n",
      "\n",
      "##########\n",
      "''SSONTEX''  Sp.ZO.O.IMPORT-EXPORTUL:PRZECLAWSKA 5 03-879 WARSZAWA,POLAND NIP 113-01-17-669\n",
      "''SSONTEX''SP.ZO.O.IMPORT-EXPORT UL:PRZECLAWSKA 5 03-879 WARSZAWA,POLAND NIP 113-01-17-669 TEL./FAX.:0048(022)217 6532--\n",
      "\n",
      "##########\n",
      "\"ELECTROGROUP\" (OOO),190068.RUSSIA,SAINT-PETERSBURG,UL.BOLSHAYA PODYACHESKAYA,5,LIT.A,POM.4-N\n",
      "\"ELECTROGROUP\" (OOO),190068.RUSSIA,SAINT-PETERSBURG,UL.BOLSHAYA  PODYACHESKAYA,5,LIT.A,POM.4-N\n",
      "\n",
      "##########\n",
      "\"KOBI-LIGHT\" SPOLKA KOMANDYTOWA UL.T.BOYA ZELENSKIEGO 25 35-105 RZESZOW,POLAND NIP:813-34-99-669\n",
      "\"KOBI-LIGHT\" SPOLKA KOMANDYTOWA UL.T.BOYA ZELENSKIEGO 25 35-105 RZESZOW,POLAND NIP:813-34-99-699\n",
      "\n",
      "##########\n",
      "\"FILLOGISTIK\" PP ZHOVKIVSKA 22 STREET 79019 LVOV,UKRAINE TEL:+380322458030 FAX:+380322458030\n",
      "\n",
      "##########\n",
      "\"KM\" LTD 197183 RUSSIA,ST. PETERSBURG,SABIROVSKAYA STR.,50,OFF,115 OLEG TEREKHOV ZIP CODE:197183 PHONE:7911239-3109  FAX:7911239-3109\n",
      "\n",
      "##########\n",
      "\"FT-LINE\"LLC RUSSIA 115230,MOSCOW,ELECTROLYTNIY PROEZD,3G/2 TEL:+79851607522\n",
      "\n",
      "##########\n",
      "\"AVANPORT\"  LLC INN: 7839413675 KPP: 783901001 190020, SAINT PETERSBURG, QUAY OF THE OBVODNY CHANNEL, 134-136-138, BUILD. 101, LIT. A\"\n",
      "\"AVANPORT\"  LLC INN: 7839413675 KPP: 783901001 190020, SAINT PETERSBURG, QUAY OF  THE OBVODNY CHANNEL,134-136-138,  BUILD. 101, LIT. A\"\n",
      "\n",
      "##########\n",
      "\"EXPRESS CO. LTD.\" RUSSIA 155101 IVANOVSKAYA REGION, LEZHNEVSKIY RAION, D. KOROVIHA, CENTRALNAYA STR. 4ARUSSIA\n",
      "\"EXPRESS CO. LTD.\"  RUSSIA 155101 IVANOVSKAYA REGION, LEZHNEVSKIY RAION, D. KOROVIHA, CENTRALNAYA STR. 4ARUSSIA\n",
      "\n",
      "##########\n",
      "\"CARGOIMPORT\" LTD VNUKOVSKAYA STREET, BUILDING 2, R.43-H-1, SAINT-PETERSBURG, RUSSIA .\n",
      "\n",
      "##########\n",
      "\"EVROTRANSIT\" LLC 105005, RUSSIAN FEDERATION, MOSCOW, BAUMANSKAYA STR., 33/2, BLD.1 E-MAIL:EVROTRANZIT-LOGL@INBOX.RU TEL:8-495-665-34-68\n",
      "\n",
      "##########\n",
      "\"FRUITIMPEX\" LLC 121170, Moscow, Russia, Kulneva st, 3 bld. 1 INN 7737514219 KPP773001001\n",
      "\n",
      "##########\n",
      "\"Goldens\" LLC\n",
      "\n"
     ]
    }
   ],
   "source": [
    "with open(\"result_euclidean.txt\", \"r\") as file:\n",
    "    for _ in range(50):\n",
    "        print(file.readline(), end=\"\")"
   ],
   "metadata": {
    "collapsed": false,
    "pycharm": {
     "name": "#%%\n"
    }
   }
  },
  {
   "cell_type": "markdown",
   "source": [
    "#### Klasteryzacja przy użyciu metryki dice"
   ],
   "metadata": {
    "collapsed": false,
    "pycharm": {
     "name": "#%% md\n"
    }
   }
  },
  {
   "cell_type": "code",
   "execution_count": 15,
   "outputs": [
    {
     "name": "stdout",
     "output_type": "stream",
     "text": [
      "##########\n",
      "\"ALLIANCE-TRADE\" LLC INN: 7816391055 / KPP: 784601001 190020, Saint Petersburg, quay of the Obvodny channel, 138, bulk 1, liter.B\n",
      "\"AVANPORT\"  LLC INN: 7839413675 KPP: 783901001 190020, SAINT PETERSBURG, QUAY OF THE OBVODNY CHANNEL, 134-136-138, BUILD. 101, LIT. A\"\n",
      "\"AVANPORT\"  LLC INN: 7839413675 KPP: 783901001 190020, SAINT PETERSBURG, QUAY OF  THE OBVODNY CHANNEL,134-136-138,  BUILD. 101, LIT. A\"\n",
      "\n",
      "##########\n",
      "\"ARIVIST\", 198035,RUSSIA,SAINT-PETERSBURG, GAPSALSKAYA STR.,5,OFFICE 1-3; TEL:+78123277732,FAX:+781 23277729.VOLOKNO@YAHOO.COM\n",
      "\"ARIVIST\", 198035,RUSSIA,SAINT-PETERSBURG, GAPSALSKAYA STR.,5,OFFICE 1-3; TEL.:+78123277732,FAX+ 78123277729.\n",
      "\"ARIVIST\", 198035,RUSSIA,SAINT-PETERSBURG,  GAPSALSKAYA STR.,5,OFFICE1-3; TEL.:+78123277732,FAX+ 78123277729.\n",
      "\"ARIVIST\", 198035,RUSSIA,SAINT-PETERSBURG,  GAPSALSKAYA STR.,5,OFFICE1-3; TEL.:+78123277732,FAX + 78123277729.\n",
      "\"ARIVIST\", 198035, RUSSIA,  SAINT-PETERSBURG,  GAPSALSKAYA STR.,5,OFFICE1-3;  TEL.+78123277732, FAX  +78123277729.\n",
      "\"ARIVIST\", 198035, RUSSIA, SAINT-PETERSBURG, GAPSALSKAYA STR.,5, OFFICE1-3; TEL.+78123277732, FAX +78123277729. VOLOKNO@YAHOO.COM\n",
      "\"ARIVIST\", 198035, RUSSIA, SAINT-PETERSBURG. GAPSALSKAYA STR.,5. OFFICE1-3; TEL.+78123277732, FAX+78123277729. VOLOKNO@YAHOO.COM\n",
      "\n",
      "##########\n",
      "''SSONTEX''  Sp.ZO.O.IMPORT-EXPORTUL:PRZECLAWSKA 5 03-879 WARSZAWA,POLAND NIP 113-01-17-669\n",
      "''SSONTEX''SP.ZO.O.IMPORT-EXPORT UL:PRZECLAWSKA 5 03-879 WARSZAWA,POLAND NIP 113-01-17-669 TEL./FAX.:0048(022)217 6532--\n",
      "\n",
      "##########\n",
      "\"KOBI-LIGHT\" SPOLKA KOMANDYTOWA UL.T.BOYA ZELENSKIEGO 25 35-105 RZESZOW,POLAND NIP:813-34-99-669\n",
      "\"KOBI-LIGHT\" SPOLKA KOMANDYTOWA UL.T.BOYA ZELENSKIEGO 25 35-105 RZESZOW,POLAND NIP:813-34-99-699\n",
      "\n",
      "##########\n",
      "\"EXPRESS CO. LTD.\" RUSSIA 155101 IVANOVSKAYA REGION, LEZHNEVSKIY RAION, D. KOROVIHA, CENTRALNAYA STR. 4ARUSSIA\n",
      "\"EXPRESS CO. LTD.\"  RUSSIA 155101 IVANOVSKAYA REGION, LEZHNEVSKIY RAION, D. KOROVIHA, CENTRALNAYA STR. 4ARUSSIA\n",
      "\n",
      "##########\n",
      "\"ELECTROGROUP\" (OOO),190068.RUSSIA,SAINT-PETERSBURG,UL.BOLSHAYA PODYACHESKAYA,5,LIT.A,POM.4-N\n",
      "\"ELECTROGROUP\" (OOO),190068.RUSSIA,SAINT-PETERSBURG,UL.BOLSHAYA  PODYACHESKAYA,5,LIT.A,POM.4-N\n",
      "\n",
      "##########\n",
      "\"KM\" LTD 197183 RUSSIA,ST. PETERSBURG,SABIROVSKAYA STR.,50,OFF,115 OLEG TEREKHOV ZIP CODE:197183 PHONE:7911239-3109  FAX:7911239-3109\n",
      "\n",
      "##########\n",
      "\"INTERTRANS\" CO LTD. ST.PETERSBURG,198035,RUSSIA GAPSALSKAIA STREET,OFFICE 502, TEL 3242144, FAX:3242145\n",
      "\n",
      "##########\n",
      "\"FORWARD EXPEDITION LIMITED HKG\" SUCCES COMM.BLDG.,6B,251, HENNESSY ROAD, HONGKONG ARRIVAL@FORWARD-HKG.COM\n",
      "\n",
      "##########\n",
      "\"GARANTTRANS SERVICE\" MOSCOW,RUSSIAUl.GILYAROVSKOGO,57.OFFICE 514 TEL:(495) 748 02 87 FAX:(495) 684 12 01\n",
      "\n",
      "##########\n",
      "\"AVSON-GROUP\" COMPANY LIMITED 190008, ST. PETERSBURG,  RIMSKOGO-KORSAKOVA,  73/33, LIT. A-1\n",
      "\"Avson-group\" Company Limited  190008, St. Petersburg, Rimskogo-Korsakova, 73/33, lit. A-1\n",
      "\n",
      "##########\n",
      "\"FRUITIMPEX\" LLC 121170, Moscow, Russia, Kulneva st, 3 bld. 1 INN 7737514219 KPP773001001\n",
      "\n",
      "##########\n"
     ]
    }
   ],
   "source": [
    "with open(\"result_dice.txt\", \"r\") as file:\n",
    "    for _ in range(50):\n",
    "        print(file.readline(), end=\"\")"
   ],
   "metadata": {
    "collapsed": false,
    "pycharm": {
     "name": "#%%\n"
    }
   }
  },
  {
   "cell_type": "markdown",
   "source": [
    "Wnioski:\n",
    " -\n",
    " -\n",
    " -"
   ],
   "metadata": {
    "collapsed": false,
    "pycharm": {
     "name": "#%% md\n"
    }
   }
  },
  {
   "cell_type": "code",
   "execution_count": 30,
   "outputs": [
    {
     "name": "stdout",
     "output_type": "stream",
     "text": [
      "Obliczony indeks Daviesa-Boundina dla danej metryki: \n",
      " - cosinusowa:                  0.32923 \n",
      " - euklidesowa:                 0.32923 \n",
      " - dice:                        0.48555\n",
      " - cosinusowa (bez stoplisty):  0.32923 \n",
      " - euklidesowa (bez stoplisty): 0.32923 \n",
      " - dice (bez stoplisty):        0.48555\n"
     ]
    }
   ],
   "source": [
    "def davies_bouldin_score(X, labels):\n",
    "    k = max(labels) + 1\n",
    "    cluster_matrices = [[] for _ in range(k)]\n",
    "\n",
    "    for i, label in enumerate(labels):\n",
    "        cluster_matrices[label].append(X[i])\n",
    "\n",
    "    for i in range(len(cluster_matrices)):\n",
    "        cluster_matrices[i] = vstack(cluster_matrices[i])\n",
    "\n",
    "    centroids = [np.sum(matrix, axis=0) / matrix.shape[0] for matrix in cluster_matrices]\n",
    "\n",
    "    avg_dist = [0 for _ in cluster_matrices]\n",
    "    for i, matrix in enumerate(cluster_matrices):\n",
    "        size = matrix.shape[0]\n",
    "        avg_dist[i] = np.sum(np.linalg.norm(matrix - (np.ones((size, 1)) @ centroids[i]), axis=1), axis=0) / size\n",
    "\n",
    "    R = np.zeros((k, k))\n",
    "    for i in range(k):\n",
    "        for j in range(i + 1, k):\n",
    "            R[i, j] = (avg_dist[i] + avg_dist[j]) / np.linalg.norm(centroids[i] - centroids[j])\n",
    "            R[j, i] = R[i, j]\n",
    "\n",
    "    return np.sum(np.max(R, axis=1)) / k\n",
    "\n",
    "\n",
    "with open(\"./lines.txt\") as file:\n",
    "    file_lines = file.readlines()\n",
    "    file_lines = file_lines[:100]\n",
    "\n",
    "    n = len(file_lines)\n",
    "\n",
    "    labels1 = cosine_clusterize(file_lines)\n",
    "    labels2 = euclidean_clusterize(file_lines)\n",
    "    labels3 = dice_clusterize(file_lines)\n",
    "    labels4 = cosine_clusterize(file_lines, use_stopwords=False)\n",
    "    labels5 = euclidean_clusterize(file_lines, use_stopwords=False)\n",
    "    labels6 = dice_clusterize(file_lines, use_stopwords=False)\n",
    "\n",
    "    X = get_document_term_matrix(file_lines, stopwords=get_stopwords(file_lines))\n",
    "    db_score_cosine = round(davies_bouldin_score(X, labels1), 5)\n",
    "    db_score_euclidean = round(davies_bouldin_score(X, labels2), 5)\n",
    "    db_score_dice = round(davies_bouldin_score(X, labels3), 5)\n",
    "\n",
    "    Y = get_document_term_matrix(file_lines, stopwords=None)\n",
    "    db_score_cosine_no_stopwords = round(davies_bouldin_score(Y, labels4), 5)\n",
    "    db_score_euclidean_no_stopwords = round(davies_bouldin_score(Y, labels5), 5)\n",
    "    db_score_dice_no_stopwords = round(davies_bouldin_score(Y, labels6), 5)\n",
    "\n",
    "    print(f\"Obliczony indeks Daviesa-Boundina dla danej metryki: \\n - cosinusowa: {' ' * 16} \"\n",
    "          f\"{db_score_cosine} \\n - euklidesowa:{' ' * 16} {db_score_euclidean} \\n - dice:       {' ' * 16} {db_score_dice}\"\n",
    "          f\"\\n - cosinusowa (bez stoplisty):  {db_score_cosine_no_stopwords} \\n - euklidesowa (bez stoplisty): \"\n",
    "          f\"{db_score_euclidean_no_stopwords} \\n - dice (bez stoplisty):        {db_score_dice_no_stopwords}\")"
   ],
   "metadata": {
    "collapsed": false,
    "pycharm": {
     "name": "#%%\n"
    }
   }
  },
  {
   "cell_type": "markdown",
   "source": [
    "## 5. Porównanie jakości wyników poprzez indeks Daviesa-Bouldina"
   ],
   "metadata": {
    "collapsed": false,
    "pycharm": {
     "name": "#%% md\n"
    }
   }
  },
  {
   "cell_type": "code",
   "execution_count": null,
   "outputs": [],
   "source": [
    "with open(\"./lines.txt\") as file:\n",
    "    file_lines = file.readlines()\n",
    "    file_lines = file_lines[:100]\n",
    "\n",
    "    n = len(file_lines)\n",
    "\n",
    "    labels1 = cosine_clusterize(file_lines)\n",
    "    labels2 = euclidean_clusterize(file_lines)\n",
    "    labels3 = dice_clusterize(file_lines)"
   ],
   "metadata": {
    "collapsed": false,
    "pycharm": {
     "name": "#%%\n"
    }
   }
  }
 ],
 "metadata": {
  "kernelspec": {
   "display_name": "Python 3",
   "language": "python",
   "name": "python3"
  },
  "language_info": {
   "codemirror_mode": {
    "name": "ipython",
    "version": 2
   },
   "file_extension": ".py",
   "mimetype": "text/x-python",
   "name": "python",
   "nbconvert_exporter": "python",
   "pygments_lexer": "ipython2",
   "version": "2.7.6"
  }
 },
 "nbformat": 4,
 "nbformat_minor": 0
}