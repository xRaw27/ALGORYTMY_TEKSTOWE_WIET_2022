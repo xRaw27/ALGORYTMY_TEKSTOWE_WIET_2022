{
 "cells": [
  {
   "cell_type": "code",
   "execution_count": 1,
   "metadata": {
    "collapsed": true
   },
   "outputs": [],
   "source": [
    "from collections import defaultdict, deque\n",
    "import matplotlib.pyplot as plt\n",
    "from time import time"
   ]
  },
  {
   "cell_type": "markdown",
   "metadata": {
    "pycharm": {
     "name": "#%% md\n"
    }
   },
   "source": [
    "# 1. Zaimplementuj algorytm wyszukiwania wzorca 2-wymiarowego"
   ]
  },
  {
   "cell_type": "markdown",
   "metadata": {
    "pycharm": {
     "name": "#%% md\n"
    }
   },
   "source": [
    "#### Wyszukiwanie wzorca 1D (budowa automatu w czasie liniowym względem długości wzorca)"
   ]
  },
  {
   "cell_type": "code",
   "execution_count": 2,
   "metadata": {
    "pycharm": {
     "name": "#%%\n"
    }
   },
   "outputs": [],
   "source": [
    "def transition_table(pattern):\n",
    "    n = len(pattern)\n",
    "    alphabet = set(pattern)\n",
    "    transition = [defaultdict(lambda: 0) for _ in range(n + 1)]\n",
    "\n",
    "    for i, pattern_letter in enumerate(pattern):\n",
    "        prev = transition[i][pattern_letter]\n",
    "        transition[i][pattern_letter] = i + 1\n",
    "        for alphabet_letter in alphabet:\n",
    "            transition[i + 1][alphabet_letter] = transition[prev][alphabet_letter]\n",
    "\n",
    "    return transition\n",
    "\n",
    "\n",
    "def automaton_pattern_matching(text, transition_tab):\n",
    "    result = []\n",
    "\n",
    "    q = 0\n",
    "    m = len(transition_tab) - 1\n",
    "    for i in range(0, len(text)):\n",
    "        if text[i] in transition_tab[q]:\n",
    "            q = transition_tab[q][text[i]]\n",
    "            if q == m:\n",
    "                result.append(i + 1 - q)\n",
    "        else:\n",
    "            q = 0\n",
    "\n",
    "    return result"
   ]
  },
  {
   "cell_type": "markdown",
   "metadata": {
    "pycharm": {
     "name": "#%% md\n"
    }
   },
   "source": [
    "#### Implementacja budowy drzewa trie oraz funkcji zwracającej tablicę przejścia i stany akceptujące dla automatu wykrywającego wiele wzorców"
   ]
  },
  {
   "cell_type": "code",
   "execution_count": 3,
   "metadata": {
    "pycharm": {
     "name": "#%%\n"
    }
   },
   "outputs": [],
   "source": [
    "class TrieNode:\n",
    "    def __init__(self, node_id, letter=\"\", parent=None):\n",
    "        self.id = node_id\n",
    "        self.letter = letter\n",
    "        self.parent = parent\n",
    "        self.terminal = False\n",
    "        self.children = dict()\n",
    "\n",
    "    def __str__(self):\n",
    "        return f\"TrieNode: letter={self.letter}, id={self.id}, terminal={self.terminal}, \" \\\n",
    "               f\"children={[(children.letter, children.id) for children in self.children.values()]}, \" \\\n",
    "               f\"parent_letter={self.parent.letter if self.parent is not None else 'NONE'}\"\n",
    "\n",
    "\n",
    "def build_trie(patterns):\n",
    "    node_id = 0\n",
    "    root = TrieNode(node_id, \"root\")\n",
    "    nodes = [root]\n",
    "\n",
    "    for pattern in patterns:\n",
    "        node = root\n",
    "        for letter in pattern:\n",
    "            if letter in node.children:\n",
    "                node = node.children[letter]\n",
    "            else:\n",
    "                node_id += 1\n",
    "                new_node = TrieNode(node_id, letter, node)\n",
    "                nodes.append(new_node)\n",
    "                node.children[letter] = new_node\n",
    "                node = new_node\n",
    "\n",
    "        node.terminal = True\n",
    "\n",
    "    return root, nodes\n",
    "\n",
    "\n",
    "def print_trie(node):\n",
    "    print(node)\n",
    "    for children in node.children.values():\n",
    "        print_trie(children)\n",
    "\n",
    "\n",
    "def multi_patterns_transition_table(patterns, trie_print=False):\n",
    "    trie, nodes = build_trie(patterns)\n",
    "\n",
    "    alphabet = set()\n",
    "    for pattern in patterns:\n",
    "        alphabet.update(pattern)\n",
    "\n",
    "    transition = [defaultdict(lambda: 0) for _ in range(len(nodes))]\n",
    "    accept_states = []\n",
    "\n",
    "    queue = deque(trie.children.values())\n",
    "    while len(queue) > 0:\n",
    "        node = queue.popleft()\n",
    "        queue.extend(node.children.values())\n",
    "\n",
    "        prev = transition[node.parent.id][node.letter]\n",
    "        prev_node = nodes[prev]\n",
    "        transition[node.parent.id][node.letter] = node.id\n",
    "\n",
    "        if node.terminal or prev_node.terminal:\n",
    "            accept_states.append(node.id)\n",
    "\n",
    "        for letter in alphabet:\n",
    "            if letter in prev_node.children:\n",
    "                transition[node.id][letter] = prev_node.children[letter].id\n",
    "            else:\n",
    "                transition[node.id][letter] = transition[prev][letter]\n",
    "\n",
    "    if trie_print:\n",
    "        print_trie(trie)\n",
    "\n",
    "    return transition, accept_states"
   ]
  },
  {
   "cell_type": "markdown",
   "metadata": {
    "pycharm": {
     "name": "#%% md\n"
    }
   },
   "source": [
    "#### Implementacja algorytmuu wyszukiwania wzorca 2-wymiarowego"
   ]
  },
  {
   "cell_type": "code",
   "execution_count": 4,
   "metadata": {
    "pycharm": {
     "name": "#%%\n"
    }
   },
   "outputs": [],
   "source": [
    "def pattern_matching_2D(text, pattern_2d, split_lines=False, print_times=False):\n",
    "    if split_lines:\n",
    "        text = text.split(\"\\n\")\n",
    "\n",
    "    patterns = [[] for _ in range(len(pattern_2d[0]))]\n",
    "    for row in pattern_2d:\n",
    "        for i, letter in enumerate(row):\n",
    "            patterns[i].append(letter)\n",
    "\n",
    "    start = time()\n",
    "    transition, accept_states = multi_patterns_transition_table(patterns)\n",
    "    if print_times:\n",
    "        print(f\"Czas budowy tablicy przejścia automatu: {round(time() - start, 4)} sek.\")\n",
    "\n",
    "    row_pattern = []\n",
    "    for pattern in patterns:\n",
    "        state = 0\n",
    "        for letter in pattern:\n",
    "            state = transition[state][letter]\n",
    "        row_pattern.append(state)\n",
    "\n",
    "    start = time()\n",
    "    width, height = len(max(text, key=len)), len(text)\n",
    "    states = [[0 for _ in range(len(line))] for line in text]\n",
    "\n",
    "    for col in range(width):\n",
    "        state = 0\n",
    "        for row in range(height):\n",
    "            if col < len(text[row]):\n",
    "                letter = text[row][col]\n",
    "                state = transition[state][letter]\n",
    "                states[row][col] = state\n",
    "            else:\n",
    "                state = 0\n",
    "\n",
    "    # [print(x) for x in states]\n",
    "    result = []\n",
    "    pattern_height = len(pattern_2d)\n",
    "    row_pattern_transition = transition_table(row_pattern)\n",
    "    for i, row in enumerate(states):\n",
    "        result += [(i - pattern_height + 1, x) for x in automaton_pattern_matching(row, row_pattern_transition)]\n",
    "\n",
    "    if print_times:\n",
    "        print(f\"Czas wyszukiwania wzorców: {round(time() - start, 4)} sek.\")\n",
    "\n",
    "    return result"
   ]
  },
  {
   "cell_type": "markdown",
   "metadata": {
    "pycharm": {
     "name": "#%% md\n"
    }
   },
   "source": [
    "#### Przykład działania dla prostych przypadków"
   ]
  },
  {
   "cell_type": "code",
   "execution_count": 5,
   "metadata": {
    "pycharm": {
     "name": "#%%\n"
    }
   },
   "outputs": [
    {
     "name": "stdout",
     "output_type": "stream",
     "text": [
      "=====[ Budowa automatu dla wielu wzorców ]=====\n",
      "WZORCE: \"ab\", \"babb\", \"bb\"\n",
      "Tablica przejścia dla wielu wzorców:\n",
      "0: {'a': 1, 'b': 3}\n",
      "1: {'a': 1, 'b': 2}\n",
      "2: {'a': 4, 'b': 7}\n",
      "3: {'a': 4, 'b': 7}\n",
      "4: {'a': 1, 'b': 5}\n",
      "5: {'a': 4, 'b': 6}\n",
      "6: {'a': 4, 'b': 7}\n",
      "7: {'a': 4, 'b': 7}\n",
      "Stany akceptujące:\n",
      "[2, 7, 5, 6]\n",
      "\n",
      "=====[ Wyszukiwanie wzorca 2D ]=====\n",
      "TEKST: \n",
      "abababb\n",
      "aaaabbb\n",
      "bbbaaab\n",
      "aaabbaa\n",
      "bbaaabb\n",
      "aabaaaa\n",
      "WZORZEC: \n",
      "aaa\n",
      "bba\n",
      "aab\n",
      "Znaleziono dopasowanie wzorca na pozycjach:\n",
      " -> wiersz: 1, kolumna: 1\n",
      " -> wiersz: 2, kolumna: 3\n",
      " -> wiersz: 3, kolumna: 0\n"
     ]
    },
    {
     "data": {
      "text/plain": [
       "[None, None, None]"
      ]
     },
     "execution_count": 5,
     "metadata": {},
     "output_type": "execute_result"
    }
   ],
   "source": [
    "multi_transition_tab, accept = multi_patterns_transition_table([\"ab\", \"babb\", \"bb\"])\n",
    "print(\"=====[ Budowa automatu dla wielu wzorców ]=====\")\n",
    "print(\"WZORCE: \\\"ab\\\", \\\"babb\\\", \\\"bb\\\"\")\n",
    "print(\"Tablica przejścia dla wielu wzorców:\")\n",
    "[print(f\"{i}: {dict(x)}\") for i, x in enumerate(multi_transition_tab)]\n",
    "print(\"Stany akceptujące:\")\n",
    "print(accept, end=\"\\n\\n\")\n",
    "\n",
    "res = pattern_matching_2D(\"abababb\\naaaabbb\\nbbbaaab\\naaabbaa\\nbbaaabb\\naabaaaa\", [\"aaa\", \"bba\", \"aab\"],\n",
    "                          split_lines=True)\n",
    "print(\"=====[ Wyszukiwanie wzorca 2D ]=====\")\n",
    "print(\"TEKST: \\nabababb\\naaaabbb\\nbbbaaab\\naaabbaa\\nbbaaabb\\naabaaaa\")\n",
    "print(\"WZORZEC: \\naaa\\nbba\\naab\")\n",
    "print(\"Znaleziono dopasowanie wzorca na pozycjach:\")\n",
    "[print(f\" -> wiersz: {row}, kolumna: {col}\") for row, col in res]"
   ]
  },
  {
   "cell_type": "code",
   "execution_count": 6,
   "metadata": {
    "pycharm": {
     "name": "#%%\n"
    }
   },
   "outputs": [
    {
     "name": "stdout",
     "output_type": "stream",
     "text": [
      "Czas budowy tablicy przejścia automatu: 0.0 sek.\n",
      "Czas wyszukiwania wzorców: 0.01 sek.\n",
      "[(37, 0)]\n"
     ]
    }
   ],
   "source": [
    "with open(\"haystack.txt\") as file:\n",
    "    haystack_text = file.read()\n",
    "\n",
    "    res = pattern_matching_2D(haystack_text, [\"t h\", \"t h\"], split_lines=True, print_times=True)\n",
    "    print(res)"
   ]
  },
  {
   "cell_type": "code",
   "execution_count": 7,
   "metadata": {
    "pycharm": {
     "name": "#%%\n"
    }
   },
   "outputs": [],
   "source": [
    "# from time import time\n",
    "#\n",
    "# def time_function(func, text):\n",
    "#     def timed_function(*args):\n",
    "#         start = time()\n",
    "#         result = func(*args)\n",
    "#         print(f\"{text}: {time() - start}\")\n",
    "#         return result\n",
    "#\n",
    "#     return timed_function\n",
    "#\n",
    "# text_ = \"qwertyuiopasdfghjklzxcvbnm\" * 1000\n",
    "# pattern_ = \"qwertyuiop\" * 100\n",
    "#\n",
    "# timed_transition_table = time_function(transition_table, \"Transition table build time\")\n",
    "# timed_automaton_string_matching = time_function(automaton_pattern_matching, \"String matching time\")\n",
    "#\n",
    "# trans_tab = timed_transition_table(pattern_)\n",
    "# timed_automaton_string_matching(text_, trans_tab)"
   ]
  },
  {
   "cell_type": "code",
   "execution_count": 63,
   "metadata": {
    "pycharm": {
     "name": "#%%\n"
    }
   },
   "outputs": [
    {
     "name": "stdout",
     "output_type": "stream",
     "text": [
      "Wybrane wzorce:\n"
     ]
    },
    {
     "data": {
      "text/plain": "<Figure size 864x216 with 4 Axes>",
      "image/png": "[encoded data removed]"
     },
     "metadata": {
      "needs_background": "light"
     },
     "output_type": "display_data"
    }
   ],
   "source": [
    "import imageio\n",
    "\n",
    "img = imageio.imread(\"haystack.png\")\n",
    "img = [[x[0] for x in im_row] for im_row in img]\n",
    "\n",
    "a = [im_row[303:312] for im_row in img[59:69]]\n",
    "b = [im_row[497:507] for im_row in img[55:69]]\n",
    "c = [im_row[589:597] for im_row in img[59:69]]\n",
    "d = [im_row[286:295] for im_row in img[55:69]]\n",
    "\n",
    "fig, axs = plt.subplots(1, 4, figsize=(12, 3))\n",
    "axs[0].imshow(a, cmap='gray')\n",
    "axs[1].imshow(b, cmap='gray')\n",
    "axs[2].imshow(c, cmap='gray')\n",
    "axs[3].imshow(d, cmap='gray')\n",
    "print(\"Wybrane wzorce:\")\n",
    "plt.show()"
   ]
  },
  {
   "cell_type": "code",
   "execution_count": 64,
   "metadata": {
    "pycharm": {
     "name": "#%%\n"
    }
   },
   "outputs": [
    {
     "name": "stdout",
     "output_type": "stream",
     "text": [
      "Liczba znalezionych wystąpień wzorca a: 397, wystąpenia na pozycjach (wiersz, kolumna): [[(37, 207), (37, 263), (37, 323), (37, 487), (37, 623), (37, 751), (59, 303), (59, 333), (59, 391), (59, 409), (59, 578), (59, 642), (59, 700), (81, 177), (81, 203), (81, 399), (81, 417), (81, 565), (81, 589), (103, 56), (103, 105), (103, 272), (103, 353), (125, 105), (125, 274), (125, 328), (125, 619), (147, 126), (147, 156), (147, 247), (147, 354), (147, 549), (147, 632), (169, 56), (169, 90), (169, 194), (169, 212), (169, 322), (169, 518), (169, 557), (169, 586), (169, 708), (191, 84), (191, 258), (191, 406), (191, 492), (191, 577), (191, 621), (191, 680), (213, 32), (213, 435), (213, 536), (235, 120), (235, 472), (235, 593), (257, 72), (257, 94), (257, 446), (279, 63), (279, 126), (279, 269), (279, 400), (279, 460), (279, 563), (301, 37), (323, 88), (323, 176), (323, 435), (323, 495), (323, 573), (345, 98), (345, 222), (345, 273), (345, 409), (345, 577), (367, 26), (367, 248), (367, 274), (367, 476), (367, 604), (367, 657), (389, 120), (389, 228), (389, 370), (389, 388), (389, 705), (411, 26), (411, 164), (433, 248), (433, 283), (433, 512), (433, 594), (433, 655), (455, 84), (455, 128), (455, 245), (455, 367), (455, 449), (455, 637), (477, 26), (477, 82), (477, 167), (477, 201), (477, 309), (477, 565), (477, 713), (499, 78), (499, 160), (499, 348), (499, 445), (499, 601), (499, 695), (499, 744), (521, 65), (521, 148), (521, 197), (521, 225), (521, 452), (543, 55), (543, 127), (543, 259), (543, 359), (543, 529), (543, 697), (565, 26), (565, 164), (565, 276), (565, 447), (565, 496), (565, 630), (587, 159), (587, 259), (587, 416), (587, 513), (587, 553), (587, 750), (631, 97), (631, 265), (631, 408), (631, 569), (653, 56), (653, 218), (653, 297), (653, 419), (653, 548), (653, 655), (675, 26), (675, 90), (675, 381), (675, 642), (697, 93), (697, 470), (697, 641), (697, 674), (719, 261), (719, 463), (719, 644), (741, 195), (741, 463), (741, 537), (741, 668), (763, 333), (763, 580), (763, 673), (763, 733), (785, 31), (785, 75), (785, 375), (785, 460), (785, 504), (785, 552), (785, 614), (785, 647), (807, 111), (807, 217), (807, 630), (829, 132), (829, 281), (829, 323), (829, 407), (829, 601), (851, 56), (851, 243), (873, 56), (873, 369), (873, 641), (895, 106), (895, 226), (917, 229), (917, 347), (939, 83), (939, 474), (939, 504), (961, 169), (961, 220), (961, 390), (961, 652), (961, 695), (983, 569), (983, 611), (1005, 44), (1005, 421), (1005, 599), (1005, 668), (1027, 167), (1027, 356), (1027, 434), (1049, 37), (1049, 171), (1049, 201), (1049, 440), (1049, 536), (1049, 585), (1071, 295), (1071, 325), (1071, 555), (1071, 588), (1071, 672), (1093, 100), (1093, 470), (1115, 436), (1115, 638), (1115, 728), (1115, 804), (1137, 80), (1137, 110), (1137, 193), (1137, 218), (1159, 165), (1181, 50), (1181, 138), (1181, 160), (1181, 182), (1181, 226), (1181, 351), (1181, 644), (1203, 132), (1203, 292), (1203, 376), (1203, 398), (1203, 451), (1203, 541), (1225, 148), (1225, 266), (1225, 351), (1225, 411), (1225, 444), (1225, 488), (1225, 589), (1225, 632), (1225, 662), (1225, 738), (1247, 153), (1247, 262), (1247, 303), (1247, 375), (1247, 393), (1269, 78), (1269, 136), (1269, 213), (1269, 566), (1291, 120), (1291, 177), (1291, 355), (1291, 414), (1291, 442), (1291, 604), (1291, 664), (1313, 45), (1313, 203), (1313, 259), (1313, 329), (1313, 351), (1313, 372), (1313, 440), (1313, 626), (1313, 699), (1335, 49), (1335, 170), (1335, 232), (1335, 331), (1335, 379), (1335, 578), (1357, 64), (1357, 150), (1357, 231), (1357, 277), (1357, 295), (1357, 575), (1357, 641), (1379, 26), (1379, 122), (1379, 268), (1379, 349), (1379, 568), (1379, 638), (1401, 132), (1401, 176), (1423, 26), (1423, 344), (1423, 384), (1423, 430), (1445, 47), (1445, 65), (1445, 146), (1445, 230), (1445, 523), (1445, 568), (1445, 712), (1467, 53), (1467, 153), (1467, 220), (1467, 269), (1467, 335), (1467, 488), (1467, 572), (1489, 182), (1489, 338), (1489, 488), (1511, 100), (1511, 224), (1511, 456), (1511, 500), (1511, 545), (1511, 672), (1533, 61), (1533, 363), (1555, 36), (1555, 93), (1555, 141), (1555, 291), (1555, 346), (1577, 345), (1577, 489), (1599, 179), (1599, 197), (1599, 322), (1599, 528), (1621, 155), (1621, 338), (1621, 678), (1643, 37), (1643, 115), (1643, 292), (1643, 484), (1643, 502), (1643, 635), (1665, 80), (1665, 662), (1687, 60), (1687, 107), (1709, 145), (1709, 167), (1709, 218), (1709, 400), (1709, 688), (1731, 191), (1731, 226), (1731, 284), (1731, 302), (1731, 343), (1731, 387), (1731, 438), (1731, 508), (1731, 559), (1731, 617), (1731, 685), (1753, 266), (1753, 309), (1753, 390), (1753, 497), (1753, 555), (1753, 573), (1775, 26), (1775, 77), (1775, 361), (1775, 406), (1775, 509), (1775, 561), (1775, 589), (1797, 69), (1797, 189), (1797, 308), (1797, 366), (1797, 384), (1797, 626), (1797, 682), (1819, 239), (1819, 406), (1841, 43), (1841, 218), (1841, 408), (1841, 498), (1863, 26), (1863, 72), (1863, 317), (1863, 386)]\n",
      "Liczba znalezionych wystąpień wzorca b: 56, wystąpenia na pozycjach (wiersz, kolumna): [[(33, 694), (55, 497), (77, 26), (143, 37), (143, 460), (143, 538), (143, 560), (209, 316), (253, 284), (275, 26), (319, 77), (319, 227), (341, 379), (363, 197), (385, 399), (385, 694), (429, 174), (473, 410), (539, 387), (539, 468), (583, 581), (693, 296), (693, 492), (803, 335), (891, 55), (891, 123), (913, 393), (957, 575), (979, 455), (1001, 514), (1067, 26), (1089, 111), (1089, 387), (1309, 153), (1309, 383), (1353, 122), (1375, 150), (1375, 616), (1397, 287), (1441, 677), (1463, 352), (1507, 26), (1551, 240), (1573, 219), (1573, 461), (1573, 576), (1617, 472), (1639, 367), (1661, 46), (1661, 364), (1683, 49), (1705, 631), (1727, 462), (1771, 210), (1815, 278), (1859, 232)]\n",
      "Liczba znalezionych wystąpień wzorca c: 213, wystąpenia na pozycjach (wiersz, kolumna): [[(59, 370), (59, 420), (59, 589), (59, 690), (81, 328), (81, 378), (81, 428), (81, 506), (81, 670), (103, 46), (103, 307), (103, 484), (103, 681), (125, 116), (125, 481), (125, 686), (147, 64), (147, 593), (169, 173), (169, 223), (169, 434), (169, 444), (169, 644), (169, 681), (191, 164), (213, 43), (213, 165), (235, 94), (235, 208), (235, 301), (257, 26), (257, 436), (257, 468), (257, 569), (257, 606), (257, 657), (279, 355), (279, 411), (279, 433), (279, 644), (301, 48), (323, 113), (323, 425), (323, 591), (345, 109), (345, 119), (345, 628), (367, 647), (389, 246), (389, 320), (389, 730), (411, 108), (433, 425), (433, 468), (477, 327), (477, 583), (477, 703), (521, 138), (543, 349), (543, 446), (543, 599), (565, 486), (587, 82), (587, 249), (587, 287), (587, 543), (631, 115), (631, 431), (653, 315), (653, 398), (653, 504), (675, 392), (675, 402), (697, 423), (697, 460), (697, 602), (719, 104), (741, 435), (763, 57), (763, 83), (763, 289), (763, 438), (785, 143), (785, 258), (807, 267), (807, 647), (829, 86), (829, 242), (829, 729), (851, 141), (851, 278), (851, 447), (851, 518), (851, 671), (873, 475), (895, 205), (917, 185), (917, 495), (917, 527), (939, 26), (961, 26), (961, 231), (961, 494), (961, 526), (961, 663), (961, 685), (983, 369), (983, 530), (1005, 679), (1005, 689), (1027, 141), (1027, 178), (1027, 188), (1027, 289), (1027, 395), (1027, 469), (1027, 638), (1049, 252), (1049, 413), (1049, 451), (1049, 461), (1049, 526), (1071, 149), (1071, 376), (1071, 599), (1093, 277), (1093, 575), (1093, 641), (1115, 46), (1115, 107), (1115, 373), (1115, 453), (1115, 486), (1115, 524), (1115, 745), (1181, 576), (1203, 441), (1203, 605), (1225, 562), (1247, 164), (1247, 354), (1247, 404), (1247, 463), (1269, 126), (1269, 347), (1313, 35), (1335, 401), (1357, 221), (1357, 306), (1357, 370), (1357, 565), (1379, 112), (1401, 309), (1401, 418), (1423, 230), (1423, 612), (1445, 26), (1445, 76), (1445, 349), (1467, 259), (1467, 452), (1489, 132), (1489, 607), (1489, 639), (1511, 85), (1511, 177), (1511, 214), (1511, 535), (1533, 26), (1533, 238), (1533, 248), (1533, 353), (1555, 26), (1555, 331), (1555, 454), (1577, 71), (1577, 335), (1577, 500), (1577, 604), (1599, 26), (1599, 158), (1599, 208), (1599, 295), (1599, 686), (1621, 223), (1643, 133), (1643, 553), (1665, 165), (1665, 237), (1665, 470), (1665, 618), (1687, 85), (1687, 118), (1709, 135), (1709, 229), (1709, 506), (1731, 570), (1753, 54), (1753, 277), (1753, 299), (1753, 412), (1753, 660), (1775, 88), (1797, 548), (1797, 656), (1819, 54), (1819, 583), (1841, 385), (1841, 419), (1841, 429), (1841, 677), (1863, 397), (1863, 407)]\n",
      "Liczba znalezionych wystąpień wzorca d: 137, wystąpenia na pozycjach (wiersz, kolumna): [[(33, 229), (55, 286), (55, 480), (77, 123), (99, 88), (99, 438), (121, 71), (165, 730), (187, 350), (187, 428), (209, 669), (253, 116), (253, 211), (253, 238), (253, 694), (275, 79), (275, 229), (275, 482), (319, 467), (341, 57), (341, 295), (341, 346), (363, 419), (429, 75), (429, 294), (429, 452), (429, 628), (451, 274), (451, 581), (495, 292), (517, 48), (517, 180), (517, 424), (539, 415), (539, 490), (539, 749), (561, 186), (561, 384), (583, 375), (627, 198), (627, 586), (671, 137), (671, 194), (671, 295), (693, 340), (715, 42), (715, 673), (715, 747), (737, 99), (737, 361), (737, 581), (759, 273), (759, 609), (781, 669), (803, 234), (803, 386), (803, 483), (825, 569), (825, 635), (847, 169), (847, 324), (847, 364), (847, 546), (847, 649), (869, 201), (913, 169), (913, 376), (935, 105), (935, 318), (935, 619), (957, 258), (957, 373), (979, 143), (979, 438), (1001, 274), (1001, 621), (1023, 501), (1023, 616), (1023, 714), (1045, 154), (1045, 568), (1045, 629), (1067, 91), (1067, 237), (1067, 278), (1089, 323), (1089, 499), (1111, 315), (1111, 419), (1111, 591), (1155, 66), (1155, 148), (1177, 171), (1177, 694), (1221, 103), (1221, 170), (1221, 615), (1243, 337), (1265, 256), (1265, 481), (1265, 583), (1265, 647), (1309, 220), (1309, 510), (1331, 66), (1331, 130), (1353, 105), (1375, 656), (1419, 87), (1463, 430), (1485, 211), (1485, 669), (1507, 474), (1529, 120), (1529, 407), (1529, 549), (1551, 375), (1551, 669), (1573, 49), (1573, 559), (1573, 650), (1595, 483), (1595, 550), (1617, 367), (1617, 586), (1639, 321), (1639, 473), (1661, 212), (1661, 287), (1661, 602), (1771, 428), (1815, 328), (1815, 534), (1837, 351), (1837, 570), (1859, 48), (1859, 339)]\n"
     ]
    }
   ],
   "source": [
    "def highlight_letter(image, letter_img, pattern_matches):\n",
    "    for row, col in pattern_matches:\n",
    "        for i in range(len(letter_img)):\n",
    "            for j in range(len(letter_img[0])):\n",
    "                image[row + i][col + j] -= 100\n",
    "                image[row + i][col + j] = min(img[row + i][col + j], 0)\n",
    "\n",
    "for letter, letter_str in [(a, \"a\"), (b, \"b\"), (c, \"c\"), (d, \"d\")]:\n",
    "    results = pattern_matching_2D(img, letter)\n",
    "    highlight_letter(img, letter, results)\n",
    "    print(f\"Liczba znalezionych wystąpień wzorca {letter_str}: {len(results)}, wystąpenia na pozycjach (wiersz, kolumna): [{[x for x in results]}\")\n",
    "\n",
    "# results = pattern_matching_2D(img, a)\n",
    "# highlight_letter(img, a, results)\n",
    "# # print(results)\n",
    "#\n",
    "#\n",
    "# plt.figure(figsize=(25, 25))\n",
    "# plt.imshow(img, cmap='gray')\n",
    "# plt.show()"
   ]
  },
  {
   "cell_type": "code",
   "execution_count": null,
   "outputs": [],
   "source": [],
   "metadata": {
    "collapsed": false,
    "pycharm": {
     "name": "#%%\n"
    }
   }
  }
 ],
 "metadata": {
  "kernelspec": {
   "display_name": "Python 3",
   "language": "python",
   "name": "python3"
  },
  "language_info": {
   "codemirror_mode": {
    "name": "ipython",
    "version": 3
   },
   "file_extension": ".py",
   "mimetype": "text/x-python",
   "name": "python",
   "nbconvert_exporter": "python",
   "pygments_lexer": "ipython3",
   "version": "3.8.8"
  }
 },
 "nbformat": 4,
 "nbformat_minor": 1
}